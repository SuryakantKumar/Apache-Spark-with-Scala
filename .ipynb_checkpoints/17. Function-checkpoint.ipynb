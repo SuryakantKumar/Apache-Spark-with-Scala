{
 "cells": [
  {
   "cell_type": "markdown",
   "id": "41a2e452-4874-43c4-b0f4-b5433d43fc21",
   "metadata": {},
   "source": [
    "## Function in Scala\n",
    "\n",
    "Scala is assumed as functional programming language.\n",
    "\n",
    "A function is a collection of statements that perform a certain task. It makes easier to debug and modify the code.\n",
    "\n",
    "Scala functions are first class values.\n",
    "\n",
    "Syntax: \n",
    "```scala\n",
    "def function_name([parameter_list]) : [return_type] = \n",
    "{\n",
    "   // function body\n",
    "}\n",
    "```"
   ]
  },
  {
   "cell_type": "markdown",
   "id": "2406976f-ab39-4321-9086-bcfbabc8a63a",
   "metadata": {},
   "source": [
    "* `def` keyword is used to declare a function in Scala.\n",
    "\n",
    "* We don't need to specify `val` or `var` for function arguments."
   ]
  },
  {
   "cell_type": "markdown",
   "id": "16f059ff-497c-4f93-942d-74be7677b455",
   "metadata": {},
   "source": [
    "### Function Calling\n",
    "\n",
    "There are mainly two ways to call the function in Scala :\n",
    "\n",
    "* First way is the standard way as follows:\n",
    "\n",
    "```scala\n",
    "function_name(paramter_list)\n",
    "```\n",
    "\n",
    "* In the Second way, a user can also call the function with the help of the instance and dot notation as follows:\n",
    "\n",
    "```scala\n",
    "[instance].function_name(paramter_list)\n",
    "```"
   ]
  },
  {
   "cell_type": "code",
   "execution_count": 1,
   "id": "2fde4011-4a20-4624-b8ad-a2e34b9e1b55",
   "metadata": {},
   "outputs": [
    {
     "data": {
      "text/plain": [
       "Intitializing Scala interpreter ..."
      ]
     },
     "metadata": {},
     "output_type": "display_data"
    },
    {
     "data": {
      "text/plain": [
       "Spark Web UI available at http://192.168.29.42:4044\n",
       "SparkContext available as 'sc' (version = 3.3.0, master = local[*], app id = local-1670099148879)\n",
       "SparkSession available as 'spark'\n"
      ]
     },
     "metadata": {},
     "output_type": "display_data"
    },
    {
     "name": "stdout",
     "output_type": "stream",
     "text": [
      "Sum is: 8\n"
     ]
    },
    {
     "data": {
      "text/plain": [
       "functionToAdd: (a: Int, b: Int)Int\n"
      ]
     },
     "execution_count": 1,
     "metadata": {},
     "output_type": "execute_result"
    }
   ],
   "source": [
    "// declaration and definition of function\n",
    "def functionToAdd(a: Int, b: Int) : Int =\n",
    "{\n",
    "    var sum: Int = 0\n",
    "    sum = a + b\n",
    "\n",
    "    return sum\n",
    "}\n",
    "\n",
    "// Calling the function\n",
    "println(\"Sum is: \" + functionToAdd(5, 3));"
   ]
  },
  {
   "cell_type": "markdown",
   "id": "fc992a61-60da-4d4d-b54d-560013722e22",
   "metadata": {},
   "source": [
    "* We don't necessasarily need to write `return` statement while returing any value from the function."
   ]
  },
  {
   "cell_type": "code",
   "execution_count": 2,
   "id": "963a1a6c-99be-4db3-8faa-ef1ef7e261f7",
   "metadata": {},
   "outputs": [
    {
     "name": "stdout",
     "output_type": "stream",
     "text": [
      "Sum is: 8\n"
     ]
    },
    {
     "data": {
      "text/plain": [
       "functionToAdd: (a: Int, b: Int)Int\n"
      ]
     },
     "execution_count": 2,
     "metadata": {},
     "output_type": "execute_result"
    }
   ],
   "source": [
    "// declaration and definition of function\n",
    "def functionToAdd(a: Int, b: Int) : Int =\n",
    "{\n",
    "    var sum: Int = 0\n",
    "    sum = a + b\n",
    "\n",
    "    sum\n",
    "}\n",
    "\n",
    "// Calling the function\n",
    "println(\"Sum is: \" + functionToAdd(5, 3));"
   ]
  },
  {
   "cell_type": "markdown",
   "id": "30190514-c91d-4c8c-a7d8-8ba3570b8447",
   "metadata": {},
   "source": [
    "### Anonymous Function in Scala\n",
    "\n",
    "In Scala, An anonymous function is also known as a function literal. A function which does not contain a name is known as an anonymous function.\n",
    "\n",
    "Syntax : \n",
    "```scala\n",
    "(z: Int, y: Int) => z*y\n",
    "\n",
    "Or\n",
    "\n",
    "(_: Int)*(_: Int)\n",
    "```"
   ]
  },
  {
   "cell_type": "code",
   "execution_count": 3,
   "id": "6a06de6d-8af9-4b34-a188-2db35f985538",
   "metadata": {},
   "outputs": [
    {
     "name": "stdout",
     "output_type": "stream",
     "text": [
      "abc12def\n",
      "abcforme\n"
     ]
    },
    {
     "data": {
      "text/plain": [
       "myfc1: (String, String) => String = $Lambda$2028/0x000000080199a6a8@47d49ccf\n",
       "myfc2: (String, String) => String = $Lambda$2029/0x000000080199ac48@43b1e74\n"
      ]
     },
     "execution_count": 3,
     "metadata": {},
     "output_type": "execute_result"
    }
   ],
   "source": [
    "// Creating Anonymous function with multiple parameters\n",
    "var myfc1 = (str1: String, str2: String) => str1 + str2\n",
    "\n",
    "// An anonymous function is created using _ wildcard instead of variable name because str1 and str2 variable appear only once \n",
    "var myfc2 = (_: String) + (_: String)\n",
    "\n",
    "// Here, the variable invoke like a function call\n",
    "println(myfc1(\"abc\", \"12def\"))\n",
    "println(myfc2(\"abc\", \"forme\"))"
   ]
  },
  {
   "cell_type": "markdown",
   "id": "e598d47d-e6bd-4508-b82b-ac79cccf0cc6",
   "metadata": {},
   "source": [
    "### Scala Nested Functions\n",
    "\n",
    "A function definition inside an another function is known as `Nested` Function or `Local` Function.\n",
    "\n",
    "Syntax : \n",
    "```scala\n",
    "def Function1(parameter1, paramete2, ..) = \n",
    "{\n",
    "    def Function2() = \n",
    "    {\n",
    "        // code\n",
    "    }\n",
    "}\n",
    "```"
   ]
  },
  {
   "cell_type": "code",
   "execution_count": 4,
   "id": "bda2f8e5-c5b3-4c74-87b6-e29cd4c57090",
   "metadata": {},
   "outputs": [
    {
     "name": "stdout",
     "output_type": "stream",
     "text": [
      "Max is: 7\n",
      "Min is: 5\n"
     ]
    },
    {
     "data": {
      "text/plain": [
       "maxAndMin: (a: Int, b: Int)Unit\n"
      ]
     },
     "execution_count": 4,
     "metadata": {},
     "output_type": "execute_result"
    }
   ],
   "source": [
    "def maxAndMin(a: Int, b: Int) = \n",
    "{\n",
    "    def maxValue() = \n",
    "    { \n",
    "        if(a > b) \n",
    "        {\n",
    "            println(\"Max is: \" + a)\n",
    "        }\n",
    "        else\n",
    "        {\n",
    "            println(\"Max is: \" + b)\n",
    "        }\n",
    "    }\n",
    "\n",
    "    def minValue() = \n",
    "    {\n",
    "        if (a < b)\n",
    "        {\n",
    "            println(\"Min is: \" + a)\n",
    "        }\n",
    "        else\n",
    "        {\n",
    "            println(\"Min is: \" + b)\n",
    "        }\n",
    "    }\n",
    "    maxValue();\n",
    "    minValue();\n",
    "}\n",
    "\n",
    "maxAndMin(5, 7);"
   ]
  },
  {
   "cell_type": "markdown",
   "id": "8f782afd-1c55-44af-9bc1-b93e20dd34c5",
   "metadata": {},
   "source": [
    "### Currying Functions in Scala\n",
    "\n",
    "Currying in Scala is simply a technique or a process of `transforming` a function. This function takes multiple arguments including function that takes single argument.\n",
    "\n",
    "Syntax : \n",
    "```scala\n",
    "def function_name(argument1, argument2) = operation\n",
    "```"
   ]
  },
  {
   "cell_type": "code",
   "execution_count": 5,
   "id": "724342e4-242b-40ad-8054-4827fca31001",
   "metadata": {},
   "outputs": [
    {
     "data": {
      "text/plain": [
       "id: (x: Int)Int\n",
       "square: (x: Int)Int\n",
       "cube: (x: Int)Int\n",
       "sum: (func: Int => Int, start: Int, end: Int)Int\n"
      ]
     },
     "execution_count": 5,
     "metadata": {},
     "output_type": "execute_result"
    }
   ],
   "source": [
    "def id(x: Int) = x;\n",
    "\n",
    "def square(x: Int) = x * x;\n",
    "\n",
    "def cube(x: Int) = x * x * x;\n",
    "\n",
    "def sum(func: Int => Int, start: Int, end: Int) : Int =\n",
    "{\n",
    "    var value = 0\n",
    "    for(ele <- start to end)\n",
    "    {\n",
    "        value += func(ele)\n",
    "    }\n",
    "    return value\n",
    "}"
   ]
  },
  {
   "cell_type": "code",
   "execution_count": 6,
   "id": "389e449a-4c35-4735-94c9-9af52c7a17a2",
   "metadata": {},
   "outputs": [
    {
     "name": "stdout",
     "output_type": "stream",
     "text": [
      "55"
     ]
    }
   ],
   "source": [
    "print(sum(id, 1, 10))"
   ]
  },
  {
   "cell_type": "code",
   "execution_count": 7,
   "id": "424d9964-c0e3-4d41-9c44-f41207087d53",
   "metadata": {},
   "outputs": [
    {
     "name": "stdout",
     "output_type": "stream",
     "text": [
      "385"
     ]
    }
   ],
   "source": [
    "print(sum(square, 1, 10))"
   ]
  },
  {
   "cell_type": "code",
   "execution_count": 8,
   "id": "42faa1dc-b1ca-4854-b79c-fcde7696b592",
   "metadata": {},
   "outputs": [
    {
     "name": "stdout",
     "output_type": "stream",
     "text": [
      "3025"
     ]
    }
   ],
   "source": [
    "print(sum(cube, 1, 10))"
   ]
  }
 ],
 "metadata": {
  "kernelspec": {
   "display_name": "spylon-kernel",
   "language": "scala",
   "name": "spylon-kernel"
  },
  "language_info": {
   "codemirror_mode": "text/x-scala",
   "file_extension": ".scala",
   "help_links": [
    {
     "text": "MetaKernel Magics",
     "url": "https://metakernel.readthedocs.io/en/latest/source/README.html"
    }
   ],
   "mimetype": "text/x-scala",
   "name": "scala",
   "pygments_lexer": "scala",
   "version": "0.4.1"
  }
 },
 "nbformat": 4,
 "nbformat_minor": 5
}
