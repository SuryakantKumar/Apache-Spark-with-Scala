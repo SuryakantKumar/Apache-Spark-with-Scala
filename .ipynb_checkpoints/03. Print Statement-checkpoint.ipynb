{
 "cells": [
  {
   "cell_type": "markdown",
   "id": "a11e02ed-2e78-4183-9e27-da8b8da4ee6e",
   "metadata": {},
   "source": [
    "## Print Statement\n",
    "\n",
    "Console implements functions for displaying the stated values on the terminal i.e, with `print`, `println`, and `printf`, we can post to the display. \n",
    "\n",
    "It is also utilized in reading values from the Console with the function from `scala.io.StdIn`\n",
    "\n",
    "* `println` : It is utilized in putting down values to the Console and moreover computes a trailing newline. we can pass any types as argument to it.\n",
    "\n",
    "* `print` : It is equivalent to println but it does not computes any trailing line. It puts down the data to the beginning of the line.\n",
    "\n",
    "* `printf` : This is helpful in writing format strings and also places extra arguments. "
   ]
  },
  {
   "cell_type": "code",
   "execution_count": 1,
   "id": "d8e56ab1-cb37-4be2-b90a-aa663e1d0a6e",
   "metadata": {},
   "outputs": [
    {
     "data": {
      "text/plain": [
       "Intitializing Scala interpreter ..."
      ]
     },
     "metadata": {},
     "output_type": "display_data"
    },
    {
     "data": {
      "text/plain": [
       "Spark Web UI available at http://192.168.29.42:4042\n",
       "SparkContext available as 'sc' (version = 3.3.0, master = local[*], app id = local-1669965229103)\n",
       "SparkSession available as 'spark'\n"
      ]
     },
     "metadata": {},
     "output_type": "display_data"
    },
    {
     "name": "stdout",
     "output_type": "stream",
     "text": [
      "Suryakant\n"
     ]
    }
   ],
   "source": [
    "// Applying console with println\n",
    "Console.println(\"Suryakant\")"
   ]
  },
  {
   "cell_type": "code",
   "execution_count": 2,
   "id": "753e8950-9ffb-4077-994d-4e712a75c26e",
   "metadata": {},
   "outputs": [
    {
     "name": "stdout",
     "output_type": "stream",
     "text": [
      "CSE_portal"
     ]
    }
   ],
   "source": [
    "// Displays output with no trailing lines\n",
    "print(\"CSE\")\n",
    "print(\"_portal\")"
   ]
  },
  {
   "cell_type": "code",
   "execution_count": 3,
   "id": "da4b6c62-c84d-427d-8005-f5935a96801c",
   "metadata": {},
   "outputs": [
    {
     "name": "stdout",
     "output_type": "stream",
     "text": [
      "New line after this line\n"
     ]
    }
   ],
   "source": [
    "// Used for a newline\n",
    "println(\"New line after this line\")"
   ]
  },
  {
   "cell_type": "code",
   "execution_count": 4,
   "id": "2be9de7e-2a08-44cc-9482-3fbfaf108475",
   "metadata": {},
   "outputs": [
    {
     "name": "stdout",
     "output_type": "stream",
     "text": [
      "Age = 24"
     ]
    }
   ],
   "source": [
    "// Displays format string\n",
    "printf(\"Age = %d\", 24)"
   ]
  }
 ],
 "metadata": {
  "kernelspec": {
   "display_name": "spylon-kernel",
   "language": "scala",
   "name": "spylon-kernel"
  },
  "language_info": {
   "codemirror_mode": "text/x-scala",
   "file_extension": ".scala",
   "help_links": [
    {
     "text": "MetaKernel Magics",
     "url": "https://metakernel.readthedocs.io/en/latest/source/README.html"
    }
   ],
   "mimetype": "text/x-scala",
   "name": "scala",
   "pygments_lexer": "scala",
   "version": "0.4.1"
  }
 },
 "nbformat": 4,
 "nbformat_minor": 5
}
