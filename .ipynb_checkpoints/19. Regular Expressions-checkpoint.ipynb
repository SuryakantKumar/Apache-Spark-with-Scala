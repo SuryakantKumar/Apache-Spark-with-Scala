{
 "cells": [
  {
   "cell_type": "markdown",
   "id": "7dfefe40-cc0f-4a59-9fee-61a6db79eb04",
   "metadata": {},
   "source": [
    "## Regular Expressions in Scala\n",
    "\n",
    "`Regular Expressions` explain a common pattern utilized to match a series of input data. So, it is helpful in Pattern Matching in numerous programming languages. \n",
    "\n",
    "In Scala, Regular Expressions are generally termed as `Scala Regex`.\n",
    "\n",
    "`Regex` is a class which is imported from the package `scala.util.matching.Regex` and it is extensively applied in `searching` and `text parsing`. \n",
    "\n",
    "In order to recast a string into a Regular Expressions, we need to make use of `r()` method with the stated string."
   ]
  },
  {
   "cell_type": "code",
   "execution_count": 1,
   "id": "55ad9b7d-7f63-4f8e-9f7b-d1dd86fed8e3",
   "metadata": {},
   "outputs": [
    {
     "data": {
      "text/plain": [
       "Intitializing Scala interpreter ..."
      ]
     },
     "metadata": {},
     "output_type": "display_data"
    },
    {
     "data": {
      "text/plain": [
       "Spark Web UI available at http://192.168.1.138:4042\n",
       "SparkContext available as 'sc' (version = 3.3.0, master = local[*], app id = local-1670241755871)\n",
       "SparkSession available as 'spark'\n"
      ]
     },
     "metadata": {},
     "output_type": "display_data"
    },
    {
     "name": "stdout",
     "output_type": "stream",
     "text": [
      "Some(Udemy)\n"
     ]
    },
    {
     "data": {
      "text/plain": [
       "portal: scala.util.matching.Regex = Udemy\n",
       "CS: String = Udemy is a CS portal.\n"
      ]
     },
     "execution_count": 1,
     "metadata": {},
     "output_type": "execute_result"
    }
   ],
   "source": [
    "// Applying r() method\n",
    "val portal = \"Udemy\".r\n",
    "val CS = \"Udemy is a CS portal.\"\n",
    "\n",
    "// Displays the first match\n",
    "println(portal findFirstIn CS)"
   ]
  },
  {
   "cell_type": "markdown",
   "id": "94105a78-d0ef-40f7-8b11-1a12f781319b",
   "metadata": {},
   "source": [
    "* Here, we have called the method `r()` on the string to obtain an instance of `Regex` class, in order to create a pattern. \n",
    "\n",
    "* The method `findFirstIn()` is utilized in the above code to find the first match of the Regular Expression.\n",
    "\n",
    "* In order to find all the matching word in the expression, use `findAllIn()` method."
   ]
  },
  {
   "cell_type": "markdown",
   "id": "6905538e-6327-44c3-8392-8f293bc09f7b",
   "metadata": {},
   "source": [
    "We can even use `constructor of Regex` in place of `r()` method. \n",
    "\n",
    "Here, `replaceFirstIn()` method is utilized to replace the first match of the stated string and we can even replace all the matches using `replaceAllIn()` method."
   ]
  },
  {
   "cell_type": "code",
   "execution_count": 2,
   "id": "f46c4146-97e7-45cf-8bf4-4c77ba7e6cfe",
   "metadata": {},
   "outputs": [
    {
     "name": "stdout",
     "output_type": "stream",
     "text": [
      "My name is Suryakant Kumar.\n"
     ]
    },
    {
     "data": {
      "text/plain": [
       "import scala.util.matching.Regex\n",
       "x: scala.util.matching.Regex = Rahul\n",
       "myself: String = My name is Rahul Kumar.\n"
      ]
     },
     "execution_count": 2,
     "metadata": {},
     "output_type": "execute_result"
    }
   ],
   "source": [
    "import scala.util.matching.Regex\n",
    "\n",
    "// Applying Regex class\n",
    "val x = new Regex(\"Rahul\")\n",
    "val myself = \"My name is Rahul Kumar.\"\n",
    "\n",
    "// replaces first match with the String given below\n",
    "println(x replaceFirstIn(myself, \"Suryakant\"))"
   ]
  },
  {
   "cell_type": "markdown",
   "id": "058dbb17-4629-4807-82bf-df30ac4595b9",
   "metadata": {},
   "source": [
    "Here, we have used `mkString` method to concatenate all the matches, separated by a separator.\n",
    "\n",
    "A pipe (|) is used in the above code to search both `upper` and `lower` case in the string given."
   ]
  },
  {
   "cell_type": "code",
   "execution_count": 3,
   "id": "3a8ab65f-3c99-4731-8198-d5597bb38118",
   "metadata": {},
   "outputs": [
    {
     "name": "stdout",
     "output_type": "stream",
     "text": [
      "Udemy, udemy\n"
     ]
    },
    {
     "data": {
      "text/plain": [
       "import scala.util.matching.Regex\n",
       "x: scala.util.matching.Regex = (U|u)demy\n",
       "y: String = Udemy is a CS portal. I like udemy\n"
      ]
     },
     "execution_count": 3,
     "metadata": {},
     "output_type": "execute_result"
    }
   ],
   "source": [
    "import scala.util.matching.Regex\n",
    "  \n",
    "// Applying Regex class\n",
    "val x = new Regex(\"(U|u)demy\")\n",
    "val y = \"Udemy is a CS portal. I like udemy\"\n",
    "\n",
    "// Displays all the matches separated by a separator\n",
    "println((x findAllIn y).mkString(\", \"))"
   ]
  },
  {
   "cell_type": "markdown",
   "id": "2b9f7e83-37ff-42ab-8196-9969e579e8dc",
   "metadata": {},
   "source": [
    "### Syntax for Scala Regular Expressions\n",
    "\n",
    "```\n",
    "Subexpression        Matches\n",
    "^                    To match starting point of the line.\n",
    "$                    To match terminating point of the line.\n",
    ".                    To match any one character excluding the newline.\n",
    "[…]                  To match any one character within the brackets.\n",
    "[^…]                 To match any one character which is not in the brackets.\n",
    "\\\\A                  To match starting point of the intact string.\n",
    "\\\\z                  To match terminating point of the intact string.\n",
    "\\\\Z                  To match end of the whole string excluding the new line, if it exists.\n",
    "re*                  To match zero or more appearances of the foregoing expressions.\n",
    "re+                  To match one or more of the foregoing expressions.\n",
    "re?                  To match zero or one appearance of the foregoing expression.\n",
    "re{ n}               To matches precisely n number of appearances of the foregoing expression.\n",
    "re{ n, }             To match n or more appearances of the foregoing expression.\n",
    "re{ n, m}            To match at least n and at most m appearances of the foregoing expression.\n",
    "q|r                  To match either q or r.\n",
    "(re)                 To group the Regular expressions and recollects the text that are matched.\n",
    "(?: re)              To group the regular expressions but does not recollects the matched text.\n",
    "(?> re)              To match self-reliant pattern in absence of backtracking.\n",
    "\\\\w                  To match characters of the word.\n",
    "\\\\W                  To match characters of the non-word.\n",
    "\\\\s                  To match white spaces which are analogous to [\\t\\n\\r\\f].\n",
    "\\\\S                  To match non-white spaces.\n",
    "\\\\d                  To match the digits i.e, [0-9].\n",
    "\\\\D                  To match non-digits.\n",
    "\\\\G                  To match the point where the endmost match overs.\n",
    "\\\\n                  For back-reference to occupy group number n.\n",
    "\\\\b                  To match the word frontiers when it is out of the brackets and matches the backspace when it is in the brackets.\n",
    "\\\\B                  To match non-word frontiers.\n",
    "\\\\n, \\\\t, etc.       To match the newlines, tabs, etc.\n",
    "\\\\Q                  To escape (quote) each of the characters till \\\\E.\n",
    "\\\\E                  Used in ends quoting starting with \\\\Q.\n",
    "```"
   ]
  }
 ],
 "metadata": {
  "kernelspec": {
   "display_name": "spylon-kernel",
   "language": "scala",
   "name": "spylon-kernel"
  },
  "language_info": {
   "codemirror_mode": "text/x-scala",
   "file_extension": ".scala",
   "help_links": [
    {
     "text": "MetaKernel Magics",
     "url": "https://metakernel.readthedocs.io/en/latest/source/README.html"
    }
   ],
   "mimetype": "text/x-scala",
   "name": "scala",
   "pygments_lexer": "scala",
   "version": "0.4.1"
  }
 },
 "nbformat": 4,
 "nbformat_minor": 5
}
