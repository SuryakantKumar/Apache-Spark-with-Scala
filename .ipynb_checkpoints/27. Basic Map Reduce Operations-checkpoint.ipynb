{
 "cells": [
  {
   "cell_type": "markdown",
   "id": "51d2878a-4784-413e-818d-21daf4a23d23",
   "metadata": {},
   "source": [
    "## Basic Map Reduce Operations"
   ]
  },
  {
   "cell_type": "markdown",
   "id": "fff61e73-4553-4d57-8564-88e94075c591",
   "metadata": {},
   "source": [
    "* We can create range of values using `to` operator."
   ]
  },
  {
   "cell_type": "code",
   "execution_count": 1,
   "id": "75f8357b-0fce-46fb-9040-d2ee57531e0f",
   "metadata": {},
   "outputs": [
    {
     "data": {
      "text/plain": [
       "Intitializing Scala interpreter ..."
      ]
     },
     "metadata": {},
     "output_type": "display_data"
    },
    {
     "data": {
      "text/plain": [
       "Spark Web UI available at http://172.20.10.2:4043\n",
       "SparkContext available as 'sc' (version = 3.3.0, master = local[*], app id = local-1670323183712)\n",
       "SparkSession available as 'spark'\n"
      ]
     },
     "metadata": {},
     "output_type": "display_data"
    },
    {
     "data": {
      "text/plain": [
       "range: scala.collection.immutable.Range.Inclusive = Range 1 to 100\n"
      ]
     },
     "execution_count": 1,
     "metadata": {},
     "output_type": "execute_result"
    }
   ],
   "source": [
    "val range = (1 to 100)"
   ]
  },
  {
   "cell_type": "markdown",
   "id": "bf42a36d-6577-4127-b9d8-f0343924687b",
   "metadata": {},
   "source": [
    "* We can convert `range` to any other Sequence like `Array`, `List` or `Set`."
   ]
  },
  {
   "cell_type": "code",
   "execution_count": 2,
   "id": "c5cbd1aa-d4ee-4fc1-a8ef-c4c5d8f848fa",
   "metadata": {},
   "outputs": [
    {
     "data": {
      "text/plain": [
       "range_to_list: List[Int] = List(1, 2, 3, 4, 5, 6, 7, 8, 9, 10, 11, 12, 13, 14, 15, 16, 17, 18, 19, 20, 21, 22, 23, 24, 25, 26, 27, 28, 29, 30, 31, 32, 33, 34, 35, 36, 37, 38, 39, 40, 41, 42, 43, 44, 45, 46, 47, 48, 49, 50, 51, 52, 53, 54, 55, 56, 57, 58, 59, 60, 61, 62, 63, 64, 65, 66, 67, 68, 69, 70, 71, 72, 73, 74, 75, 76, 77, 78, 79, 80, 81, 82, 83, 84, 85, 86, 87, 88, 89, 90, 91, 92, 93, 94, 95, 96, 97, 98, 99, 100)\n"
      ]
     },
     "execution_count": 2,
     "metadata": {},
     "output_type": "execute_result"
    }
   ],
   "source": [
    "val range_to_list = (1 to 100).toList"
   ]
  },
  {
   "cell_type": "code",
   "execution_count": 3,
   "id": "d775e77a-c961-4153-984a-15ebb055e1e6",
   "metadata": {},
   "outputs": [
    {
     "data": {
      "text/plain": [
       "range_to_array: Array[Int] = Array(1, 2, 3, 4, 5, 6, 7, 8, 9, 10, 11, 12, 13, 14, 15, 16, 17, 18, 19, 20, 21, 22, 23, 24, 25, 26, 27, 28, 29, 30, 31, 32, 33, 34, 35, 36, 37, 38, 39, 40, 41, 42, 43, 44, 45, 46, 47, 48, 49, 50, 51, 52, 53, 54, 55, 56, 57, 58, 59, 60, 61, 62, 63, 64, 65, 66, 67, 68, 69, 70, 71, 72, 73, 74, 75, 76, 77, 78, 79, 80, 81, 82, 83, 84, 85, 86, 87, 88, 89, 90, 91, 92, 93, 94, 95, 96, 97, 98, 99, 100)\n"
      ]
     },
     "execution_count": 3,
     "metadata": {},
     "output_type": "execute_result"
    }
   ],
   "source": [
    "val range_to_array = (1 to 100).toArray"
   ]
  },
  {
   "cell_type": "code",
   "execution_count": 4,
   "id": "11c22523-5191-4ae6-b718-3135b4311163",
   "metadata": {},
   "outputs": [
    {
     "data": {
      "text/plain": [
       "range_to_set: scala.collection.immutable.Set[Int] = Set(69, 88, 5, 10, 56, 42, 24, 37, 25, 52, 14, 20, 46, 93, 57, 78, 29, 84, 61, 89, 1, 74, 6, 60, 85, 28, 38, 70, 21, 33, 92, 65, 97, 9, 53, 77, 96, 13, 41, 73, 2, 32, 34, 45, 64, 17, 22, 44, 59, 27, 71, 12, 54, 49, 86, 81, 76, 7, 39, 98, 91, 66, 3, 80, 35, 48, 63, 18, 95, 50, 67, 16, 31, 11, 72, 43, 99, 87, 40, 26, 55, 23, 8, 75, 58, 82, 36, 30, 51, 19, 4, 79, 94, 47, 15, 68, 62, 90, 83, 100)\n"
      ]
     },
     "execution_count": 4,
     "metadata": {},
     "output_type": "execute_result"
    }
   ],
   "source": [
    "val range_to_set = (1 to 100).toSet"
   ]
  },
  {
   "cell_type": "markdown",
   "id": "7b69c776-b262-4606-8bc3-2530cf203e1b",
   "metadata": {},
   "source": [
    "* Any `Row` level transformations like `filtering` comes under `Map` operation.\n",
    "\n",
    "* Any transformation like `Join`, `aggregation` comes under `Reduce` operation."
   ]
  },
  {
   "cell_type": "code",
   "execution_count": 5,
   "id": "4ef7c03f-d985-472f-8afa-54afd4bc8eb1",
   "metadata": {},
   "outputs": [
    {
     "data": {
      "text/plain": [
       "main: (args: Array[String])Int\n"
      ]
     },
     "execution_count": 5,
     "metadata": {},
     "output_type": "execute_result"
    }
   ],
   "source": [
    "// Get Sum of Squares of all even numbers till 100\n",
    "\n",
    "def main(args: Array[String]) : Int =\n",
    "{\n",
    "    val l = (1 to 100).toList\n",
    "    \n",
    "    val f = l.filter(ele => ele % 2 == 0)    // filter takes a function with one argument\n",
    "    \n",
    "    val m = f.map(rec => rec * rec)    // map takes a function with one argument\n",
    "    \n",
    "    // val r = m.sum\n",
    "    val r = m.reduce((total, ele) => total + ele) // reduce takes a function with two arguments\n",
    "    \n",
    "    return r\n",
    "}"
   ]
  },
  {
   "cell_type": "code",
   "execution_count": 6,
   "id": "93fa8a67-eb7e-4ba9-b8a8-8cc03781a5fc",
   "metadata": {},
   "outputs": [
    {
     "data": {
      "text/plain": [
       "res0: Int = 171700\n"
      ]
     },
     "execution_count": 6,
     "metadata": {},
     "output_type": "execute_result"
    }
   ],
   "source": [
    "main(Array(\"\"))"
   ]
  },
  {
   "cell_type": "markdown",
   "id": "22b9eccf-d418-45ed-b294-081a91a7d9aa",
   "metadata": {},
   "source": [
    "* We can use `Sorted` method to Sort the Sequences."
   ]
  },
  {
   "cell_type": "code",
   "execution_count": 7,
   "id": "3082ebed-0f9a-4c5f-92c9-13c972d7bed4",
   "metadata": {},
   "outputs": [
    {
     "data": {
      "text/plain": [
       "l: scala.collection.immutable.Set[Int] = Set(0, -3, 50, 11, 8, 100)\n"
      ]
     },
     "execution_count": 7,
     "metadata": {},
     "output_type": "execute_result"
    }
   ],
   "source": [
    "val l = Set(100, 50, 0, -3, 8 , 11)"
   ]
  },
  {
   "cell_type": "code",
   "execution_count": 8,
   "id": "8f617126-ee21-43d5-94f5-048c4febd829",
   "metadata": {},
   "outputs": [
    {
     "ename": "<console>",
     "evalue": "28: error: value sorted is not a member of scala.collection.immutable.Set[Int]",
     "output_type": "error",
     "traceback": [
      "<console>:28: error: value sorted is not a member of scala.collection.immutable.Set[Int]",
      "       l.sorted",
      "         ^",
      ""
     ]
    }
   ],
   "source": [
    "// Can't sort a Set\n",
    "\n",
    "l.sorted"
   ]
  },
  {
   "cell_type": "code",
   "execution_count": 9,
   "id": "716da60e-c9d1-4057-bda9-570600c6caaf",
   "metadata": {},
   "outputs": [
    {
     "data": {
      "text/plain": [
       "res2: Array[Int] = Array(-3, 0, 8, 11, 50, 100)\n"
      ]
     },
     "execution_count": 9,
     "metadata": {},
     "output_type": "execute_result"
    }
   ],
   "source": [
    "// TypeCast the Set and Sort\n",
    "\n",
    "l.toArray.sorted"
   ]
  },
  {
   "cell_type": "code",
   "execution_count": 10,
   "id": "e512e639-a948-4bf6-a779-267bb9efe667",
   "metadata": {},
   "outputs": [
    {
     "data": {
      "text/plain": [
       "res3: List[Int] = List(-3, 0, 8, 11, 50, 100)\n"
      ]
     },
     "execution_count": 10,
     "metadata": {},
     "output_type": "execute_result"
    }
   ],
   "source": [
    "l.toList.sorted"
   ]
  }
 ],
 "metadata": {
  "kernelspec": {
   "display_name": "spylon-kernel",
   "language": "scala",
   "name": "spylon-kernel"
  },
  "language_info": {
   "codemirror_mode": "text/x-scala",
   "file_extension": ".scala",
   "help_links": [
    {
     "text": "MetaKernel Magics",
     "url": "https://metakernel.readthedocs.io/en/latest/source/README.html"
    }
   ],
   "mimetype": "text/x-scala",
   "name": "scala",
   "pygments_lexer": "scala",
   "version": "0.4.1"
  }
 },
 "nbformat": 4,
 "nbformat_minor": 5
}
