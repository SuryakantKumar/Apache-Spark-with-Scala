{
 "cells": [
  {
   "cell_type": "markdown",
   "id": "f9fdf81f-75d3-48fc-b3c4-7915485c8860",
   "metadata": {},
   "source": [
    "## Scala Map\n",
    "\n",
    "`Map` is a collection of `key-value` pairs. In other words, it is similar to dictionary. \n",
    "\n",
    "`Keys` are always `unique` while `values` need not be unique.\n",
    "\n",
    "`Key-value` pairs can have any data type. However, Data Type once used for any key and value must be consistent throughout.\n",
    "\n",
    "Maps are classified into two types : \n",
    "* mutable\n",
    "* immutable\n",
    "\n",
    "By default Scala uses `immutable` Map. \n",
    "\n",
    "In order to use `mutable Map`, we must import `scala.collection.mutable.Map` class explicitly."
   ]
  },
  {
   "cell_type": "markdown",
   "id": "bf43c6d0-5334-4f4e-83a4-7dd32ad8c72a",
   "metadata": {},
   "source": [
    "### How to create Scala Maps\n",
    "\n",
    "Maps can be created in different ways based upon our requirement and nature of the Map. \n",
    "\n",
    "We have different syntax depending upon whether the Map is `mutable` or `immutable`.\n",
    "\n",
    "Syntax :\n",
    "```scala\n",
    "// Immutable\n",
    "variable = Map(key_1 -> value_1, key_2 -> value_2, key_3 -> value_3, ....)\n",
    "\n",
    "// Mutable\n",
    "variable = scala.collection.mutable.Map(key_1 -> value_1, key_2 -> value_2, key_3 -> value_3, ....)\n",
    "```"
   ]
  },
  {
   "cell_type": "markdown",
   "id": "4fb5f5ed-63af-4b0a-94c1-61c984965b29",
   "metadata": {},
   "source": [
    "### Operations on a Scala Map\n",
    "\n",
    "There are three basic operations we can carry out on a Map :\n",
    "\n",
    "* **keys** : In Scala Map, This method returns an iterable containing each key in the map.\n",
    "\n",
    "* **values** : Value method returns an iterable containing each value in the Scala map.\n",
    "\n",
    "* **isEmpty** : This Scala map method returns `true` if the map is empty otherwise this returns `false`."
   ]
  },
  {
   "cell_type": "markdown",
   "id": "014c30a0-fe7c-42ba-b578-a703b4ee9963",
   "metadata": {},
   "source": [
    "### Accessing Values Using Keys\n",
    "\n",
    "Values can be accessed using Map variable `name` and `key`."
   ]
  },
  {
   "cell_type": "code",
   "execution_count": 1,
   "id": "6e3d8bb8-0e10-4123-ab3f-fc32da6dd8be",
   "metadata": {},
   "outputs": [
    {
     "data": {
      "text/plain": [
       "Intitializing Scala interpreter ..."
      ]
     },
     "metadata": {},
     "output_type": "display_data"
    },
    {
     "data": {
      "text/plain": [
       "Spark Web UI available at http://192.168.1.138:4045\n",
       "SparkContext available as 'sc' (version = 3.3.0, master = local[*], app id = local-1670266947512)\n",
       "SparkSession available as 'spark'\n"
      ]
     },
     "metadata": {},
     "output_type": "display_data"
    },
    {
     "name": "stdout",
     "output_type": "stream",
     "text": [
      "30\n"
     ]
    },
    {
     "data": {
      "text/plain": [
       "mapIm: scala.collection.immutable.Map[String,Int] = Map(Ajay -> 30, Bhavesh -> 20, Charlie -> 50)\n",
       "ajay: Int = 30\n"
      ]
     },
     "execution_count": 1,
     "metadata": {},
     "output_type": "execute_result"
    }
   ],
   "source": [
    "val mapIm = Map(\"Ajay\" -> 30, \n",
    "                \"Bhavesh\" -> 20,\n",
    "                \"Charlie\" -> 50)\n",
    "\n",
    "// Accessing score of Ajay\n",
    "val ajay = mapIm(\"Ajay\")\n",
    "println(ajay)"
   ]
  },
  {
   "cell_type": "markdown",
   "id": "b4497e27-45a9-46a9-bb8f-de20489c6138",
   "metadata": {},
   "source": [
    "* If we try to access value associated with the key “John”, we will get an error because no such key is present in the Map. Therefore, it is recommended to use `contains()` function while accessing any value using key. This function checks for the `key` in the Map. If the key is present then it returns `true`, `false` otherwise."
   ]
  },
  {
   "cell_type": "code",
   "execution_count": 2,
   "id": "ab47abb8-6224-4ae0-ad2d-c4551feb3c21",
   "metadata": {},
   "outputs": [
    {
     "name": "stdout",
     "output_type": "stream",
     "text": [
      "Ajay:30\n",
      "John:0\n"
     ]
    },
    {
     "data": {
      "text/plain": [
       "mapIm: scala.collection.immutable.Map[String,Int] = Map(Ajay -> 30, Bhavesh -> 20, Charlie -> 50)\n",
       "ajay: Int = 30\n",
       "john: Int = 0\n"
      ]
     },
     "execution_count": 2,
     "metadata": {},
     "output_type": "execute_result"
    }
   ],
   "source": [
    "val mapIm = Map(\"Ajay\" -> 30,\n",
    "                \"Bhavesh\" -> 20,\n",
    "                \"Charlie\" -> 50)\n",
    "\n",
    "// the key check in the Map\n",
    "val ajay = if(mapIm.contains(\"Ajay\"))\n",
    "                mapIm(\"Ajay\") else 0\n",
    "\n",
    "val john = if(mapIm.contains(\"John\"))\n",
    "                mapIm(\"John\") else 0\n",
    "\n",
    "println(\"Ajay:\" + ajay)\n",
    "println(\"John:\" + john)"
   ]
  },
  {
   "cell_type": "markdown",
   "id": "10d7dba5-8ee2-48b9-a377-c52b1f19c564",
   "metadata": {},
   "source": [
    "### Updating the values\n",
    "\n",
    "If we try to update value of an `immutable` Map, Scala outputs an error. \n",
    "\n",
    "On the other hand, any changes made in value of any key in case of `mutable` Maps is accepted."
   ]
  },
  {
   "cell_type": "markdown",
   "id": "efdd943d-7325-4e3d-83b6-f99e2950a21d",
   "metadata": {},
   "source": [
    "#### Updating immutable Map"
   ]
  },
  {
   "cell_type": "code",
   "execution_count": 3,
   "id": "c28ff1ba-b11b-4e36-9a34-80008f70e123",
   "metadata": {},
   "outputs": [
    {
     "ename": "<console>",
     "evalue": "31: error: value update is not a member of scala.collection.immutable.Map[String,Int]",
     "output_type": "error",
     "traceback": [
      "<console>:31: error: value update is not a member of scala.collection.immutable.Map[String,Int]",
      "       mapIm(\"Ajay\") = 10",
      "       ^",
      ""
     ]
    }
   ],
   "source": [
    "val mapIm = Map(\"Ajay\" -> 30, \n",
    "                \"Bhavesh\" -> 20, \n",
    "                \"Charlie\" -> 50)\n",
    "\n",
    "println(mapIm)\n",
    "\n",
    "//Updating\n",
    "mapIm(\"Ajay\") = 10 \n",
    "\n",
    "println(mapIm)"
   ]
  },
  {
   "cell_type": "markdown",
   "id": "fdcac750-089e-4ded-a143-ebc530b99c85",
   "metadata": {},
   "source": [
    "#### Updating mutable Map"
   ]
  },
  {
   "cell_type": "code",
   "execution_count": 4,
   "id": "81edf48e-a33a-4671-9d59-e59c42300a5a",
   "metadata": {},
   "outputs": [
    {
     "name": "stdout",
     "output_type": "stream",
     "text": [
      "Before Updating: Map(Ajay -> 30, Charlie -> 50, Bhavesh -> 20)\n",
      "After Updating: Map(Ajay -> 10, Charlie -> 50, Bhavesh -> 20)\n"
     ]
    },
    {
     "data": {
      "text/plain": [
       "mapMut: scala.collection.mutable.Map[String,Int] = Map(Ajay -> 10, Charlie -> 50, Bhavesh -> 20)\n"
      ]
     },
     "execution_count": 4,
     "metadata": {},
     "output_type": "execute_result"
    }
   ],
   "source": [
    "val mapMut = scala.collection.mutable.Map(\"Ajay\" -> 30,\n",
    "                                          \"Bhavesh\" -> 20, \n",
    "                                          \"Charlie\" -> 50)\n",
    "println(\"Before Updating: \" + mapMut)\n",
    "\n",
    "// Updating\n",
    "mapMut(\"Ajay\") = 10 \n",
    "\n",
    "println(\"After Updating: \" + mapMut)"
   ]
  },
  {
   "cell_type": "markdown",
   "id": "45425cf1-f37c-4306-8c7a-6d74c7fe132b",
   "metadata": {},
   "source": [
    "### Adding new key-value pair\n",
    "\n",
    "We can insert new key-value pairs in a mutable map using `+=` operator followed by new pairs to be added or updated."
   ]
  },
  {
   "cell_type": "code",
   "execution_count": 5,
   "id": "a68a1d7c-dbe1-493d-a64c-dd33ef4f0523",
   "metadata": {},
   "outputs": [
    {
     "name": "stdout",
     "output_type": "stream",
     "text": [
      "Before Adding: Map(Ajay -> 30, Charlie -> 50, Bhavesh -> 20)\n",
      "After Adding: Map(Ajay -> 10, Dinesh -> 60, Charlie -> 50, Bhavesh -> 20)\n"
     ]
    },
    {
     "data": {
      "text/plain": [
       "mapMut: scala.collection.mutable.Map[String,Int] = Map(Ajay -> 10, Dinesh -> 60, Charlie -> 50, Bhavesh -> 20)\n"
      ]
     },
     "execution_count": 5,
     "metadata": {},
     "output_type": "execute_result"
    }
   ],
   "source": [
    "val mapMut = scala.collection.mutable.Map(\"Ajay\" -> 30, \n",
    "                                          \"Bhavesh\" -> 20,\n",
    "                                          \"Charlie\" -> 50)\n",
    "\n",
    "println(\"Before Adding: \" + mapMut)\n",
    "\n",
    "// Adding a new key \"Dinesh\" and updating an existing key \"Ajay\"\n",
    "mapMut += (\"Ajay\" -> 10, \"Dinesh\" -> 60)\n",
    "\n",
    "println(\"After Adding: \" + mapMut)"
   ]
  },
  {
   "cell_type": "markdown",
   "id": "912cc068-9686-4216-a9bb-a38998ebd9e8",
   "metadata": {},
   "source": [
    "### Deleting a key-value pair\n",
    "\n",
    "Deleting a key-value pair is similar to adding a new entry. \n",
    "\n",
    "The difference is instead of `+=` we use `-=` operator followed by keys that are to be deleted."
   ]
  },
  {
   "cell_type": "code",
   "execution_count": 6,
   "id": "154f9655-4d5a-49a0-99e2-dbf986e68ae9",
   "metadata": {},
   "outputs": [
    {
     "name": "stdout",
     "output_type": "stream",
     "text": [
      "Before Deleting: Map(Ajay -> 30, Charlie -> 50, Bhavesh -> 20)\n",
      "After Deleting: Map(Bhavesh -> 20)\n"
     ]
    },
    {
     "data": {
      "text/plain": [
       "mapMut: scala.collection.mutable.Map[String,Int] = Map(Bhavesh -> 20)\n"
      ]
     },
     "execution_count": 6,
     "metadata": {},
     "output_type": "execute_result"
    }
   ],
   "source": [
    "val mapMut = scala.collection.mutable.Map(\"Ajay\" -> 30,\n",
    "                                          \"Bhavesh\" -> 20,\n",
    "                                          \"Charlie\" -> 50)\n",
    "\n",
    "println(\"Before Deleting: \" + mapMut)\n",
    "\n",
    "// Deleting key-value pairs with keys \"Ajay\" and \"Charlie\"\n",
    "mapMut -= (\"Ajay\", \"Charlie\")\n",
    "\n",
    "println(\"After Deleting: \" + mapMut)"
   ]
  },
  {
   "cell_type": "markdown",
   "id": "a2e38b66-6533-4798-a8e2-d045792cbfcc",
   "metadata": {},
   "source": [
    "### Iteration in a Map\n",
    "\n",
    "Key-value pair corresponds to a tuple with two elements. Therefore, while performing iteration loop variable needs to be a pair."
   ]
  },
  {
   "cell_type": "code",
   "execution_count": 7,
   "id": "0adbcb8e-3837-48ee-a5da-ec94608562a6",
   "metadata": {},
   "outputs": [
    {
     "name": "stdout",
     "output_type": "stream",
     "text": [
      "Key : Ajay, Value : 30\n",
      "Key : Charlie, Value : 50\n",
      "Key : Bhavesh, Value : 20\n"
     ]
    },
    {
     "data": {
      "text/plain": [
       "mapMut: scala.collection.mutable.Map[String,Int] = Map(Ajay -> 30, Charlie -> 50, Bhavesh -> 20)\n"
      ]
     },
     "execution_count": 7,
     "metadata": {},
     "output_type": "execute_result"
    }
   ],
   "source": [
    "val mapMut = scala.collection.mutable.Map(\"Ajay\" -> 30,\n",
    "                                          \"Bhavesh\" -> 20,\n",
    "                                          \"Charlie\" -> 50)\n",
    "\n",
    "// (k, v) is a tuple with two elements\n",
    "for((k, v) <- mapMut)\n",
    "{    \n",
    "    //where k is key and v is value\n",
    "    print(\"Key : \" + k + \", \")\n",
    "    println(\"Value : \" + v)\n",
    "}"
   ]
  },
  {
   "cell_type": "markdown",
   "id": "1eff9164-0ed2-44bf-b519-a0ffdb57fa8d",
   "metadata": {},
   "source": [
    "### Empty Map\n",
    "\n",
    "In Scala Map, We can also create an empty Map and later add elements to it."
   ]
  },
  {
   "cell_type": "code",
   "execution_count": 8,
   "id": "165e26e9-d94a-46e5-b424-311c54235317",
   "metadata": {},
   "outputs": [
    {
     "name": "stdout",
     "output_type": "stream",
     "text": [
      "Empty Map: Map()\n",
      "New Entry: Map(Charlie -> 50)\n"
     ]
    },
    {
     "data": {
      "text/plain": [
       "mapMut: scala.collection.mutable.Map[String,Int] = Map(Charlie -> 50)\n"
      ]
     },
     "execution_count": 8,
     "metadata": {},
     "output_type": "execute_result"
    }
   ],
   "source": [
    "// Creation of Map having key-value pairs of type (String, Int)\n",
    "val mapMut = scala.collection.mutable.Map[String, Int]()\n",
    "\n",
    "println(\"Empty Map: \" + mapMut)\n",
    "\n",
    "// Adding new entry\n",
    "mapMut += (\"Charlie\" -> 50) \n",
    "\n",
    " println(\"New Entry: \" + mapMut)"
   ]
  }
 ],
 "metadata": {
  "kernelspec": {
   "display_name": "spylon-kernel",
   "language": "scala",
   "name": "spylon-kernel"
  },
  "language_info": {
   "codemirror_mode": "text/x-scala",
   "file_extension": ".scala",
   "help_links": [
    {
     "text": "MetaKernel Magics",
     "url": "https://metakernel.readthedocs.io/en/latest/source/README.html"
    }
   ],
   "mimetype": "text/x-scala",
   "name": "scala",
   "pygments_lexer": "scala",
   "version": "0.4.1"
  }
 },
 "nbformat": 4,
 "nbformat_minor": 5
}
