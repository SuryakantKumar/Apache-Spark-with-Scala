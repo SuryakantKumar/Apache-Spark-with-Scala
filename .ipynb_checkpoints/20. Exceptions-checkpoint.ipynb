{
 "cells": [
  {
   "cell_type": "markdown",
   "id": "cf3aa119-28f1-4809-911c-441d2c70f540",
   "metadata": {},
   "source": [
    "## Exceptions in Scala\n",
    "\n",
    "An exception is an unwanted or unexpected event, which occurs during the execution of a program i.e at run time. \n",
    "\n",
    "These events change the control flow of the program in execution.\n",
    "\n",
    "In scala, All exceptions are unchecked. Scala facilitates a great deal of flexibility in terms of the ability to choose whether to catch an exception."
   ]
  },
  {
   "cell_type": "code",
   "execution_count": 1,
   "id": "c3f069de-2bc2-459d-bdce-92365bdd22e9",
   "metadata": {},
   "outputs": [
    {
     "data": {
      "text/plain": [
       "Intitializing Scala interpreter ..."
      ]
     },
     "metadata": {},
     "output_type": "display_data"
    },
    {
     "data": {
      "text/plain": [
       "Spark Web UI available at http://192.168.1.138:4042\n",
       "SparkContext available as 'sc' (version = 3.3.0, master = local[*], app id = local-1670242756313)\n",
       "SparkSession available as 'spark'\n"
      ]
     },
     "metadata": {},
     "output_type": "display_data"
    },
    {
     "data": {
      "text/plain": [
       "validate: (article: Int)Unit\n",
       "main: (args: Array[String])Unit\n"
      ]
     },
     "execution_count": 1,
     "metadata": {},
     "output_type": "execute_result"
    }
   ],
   "source": [
    "def validate(article: Int) =\n",
    "{  \n",
    "    // Using throw keyword\n",
    "    if(article < 20)\n",
    "    {\n",
    "        throw new ArithmeticException(\"You are not eligible for internship\")\n",
    "    }\n",
    "    else\n",
    "    {\n",
    "        println(\"You are eligible for internship\")\n",
    "    }\n",
    "}\n",
    "\n",
    "// Main method\n",
    "def main(args: Array[String])\n",
    "{\n",
    "    validate(18)\n",
    "}"
   ]
  },
  {
   "cell_type": "code",
   "execution_count": 2,
   "id": "184325ee-585a-43e2-9d44-b2d6ac1b38d6",
   "metadata": {},
   "outputs": [
    {
     "ename": "java.lang.ArithmeticException",
     "evalue": " You are not eligible for internship",
     "output_type": "error",
     "traceback": [
      "java.lang.ArithmeticException: You are not eligible for internship",
      "  at validate(<console>:28)",
      "  at main(<console>:39)",
      "  ... 34 elided",
      ""
     ]
    }
   ],
   "source": [
    "main(Array(\"\"))"
   ]
  },
  {
   "cell_type": "markdown",
   "id": "609d5f94-ec67-42c1-9b48-15c063c475d4",
   "metadata": {},
   "source": [
    "### Try-Catch Exceptions"
   ]
  },
  {
   "cell_type": "code",
   "execution_count": 3,
   "id": "c21a12ca-5fb0-484f-825d-f27d07d08753",
   "metadata": {},
   "outputs": [
    {
     "data": {
      "text/plain": [
       "import java.io.IOException\n",
       "main: (args: Array[String])Unit\n"
      ]
     },
     "execution_count": 3,
     "metadata": {},
     "output_type": "execute_result"
    }
   ],
   "source": [
    "import java.io.IOException\n",
    "\n",
    "// Main method\n",
    "def main(args:Array[String])\n",
    "{\n",
    "    try\n",
    "    {\n",
    "        var N = 5/0\n",
    "    }\n",
    "    catch\n",
    "    {\n",
    "        // Catch block contain cases\n",
    "        case i: IOException =>\n",
    "        {\n",
    "            println(\"IOException occurred.\")\n",
    "        }\n",
    "        case a : ArithmeticException =>\n",
    "        {\n",
    "            println(\"Arithmetic Exception occurred.\")\n",
    "        }\n",
    "    }\n",
    "}"
   ]
  },
  {
   "cell_type": "code",
   "execution_count": 4,
   "id": "61631aa8-b9fe-4b28-ab1e-21760f5ea5eb",
   "metadata": {},
   "outputs": [
    {
     "name": "stdout",
     "output_type": "stream",
     "text": [
      "Arithmetic Exception occurred.\n"
     ]
    }
   ],
   "source": [
    "main(Array(\"\"))"
   ]
  }
 ],
 "metadata": {
  "kernelspec": {
   "display_name": "spylon-kernel",
   "language": "scala",
   "name": "spylon-kernel"
  },
  "language_info": {
   "codemirror_mode": "text/x-scala",
   "file_extension": ".scala",
   "help_links": [
    {
     "text": "MetaKernel Magics",
     "url": "https://metakernel.readthedocs.io/en/latest/source/README.html"
    }
   ],
   "mimetype": "text/x-scala",
   "name": "scala",
   "pygments_lexer": "scala",
   "version": "0.4.1"
  }
 },
 "nbformat": 4,
 "nbformat_minor": 5
}
