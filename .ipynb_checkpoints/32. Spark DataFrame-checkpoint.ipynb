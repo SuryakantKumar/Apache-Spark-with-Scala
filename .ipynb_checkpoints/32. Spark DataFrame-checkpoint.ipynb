{
 "cells": [
  {
   "cell_type": "markdown",
   "id": "f2f9034e-4fbb-46c4-9661-8e13de4a49ac",
   "metadata": {},
   "source": [
    "## Spark DataFrame API\n",
    "\n",
    "* Row Level Transformations or Projection of Data can be done using `select`, `selectExpr`, `withColumn`, `drop` on DataFrame.\n",
    "\n",
    "* We typically apply functions from `org.apache.spark.sql.functions` on columns using `select` and `withColumn`\n",
    "\n",
    "* Filtering is typically done either by using `filter` or `where` on DataFrame.\n",
    "\n",
    "* We can pass the condition to `filter` or `where` either by using SQL Style or Programming Language Style.\n",
    "\n",
    "* Global Aggregations can be performed directly on the DataFrame like `count`, `min`, `max`.\n",
    "\n",
    "* Grouping & Aggregations are typically performed using `groupBy` by Keys and then Aggregate functions using `agg`.\n",
    "\n",
    "* We can sort the data in DataFrame using `sort` or `orderBy`.\n",
    "\n",
    "* We can use use Window Functions for some advanced Aggregations and Ranking."
   ]
  },
  {
   "cell_type": "code",
   "execution_count": 1,
   "id": "6226cc9b-bff2-4286-962e-35a0a9f4a242",
   "metadata": {},
   "outputs": [
    {
     "data": {
      "text/plain": [
       "Intitializing Scala interpreter ..."
      ]
     },
     "metadata": {},
     "output_type": "display_data"
    },
    {
     "data": {
      "text/plain": [
       "Spark Web UI available at http://192.168.1.138:4043\n",
       "SparkContext available as 'sc' (version = 3.3.0, master = local[*], app id = local-1670442615859)\n",
       "SparkSession available as 'spark'\n"
      ]
     },
     "metadata": {},
     "output_type": "display_data"
    },
    {
     "data": {
      "text/plain": [
       "employees: List[(Int, String, String, Double, String)] = List((1,Scott,Tiger,1000.0,united states), (2,Henry,Ford,1250.0,India), (3,Nick,Junior,750.0,united KINGDOM), (4,Bill,Gomes,1500.0,AUSTRALIA))\n"
      ]
     },
     "execution_count": 1,
     "metadata": {},
     "output_type": "execute_result"
    }
   ],
   "source": [
    "// Create a List\n",
    "val employees = List((1, \"Scott\", \"Tiger\", 1000.0, \"united states\"),\n",
    "                     (2, \"Henry\", \"Ford\", 1250.0, \"India\"),\n",
    "                     (3, \"Nick\", \"Junior\", 750.0, \"united KINGDOM\"),\n",
    "                     (4, \"Bill\", \"Gomes\", 1500.0, \"AUSTRALIA\"))"
   ]
  },
  {
   "cell_type": "markdown",
   "id": "f49fe3e9-ca5c-4d78-848f-5d9683d7d281",
   "metadata": {},
   "source": [
    "#### **Transform List to DataFrame**"
   ]
  },
  {
   "cell_type": "code",
   "execution_count": 2,
   "id": "069a4ca4-9d55-4a66-bb52-8b9acf41b8f0",
   "metadata": {},
   "outputs": [
    {
     "data": {
      "text/plain": [
       "employeesDF: org.apache.spark.sql.DataFrame = [employee_id: int, first_name: string ... 3 more fields]\n"
      ]
     },
     "execution_count": 2,
     "metadata": {},
     "output_type": "execute_result"
    }
   ],
   "source": [
    "val employeesDF = employees.toDF(\"employee_id\", \n",
    "                                 \"first_name\", \n",
    "                                 \"last_name\", \n",
    "                                 \"salary\", \n",
    "                                 \"nationality\"\n",
    "                                )"
   ]
  },
  {
   "cell_type": "code",
   "execution_count": 3,
   "id": "9bb1d961-6e87-4d8e-84b0-a8211aea6108",
   "metadata": {},
   "outputs": [
    {
     "name": "stdout",
     "output_type": "stream",
     "text": [
      "root\n",
      " |-- employee_id: integer (nullable = false)\n",
      " |-- first_name: string (nullable = true)\n",
      " |-- last_name: string (nullable = true)\n",
      " |-- salary: double (nullable = false)\n",
      " |-- nationality: string (nullable = true)\n",
      "\n"
     ]
    }
   ],
   "source": [
    "employeesDF.printSchema"
   ]
  },
  {
   "cell_type": "code",
   "execution_count": 4,
   "id": "945e5d66-523d-4400-abbf-7bc078dbf905",
   "metadata": {},
   "outputs": [
    {
     "name": "stdout",
     "output_type": "stream",
     "text": [
      "+-----------+----------+---------+------+--------------+\n",
      "|employee_id|first_name|last_name|salary|nationality   |\n",
      "+-----------+----------+---------+------+--------------+\n",
      "|1          |Scott     |Tiger    |1000.0|united states |\n",
      "|2          |Henry     |Ford     |1250.0|India         |\n",
      "|3          |Nick      |Junior   |750.0 |united KINGDOM|\n",
      "|4          |Bill      |Gomes    |1500.0|AUSTRALIA     |\n",
      "+-----------+----------+---------+------+--------------+\n",
      "\n"
     ]
    }
   ],
   "source": [
    "employeesDF.show(5, truncate=false)"
   ]
  },
  {
   "cell_type": "markdown",
   "id": "f810da4d-c419-4f3b-afe5-128fa4e9cf4d",
   "metadata": {},
   "source": [
    "#### **Select Specific Columns From DataFrame**\n",
    "\n",
    "* Project employee first name and last name"
   ]
  },
  {
   "cell_type": "code",
   "execution_count": 5,
   "id": "5065de1e-fb9e-4468-b98a-151faa74d757",
   "metadata": {},
   "outputs": [
    {
     "name": "stdout",
     "output_type": "stream",
     "text": [
      "+----------+---------+\n",
      "|first_name|last_name|\n",
      "+----------+---------+\n",
      "|Scott     |Tiger    |\n",
      "|Henry     |Ford     |\n",
      "|Nick      |Junior   |\n",
      "|Bill      |Gomes    |\n",
      "+----------+---------+\n",
      "\n"
     ]
    }
   ],
   "source": [
    "employeesDF.select(\"first_name\", \"last_name\").show(truncate=false)"
   ]
  },
  {
   "cell_type": "markdown",
   "id": "bcb314ce-52a3-48df-a4eb-ce2d1236160b",
   "metadata": {},
   "source": [
    "#### **Select All Columns except Some**\n",
    "\n",
    "* Project all the fields except for Nationality"
   ]
  },
  {
   "cell_type": "code",
   "execution_count": 6,
   "id": "fe3b7c99-e65f-4b8c-8365-d4bf704bfb5e",
   "metadata": {},
   "outputs": [
    {
     "name": "stdout",
     "output_type": "stream",
     "text": [
      "+-----------+----------+---------+------+\n",
      "|employee_id|first_name|last_name|salary|\n",
      "+-----------+----------+---------+------+\n",
      "|1          |Scott     |Tiger    |1000.0|\n",
      "|2          |Henry     |Ford     |1250.0|\n",
      "|3          |Nick      |Junior   |750.0 |\n",
      "|4          |Bill      |Gomes    |1500.0|\n",
      "+-----------+----------+---------+------+\n",
      "\n"
     ]
    }
   ],
   "source": [
    "employeesDF.drop(\"nationality\").show(truncate=false)"
   ]
  }
 ],
 "metadata": {
  "kernelspec": {
   "display_name": "spylon-kernel",
   "language": "scala",
   "name": "spylon-kernel"
  },
  "language_info": {
   "codemirror_mode": "text/x-scala",
   "file_extension": ".scala",
   "help_links": [
    {
     "text": "MetaKernel Magics",
     "url": "https://metakernel.readthedocs.io/en/latest/source/README.html"
    }
   ],
   "mimetype": "text/x-scala",
   "name": "scala",
   "pygments_lexer": "scala",
   "version": "0.4.1"
  }
 },
 "nbformat": 4,
 "nbformat_minor": 5
}
