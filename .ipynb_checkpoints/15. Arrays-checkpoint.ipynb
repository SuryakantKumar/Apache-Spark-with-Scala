{
 "cells": [
  {
   "attachments": {
    "c9494563-7284-4c71-9fe4-40d31b4558ff.gif": {
     "image/gif": "[encoded data removed]"
    },
    "ecd1af6f-8660-4379-b68f-bad3ed6d67c8.gif": {
     "image/gif": "[encoded data removed]"
    }
   },
   "cell_type": "markdown",
   "id": "4e37d95c-16a8-43f0-bf18-352582937ae9",
   "metadata": {},
   "source": [
    "[![icons8-linkedin.gif](attachment:c9494563-7284-4c71-9fe4-40d31b4558ff.gif 'Author : Suryakant Kumar')](https://www.linkedin.com/in/suryakantkumar/)[![icons8-github.gif](attachment:ecd1af6f-8660-4379-b68f-bad3ed6d67c8.gif 'Author : Suryakant Kumar')](https://github.com/SuryakantKumar)"
   ]
  },
  {
   "cell_type": "markdown",
   "id": "01f1b6d5-7937-4345-8088-b8470cb49dc6",
   "metadata": {},
   "source": [
    "## Arrays in Scala\n",
    "\n",
    "Array is a fixed size data structure that stores elements of the same data type. \n",
    "\n",
    "The index of the first element of an array is `zero` and the last element is the total number of elements minus one. \n",
    "\n",
    "It is a collection of mutable values. \n",
    "\n",
    "It corresponds to arrays(in terms of syntax) in java but at the same time it’s different(in terms of functionalities) from java."
   ]
  },
  {
   "cell_type": "markdown",
   "id": "393db9ad-2f81-4fb0-9913-c91c9570e87c",
   "metadata": {},
   "source": [
    "Some Important Points:\n",
    "\n",
    "* Scala arrays can be generic. which mean we can have an Array[T], where T is a type parameter or abstract type.\n",
    "\n",
    "* Scala arrays are compatible with Scala sequences – we can pass an Array[T] where a Seq[T] is required.\n",
    "\n",
    "* Scala arrays also support all sequence operations."
   ]
  },
  {
   "cell_type": "markdown",
   "id": "e34ccabd-e3bc-4ef6-8d47-55795c8a2374",
   "metadata": {},
   "source": [
    "Scala supports both one as well as multi-dimension arrays. A single dimension array is one having only one row and n columns whereas two dimension array is actually a matrix of dimension (n * m)."
   ]
  },
  {
   "cell_type": "markdown",
   "id": "88cd2f27-c815-4a71-b7ac-8464c1176556",
   "metadata": {},
   "source": [
    "### One Dimensional Array\n",
    "\n",
    "In this, Array contains only one row for storing the values. \n",
    "\n",
    "All values of this array are stored contiguously starting from 0 to the array size.\n",
    "\n",
    "Syntax:\n",
    "```scala\n",
    "var arrayname = new Array[datatype](size)\n",
    "```\n",
    "Here, `datatype` specifies the type of data being allocated, `size` specifies the number of elements in the array, and `var` is the name of array variable that is linked to the array."
   ]
  },
  {
   "cell_type": "code",
   "execution_count": 1,
   "id": "de2fd07d-7b8f-4a83-a43a-81b160801f7c",
   "metadata": {},
   "outputs": [
    {
     "data": {
      "text/plain": [
       "Intitializing Scala interpreter ..."
      ]
     },
     "metadata": {},
     "output_type": "display_data"
    },
    {
     "data": {
      "text/plain": [
       "Spark Web UI available at http://192.168.29.42:4043\n",
       "SparkContext available as 'sc' (version = 3.3.0, master = local[*], app id = local-1670097134018)\n",
       "SparkSession available as 'spark'\n"
      ]
     },
     "metadata": {},
     "output_type": "display_data"
    },
    {
     "name": "stdout",
     "output_type": "stream",
     "text": [
      "Array elements are : \n",
      "Sunday\n",
      "Monday\n",
      "Tuesday\n",
      "Wednesday\n",
      "Thursday\n",
      "Friday\n",
      "Saturday\n"
     ]
    },
    {
     "data": {
      "text/plain": [
       "days: Array[String] = Array(Sunday, Monday, Tuesday, Wednesday, Thursday, Friday, Saturday)\n"
      ]
     },
     "execution_count": 1,
     "metadata": {},
     "output_type": "execute_result"
    }
   ],
   "source": [
    "var days = Array(\"Sunday\", \"Monday\", \"Tuesday\", \"Wednesday\", \"Thursday\", \"Friday\", \"Saturday\" )\n",
    "\n",
    "println(\"Array elements are : \")\n",
    "\n",
    "for (m1 <- days)\n",
    "{\n",
    "    println(m1)\n",
    "}"
   ]
  },
  {
   "cell_type": "markdown",
   "id": "d8e52d5c-ce24-4ce4-a8f2-9a473d56d77d",
   "metadata": {},
   "source": [
    "### Operation / Accessing array elements"
   ]
  },
  {
   "cell_type": "code",
   "execution_count": 2,
   "id": "97843fc1-42bd-43b3-98df-75bd4fe8d22a",
   "metadata": {},
   "outputs": [
    {
     "name": "stdout",
     "output_type": "stream",
     "text": [
      "second element of an array is : def\n"
     ]
    },
    {
     "data": {
      "text/plain": [
       "name: Array[String] = Array(abc, def, ghi, jkl)\n"
      ]
     },
     "execution_count": 2,
     "metadata": {},
     "output_type": "execute_result"
    }
   ],
   "source": [
    "var name = Array(\"abc\", \"def\", \"ghi\", \"jkl\")\n",
    "\n",
    "println(\"second element of an array is : \" + name(1))"
   ]
  },
  {
   "cell_type": "markdown",
   "id": "0637ea65-312d-4ab9-89b5-2dc62bbbfb25",
   "metadata": {},
   "source": [
    "### Operation / Updating an element in array"
   ]
  },
  {
   "cell_type": "code",
   "execution_count": 3,
   "id": "abd99368-2763-417b-9be6-4cfb291c3929",
   "metadata": {},
   "outputs": [
    {
     "name": "stdout",
     "output_type": "stream",
     "text": [
      "After updation, Array elements are : \n",
      "abc\n",
      "employee\n",
      "ghi\n",
      "jkl\n"
     ]
    },
    {
     "data": {
      "text/plain": [
       "name: Array[String] = Array(abc, employee, ghi, jkl)\n"
      ]
     },
     "execution_count": 3,
     "metadata": {},
     "output_type": "execute_result"
    }
   ],
   "source": [
    "var name = Array(\"abc\", \"def\", \"ghi\", \"jkl\")\n",
    "\n",
    "name(1) = \"employee\"\n",
    "\n",
    "println(\"After updation, Array elements are : \")\n",
    "\n",
    "for (m1 <- name)\n",
    "{\n",
    "    println(m1)\n",
    "}"
   ]
  },
  {
   "cell_type": "markdown",
   "id": "7180ca7c-cd5f-490d-b95c-ea6efed04d63",
   "metadata": {},
   "source": [
    "### Operation / Adding elements in an array"
   ]
  },
  {
   "cell_type": "code",
   "execution_count": 4,
   "id": "90df95a7-3d55-4621-b63c-48fa74a53b97",
   "metadata": {},
   "outputs": [
    {
     "name": "stdout",
     "output_type": "stream",
     "text": [
      "After adding, Array elements : \n",
      "abc\n",
      "def\n",
      "ghi\n",
      "jkl\n"
     ]
    },
    {
     "data": {
      "text/plain": [
       "name: Array[String] = Array(abc, def, ghi, jkl)\n"
      ]
     },
     "execution_count": 4,
     "metadata": {},
     "output_type": "execute_result"
    }
   ],
   "source": [
    "var name = new Array[String](4)\n",
    "\n",
    "name(0) = \"abc\"\n",
    "name(1) = \"def\"\n",
    "name(2) = \"ghi\"\n",
    "name(3) = \"jkl\"\n",
    "\n",
    "println(\"After adding, Array elements : \")\n",
    "\n",
    "for (m1 <- name)\n",
    "{\n",
    "    println(m1)\n",
    "}"
   ]
  },
  {
   "cell_type": "markdown",
   "id": "b9ce06ce-a40c-434f-8230-397e49186d29",
   "metadata": {},
   "source": [
    "### Operation / Concatenate Arrays\n",
    "\n",
    "We can concatenate two arrays by using `concat()` method.\n",
    "\n",
    "In concat() method, we can pass more than one array as arguments."
   ]
  },
  {
   "cell_type": "code",
   "execution_count": 5,
   "id": "90f53d1a-45ad-4698-b3c7-47ceffc41ffd",
   "metadata": {},
   "outputs": [
    {
     "name": "stdout",
     "output_type": "stream",
     "text": [
      "1\n",
      "2\n",
      "3\n",
      "4\n",
      "5\n",
      "6\n",
      "7\n",
      "8\n",
      "1\n",
      "2\n",
      "3\n",
      "4\n"
     ]
    },
    {
     "data": {
      "text/plain": [
       "import Array._\n",
       "arr1: Array[Int] = Array(1, 2, 3, 4)\n",
       "arr2: Array[Int] = Array(5, 6, 7, 8)\n",
       "arr3: Array[Int] = Array(1, 2, 3, 4, 5, 6, 7, 8, 1, 2, 3, 4)\n"
      ]
     },
     "execution_count": 5,
     "metadata": {},
     "output_type": "execute_result"
    }
   ],
   "source": [
    "import Array._\n",
    "\n",
    "var arr1 = Array(1, 2, 3, 4)\n",
    "var arr2 = Array(5, 6, 7, 8)\n",
    "\n",
    "var arr3 = concat( arr1, arr2, arr1)\n",
    "\n",
    "for (x <- arr3) \n",
    "{\n",
    "    println(x)\n",
    "}"
   ]
  },
  {
   "cell_type": "markdown",
   "id": "ca480c36-9978-4f35-9b65-7e57efbacb27",
   "metadata": {},
   "source": [
    "### Multidimensional Arrays\n",
    "\n",
    "The Multidimensional arrays contains more than one row to store the values. \n",
    "\n",
    "Scala has a method `Array.ofDim` to create Multi-dimensional arrays in Scala . \n",
    "\n",
    "In structures like `matrices` and `tables`, Multi-dimensional arrays can be used.\n",
    "\n",
    "Syntax:\n",
    "```scala\n",
    "var array_name = Array.ofDim[ArrayType](N, M)\n",
    "\n",
    "or\n",
    "\n",
    "var array_name = Array(Array(elements), Array(elements))\n",
    "```\n",
    "\n",
    "This is a Two-Dimension array. Here N is number of rows and M is number of Columns."
   ]
  },
  {
   "cell_type": "code",
   "execution_count": 6,
   "id": "903469c3-dbf6-4626-9520-c7ad5073e085",
   "metadata": {},
   "outputs": [
    {
     "name": "stdout",
     "output_type": "stream",
     "text": [
      "(0)(0) = a\n",
      "(0)(1) = b\n",
      "(0)(2) = c\n",
      "(1)(0) = d\n",
      "(1)(1) = e\n",
      "(1)(2) = f\n"
     ]
    },
    {
     "data": {
      "text/plain": [
       "rows: Int = 2\n",
       "cols: Int = 3\n",
       "names: Array[Array[String]] = Array(Array(a, b, c), Array(d, e, f))\n"
      ]
     },
     "execution_count": 6,
     "metadata": {},
     "output_type": "execute_result"
    }
   ],
   "source": [
    "val rows = 2\n",
    "val cols = 3\n",
    "\n",
    "val names = Array.ofDim[String](rows, cols)\n",
    "\n",
    "names(0)(0) = \"a\"\n",
    "names(0)(1) = \"b\"\n",
    "names(0)(2) = \"c\"\n",
    "names(1)(0) = \"d\"\n",
    "names(1)(1) = \"e\"\n",
    "names(1)(2) = \"f\"\n",
    "\n",
    "for (i <- 0 until rows)\n",
    "{\n",
    "    for (j <- 0 until cols)\n",
    "    {\n",
    "        println(s\"($i)($j) = ${names(i)(j)}\")\n",
    "    }\n",
    "}"
   ]
  },
  {
   "cell_type": "markdown",
   "id": "c0cd0b01-6f48-4c45-b2b1-6e90b9f4f263",
   "metadata": {},
   "source": [
    "### Operation / Append elements to an Array\n",
    "\n",
    "Use these operators (methods) to append elements to an array while assigning the result to a new variable :\n",
    "\n",
    "```\n",
    "Method    Function        Example\n",
    ":+        append 1 item   old_array :+ e\n",
    "++        append N item   old_array ++ new_array\n",
    "```"
   ]
  },
  {
   "cell_type": "code",
   "execution_count": 7,
   "id": "c6fa02bb-8320-4fa6-88b2-1bfe8893f8ac",
   "metadata": {},
   "outputs": [
    {
     "name": "stdout",
     "output_type": "stream",
     "text": [
      "Array a : \n",
      "45\n",
      "52\n",
      "61\n"
     ]
    },
    {
     "data": {
      "text/plain": [
       "a: Array[Int] = Array(45, 52, 61)\n"
      ]
     },
     "execution_count": 7,
     "metadata": {},
     "output_type": "execute_result"
    }
   ],
   "source": [
    "// Declaring an array\n",
    "val a = Array(45, 52, 61) \n",
    "println(\"Array a : \")\n",
    "for (x <- a) \n",
    "{\n",
    "    println(x)\n",
    "}"
   ]
  },
  {
   "cell_type": "code",
   "execution_count": 8,
   "id": "9546a384-8fa4-490d-b7d5-574aaa02cfb2",
   "metadata": {},
   "outputs": [
    {
     "name": "stdout",
     "output_type": "stream",
     "text": [
      "Array b : \n",
      "45\n",
      "52\n",
      "61\n",
      "27\n"
     ]
    },
    {
     "data": {
      "text/plain": [
       "b: Array[Int] = Array(45, 52, 61, 27)\n"
      ]
     },
     "execution_count": 8,
     "metadata": {},
     "output_type": "execute_result"
    }
   ],
   "source": [
    "// Appending 1 item\n",
    "val b = a :+ 27 \n",
    "println(\"Array b : \")\n",
    "for (x <- b) \n",
    "{\n",
    "    println(x)\n",
    "}"
   ]
  },
  {
   "cell_type": "code",
   "execution_count": 9,
   "id": "5d626fba-59b2-4862-9e3a-bcc2e33ca3f8",
   "metadata": {},
   "outputs": [
    {
     "name": "stdout",
     "output_type": "stream",
     "text": [
      "Array c : \n",
      "45\n",
      "52\n",
      "61\n",
      "27\n",
      "1\n",
      "2\n"
     ]
    },
    {
     "data": {
      "text/plain": [
       "c: Array[Int] = Array(45, 52, 61, 27, 1, 2)\n"
      ]
     },
     "execution_count": 9,
     "metadata": {},
     "output_type": "execute_result"
    }
   ],
   "source": [
    "// Appending 2 item\n",
    "val c = b ++ Array(1, 2)\n",
    "println(\"Array c : \")\n",
    "for (x <- c) \n",
    "{\n",
    "    println(x)\n",
    "}"
   ]
  },
  {
   "cell_type": "markdown",
   "id": "f4a4e86c-8053-4477-b6b7-fdb86faf64a8",
   "metadata": {},
   "source": [
    "### Operation / Prepend elements to an Array\n",
    "\n",
    "Use these operators (methods) to prepend elements to an array while assigning the result to a new variable :\n",
    "\n",
    "```\n",
    "Method    Function          Example\n",
    "+:        prepend 1 item    e +: old_array\n",
    "++:       prepend N items   new_array ++: old_array\n",
    "```"
   ]
  },
  {
   "cell_type": "code",
   "execution_count": 10,
   "id": "16eb35d6-d11e-4825-a555-58aeb375b12d",
   "metadata": {},
   "outputs": [
    {
     "name": "stdout",
     "output_type": "stream",
     "text": [
      "Array d : \n",
      "3\n",
      "45\n",
      "52\n",
      "61\n",
      "27\n",
      "1\n",
      "2\n"
     ]
    },
    {
     "data": {
      "text/plain": [
       "d: Array[Int] = Array(3, 45, 52, 61, 27, 1, 2)\n"
      ]
     },
     "execution_count": 10,
     "metadata": {},
     "output_type": "execute_result"
    }
   ],
   "source": [
    "// Prepending 1 item\n",
    "val d = 3 +: c \n",
    "println(\"Array d : \")\n",
    "for (x <- d) \n",
    "{\n",
    "    println(x)\n",
    "}"
   ]
  },
  {
   "cell_type": "code",
   "execution_count": 11,
   "id": "3f80395d-1d25-437a-bfe3-95ab5d95d216",
   "metadata": {},
   "outputs": [
    {
     "name": "stdout",
     "output_type": "stream",
     "text": [
      "Array e : \n",
      "10\n",
      "25\n",
      "3\n",
      "45\n",
      "52\n",
      "61\n",
      "27\n",
      "1\n",
      "2\n"
     ]
    },
    {
     "data": {
      "text/plain": [
       "e: Array[Int] = Array(10, 25, 3, 45, 52, 61, 27, 1, 2)\n"
      ]
     },
     "execution_count": 11,
     "metadata": {},
     "output_type": "execute_result"
    }
   ],
   "source": [
    "// Prepending 2 item\n",
    "println(\"Array e : \")\n",
    "val e = Array(10, 25) ++: d\n",
    "for (x <- e) \n",
    "{\n",
    "    println( x )\n",
    "}"
   ]
  },
  {
   "cell_type": "markdown",
   "id": "3e2a7119-4a26-4b09-b5fc-4d30a4852dbc",
   "metadata": {},
   "source": [
    "### GeneratRange"
   ]
  },
  {
   "cell_type": "code",
   "execution_count": 12,
   "id": "8fabe022-450f-4d0b-afcd-0c8153475f66",
   "metadata": {},
   "outputs": [
    {
     "name": "stdout",
     "output_type": "stream",
     "text": [
      "1\n",
      "2\n",
      "3\n",
      "4\n",
      "5\n",
      "6\n",
      "7\n",
      "8\n",
      "9\n",
      "10\n"
     ]
    },
    {
     "data": {
      "text/plain": [
       "range: scala.collection.immutable.Range.Inclusive = Range 1 to 10\n"
      ]
     },
     "execution_count": 12,
     "metadata": {},
     "output_type": "execute_result"
    }
   ],
   "source": [
    "var range = (1 to 10)\n",
    "\n",
    "for(x <- range)\n",
    "{\n",
    "    println(x)\n",
    "}"
   ]
  }
 ],
 "metadata": {
  "kernelspec": {
   "display_name": "spylon-kernel",
   "language": "scala",
   "name": "spylon-kernel"
  },
  "language_info": {
   "codemirror_mode": "text/x-scala",
   "file_extension": ".scala",
   "help_links": [
    {
     "text": "MetaKernel Magics",
     "url": "https://metakernel.readthedocs.io/en/latest/source/README.html"
    }
   ],
   "mimetype": "text/x-scala",
   "name": "scala",
   "pygments_lexer": "scala",
   "version": "0.4.1"
  }
 },
 "nbformat": 4,
 "nbformat_minor": 5
}
