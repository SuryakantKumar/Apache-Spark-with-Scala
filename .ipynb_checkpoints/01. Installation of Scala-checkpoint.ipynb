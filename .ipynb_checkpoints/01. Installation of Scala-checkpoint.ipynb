{
 "cells": [
  {
   "cell_type": "markdown",
   "id": "75a04f07-d5e8-47d2-aae2-b5e280f02cda",
   "metadata": {},
   "source": [
    "## Installation of Scala (Mac)\n",
    "\n",
    "* Download TAR version of [Scala](https://www.scala-lang.org/download/2.12.3.html)\n",
    "\n",
    "* Open Terminal and Go to the directory where installer is present\n",
    "\n",
    "```\n",
    "cd Downloads/\n",
    "tar -zxvf scala-2.12.3.tgz\n",
    "sudo cp -R scala-2.12.3 /usr/local/scala\n",
    "```\n",
    "\n",
    "* Move extracted Scala to `/Users/suryakantkumar` directory\n",
    "\n",
    "* Open Terminal again\n",
    "\n",
    "```\n",
    "sudo nano ~/.bash-profile\n",
    "```\n",
    "\n",
    "* Copy these comands in `.bash_profile`\n",
    "\n",
    "```\n",
    "export SCALA_HOME=\"Users/suryakantkumar/scala-2.12.3\"\n",
    "export PATH=$PATH:$SCALA_HOME/bin\n",
    "```\n",
    "\n",
    "* Verify version of Scala using Terminal\n",
    "\n",
    "```\n",
    "scala -version\n",
    "```"
   ]
  },
  {
   "cell_type": "markdown",
   "id": "bfede6d4-27d3-4672-a245-32015cd5384b",
   "metadata": {},
   "source": [
    "## Installation of Scala Using brew\n",
    "\n",
    "* Open terminal\n",
    "\n",
    "```\n",
    "brew install scala\n",
    "```"
   ]
  },
  {
   "cell_type": "markdown",
   "id": "1f40cf14-9e11-4a82-bcc1-1b957d0c5c1e",
   "metadata": {},
   "source": [
    "## Installation of Ammonite - REPL\n",
    "\n",
    "* Ammonite let us use the Scala language for scripting purposes: in the REPL or as scripts.\n",
    "\n",
    "* For installation, open terminal\n",
    "\n",
    "```\n",
    "brew install ammonite-repl\n",
    "```\n",
    "\n",
    "* We can start ammonite through terminal\n",
    "\n",
    "```\n",
    "amm\n",
    "```"
   ]
  },
  {
   "cell_type": "markdown",
   "id": "21600db7-ed9b-4662-b5fe-6fcb2c72cd1b",
   "metadata": {},
   "source": [
    "## Installation of Scala Kernel on Jupter Environment\n",
    "\n",
    "* In python3 kernal on Jupyter Environment, Give command to install the package `spylon-kernel` which we can use to write scala on Jupyter environment.\n",
    "\n",
    "```python\n",
    "!pip install spylon-kernel\n",
    "```\n",
    "* Now Create a Kernal Spec which will allow us to select scala kernal in Notebook\n",
    "\n",
    "```python\n",
    "!python -m spylon_kernel install\n",
    "```\n",
    "\n",
    "* Now we can select `spylon-kernel` to write scala"
   ]
  }
 ],
 "metadata": {
  "kernelspec": {
   "display_name": "spylon-kernel",
   "language": "scala",
   "name": "spylon-kernel"
  },
  "language_info": {
   "codemirror_mode": "text/x-scala",
   "file_extension": ".scala",
   "help_links": [
    {
     "text": "MetaKernel Magics",
     "url": "https://metakernel.readthedocs.io/en/latest/source/README.html"
    }
   ],
   "mimetype": "text/x-scala",
   "name": "scala",
   "pygments_lexer": "scala",
   "version": "0.4.1"
  }
 },
 "nbformat": 4,
 "nbformat_minor": 5
}
