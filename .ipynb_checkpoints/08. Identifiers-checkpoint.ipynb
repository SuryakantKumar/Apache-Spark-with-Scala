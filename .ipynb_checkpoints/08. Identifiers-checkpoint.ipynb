{
 "cells": [
  {
   "cell_type": "markdown",
   "id": "52fdaaaf-03f3-46f7-a184-991e03abd381",
   "metadata": {},
   "source": [
    "## Scala Identifiers\n",
    "\n",
    "In programming languages, `Identifiers` are used for identification purpose. In Scala, an identifier can be a class name, method name, variable name or an object name. "
   ]
  },
  {
   "cell_type": "code",
   "execution_count": 1,
   "id": "70775164-cf2f-41e0-a304-37f0f04e0b9b",
   "metadata": {},
   "outputs": [
    {
     "data": {
      "text/plain": [
       "Intitializing Scala interpreter ..."
      ]
     },
     "metadata": {},
     "output_type": "display_data"
    },
    {
     "data": {
      "text/plain": [
       "Spark Web UI available at http://192.168.29.42:4042\n",
       "SparkContext available as 'sc' (version = 3.3.0, master = local[*], app id = local-1669965516827)\n",
       "SparkSession available as 'spark'\n"
      ]
     },
     "metadata": {},
     "output_type": "display_data"
    },
    {
     "data": {
      "text/plain": [
       "defined class Suryakant\n",
       "defined object Main\n"
      ]
     },
     "execution_count": 1,
     "metadata": {},
     "output_type": "execute_result"
    }
   ],
   "source": [
    "class Suryakant{\n",
    "    var a: Int = 20\n",
    "}\n",
    "\n",
    "object Main {\n",
    "    def main(args: Array[String]) {\n",
    "        var ob = new Suryakant();\n",
    "    }\n",
    "}"
   ]
  },
  {
   "cell_type": "markdown",
   "id": "f60240c0-45ff-49a5-9bee-5f8abae3d0ac",
   "metadata": {},
   "source": [
    "##### In the above program we have 6 identifiers: \n",
    "\n",
    "* Suryakant : Class name\n",
    "* a : Variable name\n",
    "* Main : Object name\n",
    "* main : Method name\n",
    "* args : Variable name\n",
    "* ob : Object name"
   ]
  },
  {
   "cell_type": "markdown",
   "id": "6f99fee1-9bfd-4cfb-9196-ae56300db6e5",
   "metadata": {},
   "source": [
    "### Scala Identifier Rules\n",
    "\n",
    "There are certain rules for defining a valid Scala identifier. These rules must be followed, otherwise we'll get a compile-time error.  \n",
    "\n",
    "* Scala identifiers are `case-sensitive`.\n",
    "* Scala does not allows you to use `keyword` as an identifier.\n",
    "* `Reserved Words` can’t be used as an identifier like $ etc.\n",
    "* Scala only allowed those identifiers which are created using below four types of identifiers.\n",
    "* There is `no limit` on the `length` of the identifier, but it is advisable to use an optimum length of `4 – 15` letters only.\n",
    "* Identifiers should not start with digits`[0-9]`. For example “123name” is a not a valid Scala identifier."
   ]
  },
  {
   "cell_type": "markdown",
   "id": "4217f500-5389-45bf-8044-74faba5f2f56",
   "metadata": {},
   "source": [
    "### Types of Identifiers\n",
    "\n",
    "* Alphanumeric Identifiers\n",
    "* Operator Identifiers\n",
    "* Mixed Identifiers\n",
    "* Literal Identifiers"
   ]
  },
  {
   "cell_type": "markdown",
   "id": "32809ae5-d8f1-473b-b9f1-b865a5bdc1c2",
   "metadata": {},
   "source": [
    "### Alphanumeric Identifiers\n",
    "\n",
    "These identifiers are those identifiers which start with a letter (capital or small letter) or an underscore and followed by letters, digits, or underscores.\n",
    "\n",
    "Example of valid alphanumeric identifiers:\n",
    "\n",
    "```scala\n",
    "_SURYAKANT, suryakant123, _1_Surya_23, Suryakant\n",
    "```\n",
    "Example of Invalid alphanumeric identifiers: \n",
    "\n",
    "```scala\n",
    "123S, $Suryakant, -suryakant\n",
    "```"
   ]
  },
  {
   "cell_type": "markdown",
   "id": "a9ba70a0-67fb-4ea5-b4d7-11cf9a11cb14",
   "metadata": {},
   "source": [
    "### Operator Identifiers\n",
    "\n",
    "These are the identifiers which contain one or more operator character like `+`, `:`, `?`, `~`, `#`\n",
    "\n",
    "Example of valid operator identifiers:\n",
    "\n",
    "```scala\n",
    "+, ++\n",
    "```"
   ]
  },
  {
   "cell_type": "markdown",
   "id": "98f50ae2-994c-432d-8b8b-b45a932f0d2d",
   "metadata": {},
   "source": [
    "### Mixed Identifiers\n",
    "\n",
    "These are the identifiers which contains alphanumeric identifiers followed by underscore and an operator identifier. \n",
    "\n",
    "Example of valid mixed identifiers: \n",
    "```scala\n",
    "unary_+, sum_=\n",
    "```"
   ]
  },
  {
   "cell_type": "markdown",
   "id": "c807e2a5-6fe9-4fa0-8117-7797dfc6f761",
   "metadata": {},
   "source": [
    "### Literal Identifiers\n",
    "\n",
    "These are the identifiers in which an arbitrary string enclosed with back ticks.\n",
    "\n",
    "Example of valid mixed identifiers:\n",
    "```scala\n",
    "`Geeks`, `name`\n",
    "```"
   ]
  }
 ],
 "metadata": {
  "kernelspec": {
   "display_name": "spylon-kernel",
   "language": "scala",
   "name": "spylon-kernel"
  },
  "language_info": {
   "codemirror_mode": "text/x-scala",
   "file_extension": ".scala",
   "help_links": [
    {
     "text": "MetaKernel Magics",
     "url": "https://metakernel.readthedocs.io/en/latest/source/README.html"
    }
   ],
   "mimetype": "text/x-scala",
   "name": "scala",
   "pygments_lexer": "scala",
   "version": "0.4.1"
  }
 },
 "nbformat": 4,
 "nbformat_minor": 5
}
