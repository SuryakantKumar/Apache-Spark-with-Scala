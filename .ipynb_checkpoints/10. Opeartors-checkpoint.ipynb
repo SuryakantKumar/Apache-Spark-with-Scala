{
 "cells": [
  {
   "cell_type": "markdown",
   "id": "f46de832-1851-40bd-8752-ce925fa481be",
   "metadata": {},
   "source": [
    "## Operators In Scala\n",
    "\n",
    "* An operator is a symbol that represents an operation to be performed with one or more operand. \n",
    "\n",
    "* Operators allow us to perform different kinds of operations on operands. \n",
    "\n",
    "* There are different types of operators used in Scala as follows:\n",
    "\n",
    "    * Arithmetic Operators\n",
    "    * Relational Operators\n",
    "    * Logical Operators\n",
    "    * Assignment Operators\n",
    "    * Bitwise Operators"
   ]
  },
  {
   "cell_type": "markdown",
   "id": "e8723e49-9443-4b01-80db-1bc41df9063a",
   "metadata": {},
   "source": [
    "### Arithmetic Operators\n",
    "\n",
    "These are used to perform arithmetic/mathematical operations on operands.  \n",
    "\n",
    "* `Addition (+)` operator adds two operands. For example, x + y\n",
    "\n",
    "* `Subtraction (-)` operator subtracts two operands. For example, x - y\n",
    "\n",
    "* `Multiplication (*)` operator multiplies two operands. For example, x * y\n",
    "\n",
    "* `Division (/)` operator divides the first operand by the second. For example, x / y\n",
    "\n",
    "* `Modulus (%)` operator returns the remainder when the first operand is divided by the second. For example, x % y"
   ]
  },
  {
   "cell_type": "code",
   "execution_count": 1,
   "id": "21e2410b-610b-4fea-bde4-21bc8b819a3b",
   "metadata": {},
   "outputs": [
    {
     "data": {
      "text/plain": [
       "Intitializing Scala interpreter ..."
      ]
     },
     "metadata": {},
     "output_type": "display_data"
    },
    {
     "data": {
      "text/plain": [
       "Spark Web UI available at http://192.168.29.42:4044\n",
       "SparkContext available as 'sc' (version = 3.3.0, master = local[*], app id = local-1669965617863)\n",
       "SparkSession available as 'spark'\n"
      ]
     },
     "metadata": {},
     "output_type": "display_data"
    },
    {
     "name": "stdout",
     "output_type": "stream",
     "text": [
      "Addition of a + b = 80\n",
      "Subtraction of a - b = 20\n",
      "Multiplication of a * b = 1500\n",
      "Division of a / b = 1\n",
      "Modulus of a % b = 20\n"
     ]
    },
    {
     "data": {
      "text/plain": [
       "a: Int = 50\n",
       "b: Int = 30\n"
      ]
     },
     "execution_count": 1,
     "metadata": {},
     "output_type": "execute_result"
    }
   ],
   "source": [
    "// variables\n",
    "var a = 50;\n",
    "var b = 30;\n",
    "\n",
    "// Addition\n",
    "println(\"Addition of a + b = \" + (a + b));\n",
    "\n",
    "// Subtraction\n",
    "println(\"Subtraction of a - b = \" + (a - b));\n",
    "\n",
    "// Multiplication\n",
    "println(\"Multiplication of a * b = \" + (a * b));\n",
    "\n",
    "// Division\n",
    "println(\"Division of a / b = \" + (a / b));\n",
    "\n",
    "// Modulus\n",
    "println(\"Modulus of a % b = \" + (a % b));"
   ]
  },
  {
   "cell_type": "markdown",
   "id": "2b50544d-f462-4270-97dd-5a5f649186ec",
   "metadata": {},
   "source": [
    "### Relational Operators\n",
    "\n",
    "Relational operators or Comparison operators are used for comparison of two values.\n",
    "\n",
    "* `Equal To (==)` operator checks whether the two given operands are equal or not. If so, it returns true Otherwise, it returns false. For example, 5==5 will return true.\n",
    "\n",
    "* `Not Equal To (!=)` operator checks whether the two given operands are equal or not. If not, it returns true, Otherwise it returns false. It is the exact boolean complement of the '==' operator. For example, 5!=5 will return false.\n",
    "\n",
    "* `Greater Than (>)` operator checks whether the first operand is greater than the second operand. If so, it returns true, Otherwise it returns false. For example, 6>5 will return true.\n",
    "\n",
    "* `Less than (<)` operator checks whether the first operand is less than the second operand. If so, it returns true, Otherwise it returns false. For example, 6<5 will return false.\n",
    "\n",
    "* `Greater Than Equal To (>=)` operator checks whether the first operand is greater than or equal to the second operand. If so, it returns true, Otherwise it returns false. For example, 5>=5 will return true.\n",
    "\n",
    "* `Less Than Equal To (<=)` operator checks whether the first operand is less than or equal to the second operand. If so, it returns true, Otherwise it returns false. For example, 5<=5 will also return true."
   ]
  },
  {
   "cell_type": "code",
   "execution_count": 2,
   "id": "7bae2514-df8d-403a-a1e3-cf28f67fba20",
   "metadata": {},
   "outputs": [
    {
     "name": "stdout",
     "output_type": "stream",
     "text": [
      "Equality of a == b is : false\n",
      "Not Equals of a != b is : true\n",
      "Greater than of a > b is : true\n",
      "Lesser than of a < b is : false\n",
      "Greater than or Equal to of a >= b is : true\n",
      "Lesser than or Equal to of a <= b is : false\n"
     ]
    },
    {
     "data": {
      "text/plain": [
       "a: Int = 50\n",
       "b: Int = 30\n"
      ]
     },
     "execution_count": 2,
     "metadata": {},
     "output_type": "execute_result"
    }
   ],
   "source": [
    "// variables\n",
    "var a = 50;\n",
    "var b = 30;\n",
    "\n",
    "// Equal to operator\n",
    "println(\"Equality of a == b is : \" + (a == b));\n",
    "\n",
    "// Not equal to operator\n",
    "println(\"Not Equals of a != b is : \" + (a != b));\n",
    "\n",
    "// Greater than operator\n",
    "println(\"Greater than of a > b is : \" + (a > b));\n",
    "\n",
    "// Lesser than operator\n",
    "println(\"Lesser than of a < b is : \" + (a < b));\n",
    "\n",
    "// Greater than equal to operator\n",
    "println(\"Greater than or Equal to of a >= b is : \" + (a >= b));\n",
    "\n",
    "// Lesser than equal to operator\n",
    "println(\"Lesser than or Equal to of a <= b is : \" + (a <= b));"
   ]
  },
  {
   "cell_type": "markdown",
   "id": "e76303ff-fd66-414d-91cc-0c75251b4714",
   "metadata": {},
   "source": [
    "### Logical Operators\n",
    "\n",
    "They are used to combine two or more conditions/constraints or to complement the evaluation of the original condition in consideration.\n",
    "\n",
    "* `Logical AND (&&)` operator returns true when both the conditions in consideration are satisfied, Otherwise it returns false. Using `and` is an alternate for && operator. For example, a && b returns true when both a and b are true (i.e. non-zero).\n",
    "\n",
    "* `Logical OR (||)` operator returns true when one (or both) of the conditions in consideration is satisfied, Otherwise it returns false. Using `or` is an alternate for || operator. For example, a || b returns true if one of a or b is true (i.e. non-zero). Of course, it returns true when both a and b are true.\n",
    "\n",
    "* `Logical NOT (!)` operator returns true the condition in consideration is not satisfied, Otherwise it returns false. Using `not` is an alternate for ! operator. For example, !true returns false."
   ]
  },
  {
   "cell_type": "code",
   "execution_count": 3,
   "id": "c0047e7b-22e2-4cdd-949a-cab310d7644f",
   "metadata": {},
   "outputs": [
    {
     "name": "stdout",
     "output_type": "stream",
     "text": [
      "Logical Not of !(a && b) = true\n",
      "Logical Or of a || b = true\n",
      "Logical And of a && b = false\n"
     ]
    },
    {
     "data": {
      "text/plain": [
       "a: Boolean = false\n",
       "b: Boolean = true\n"
      ]
     },
     "execution_count": 3,
     "metadata": {},
     "output_type": "execute_result"
    }
   ],
   "source": [
    "// variables\n",
    "var a = false;\n",
    "var b = true;\n",
    "\n",
    "// logical NOT operator\n",
    "println(\"Logical Not of !(a && b) = \" + !(a && b));\n",
    "\n",
    "// logical OR operator\n",
    "println(\"Logical Or of a || b = \" + (a || b));\n",
    "\n",
    "// logical AND operator\n",
    "println(\"Logical And of a && b = \" + (a && b));"
   ]
  },
  {
   "cell_type": "markdown",
   "id": "464fd015-4f36-4f50-9efc-2b5c0a66b992",
   "metadata": {},
   "source": [
    "### Assignment Operators\n",
    "\n",
    "Assignment operators are used to assigning a value to a variable. The left side operand of the assignment operator is a variable and right side operand of the assignment operator is a value.\n",
    "\n",
    "* `Simple Assignment (=)` operator is the simplest assignment operator. This operator is used to assign the value on the right to the variable on the left.\n",
    "\n",
    "* `Add AND Assignment (+=)` operator is used for adding left operand with right operand and then assigning it to variable on the left.\n",
    "\n",
    "* `Subtract AND Assignment (-=)` operator is used for subtracting left operand with right operand and then assigning it to variable on the left.\n",
    "\n",
    "* `Multiply AND Assignment (*=)` operator is used for multiplying the left operand with right operand and then assigning it to the variable on the left.\n",
    "\n",
    "* `Divide AND Assignment (/=)` operator is used for dividing left operand with right operand and then assigning it to variable on the left.\n",
    "\n",
    "* `Modulus AND Assignment (%=)` operator is used for assigning modulo of left operand with right operand and then assigning it to the variable on the left.\n",
    "\n",
    "* `Left shift AND Assignment (<<=)` operator is used to perform binary left shift of the left operand with the right operand and assigning it to the variable on the left.\n",
    "\n",
    "* `Right shift AND Assignment (>>=)` operator is used to perform binary right shift of the left operand with the right operand and assigning it to the variable on the left.\n",
    "\n",
    "* `Bitwise AND Assignment (&=)` operator is used to perform Bitwise And of the left operand with the right operand and assigning it to the variable on the left.\n",
    "\n",
    "* `Bitwise exclusive OR and Assignment (^=)` operator is used to perform Bitwise exclusive OR of the left operand with the right operand and assigning it to the variable on the left.\n",
    "\n",
    "* `Bitwise inclusive OR and Assignment (|=)` operator is used to perform Bitwise inclusive OR of the left operand with the right operand and assigning it to the variable on the left."
   ]
  },
  {
   "cell_type": "code",
   "execution_count": 4,
   "id": "7a7b3120-7d94-48b8-ae06-60640eb2cf5c",
   "metadata": {},
   "outputs": [
    {
     "name": "stdout",
     "output_type": "stream",
     "text": [
      "simple addition: c = a + b : 90\n",
      "Add and assignment of c += a : 140\n",
      "Subtract and assignment of c -= a : 90\n",
      "Multiplication and assignment of c *= a : 4500\n",
      "Division and assignment of c /= a : 90\n",
      "Modulus and assignment of c %= a : 40\n",
      "Left shift and assignment of c <<= 3 : 320\n",
      "Right shift and assignment of c >>= 3 : 40\n",
      "Bitwise And assignment of c &= 3 : 32\n",
      "Bitwise Xor and assignment of c ^= a : 18\n",
      "Bitwise Or and assignment of c |= a : 50\n"
     ]
    },
    {
     "data": {
      "text/plain": [
       "a: Int = 50\n",
       "b: Int = 40\n",
       "c: Int = 50\n",
       "c: Int = 50\n"
      ]
     },
     "execution_count": 4,
     "metadata": {},
     "output_type": "execute_result"
    }
   ],
   "source": [
    "// variables\n",
    "var a = 50;\n",
    "var b = 40;\n",
    "var c = 0;\n",
    "\n",
    "// simple addition\n",
    "c = a + b;\n",
    "println(\"simple addition: c = a + b : \" + c);\n",
    "\n",
    "// Add AND assignment\n",
    "c += a;\n",
    "println(\"Add and assignment of c += a : \" + c);\n",
    "\n",
    "// Subtract AND assignment\n",
    "c -= a;\n",
    "println(\"Subtract and assignment of c -= a : \" + c);\n",
    "\n",
    "// Multiply AND assignment\n",
    "c *= a;\n",
    "println(\"Multiplication and assignment of c *= a : \" + c);\n",
    "\n",
    "// Divide AND assignment\n",
    "c /= a;\n",
    "println(\"Division and assignment of c /= a : \" + c);\n",
    "\n",
    "// Modulus AND assignment\n",
    "c %= a;\n",
    "println(\"Modulus and assignment of c %= a : \" + c);\n",
    "\n",
    "// Left shift AND assignment\n",
    "c <<= 3;\n",
    "println(\"Left shift and assignment of c <<= 3 : \" + c);\n",
    "\n",
    "// Right shift AND assignment\n",
    "c >>= 3;\n",
    "println(\"Right shift and assignment of c >>= 3 : \" + c);\n",
    "\n",
    "// Bitwise AND assignment\n",
    "c &= a;\n",
    "println(\"Bitwise And assignment of c &= 3 : \" + c);\n",
    "\n",
    "// Bitwise exclusive OR and assignment\n",
    "c ^= a;\n",
    "println(\"Bitwise Xor and assignment of c ^= a : \" + c);\n",
    "\n",
    "// Bitwise inclusive OR and assignment\n",
    "c |= a;\n",
    "println(\"Bitwise Or and assignment of c |= a : \" + c);"
   ]
  },
  {
   "cell_type": "markdown",
   "id": "da4c6542-c141-416a-a6a8-26aafd60a698",
   "metadata": {},
   "source": [
    "### Bitwise Operators\n",
    "\n",
    "In Scala, there are 7 bitwise operators which work at bit level or used to perform bit by bit operations.\n",
    "\n",
    "* `Bitwise AND (&) :` Takes two numbers as operands and does AND on every bit of two numbers. The result of AND is 1 only if both bits are 1.\n",
    "\n",
    "* `Bitwise OR (|) :` Takes two numbers as operands and does OR on every bit of two numbers. The result of OR is 1 any of the two bits is 1.\n",
    "\n",
    "* `Bitwise XOR (^) :` Takes two numbers as operands and does XOR on every bit of two numbers. The result of XOR is 1 if the two bits are different.\n",
    "\n",
    "* `Bitwise left Shift (<<) :` Takes two numbers, left shifts the bits of the first operand, the second operand decides the number of places to shift.\n",
    "\n",
    "* `Bitwise right Shift (>>) :` Takes two numbers, right shifts the bits of the first operand, the second operand decides the number of places to shift.\n",
    "\n",
    "* `Bitwise ones Complement (~) :` This operator takes a single number and used to perform the complement operation of 8-bit.\n",
    "\n",
    "* `Bitwise shift right zero fill (>>>) :` In shift right zero fill operator, left operand is shifted right by the number of bits specified by the right operand, and the shifted values are filled up with zeros."
   ]
  },
  {
   "cell_type": "code",
   "execution_count": 5,
   "id": "a6d50526-b768-4316-b150-2326426dd944",
   "metadata": {},
   "outputs": [
    {
     "name": "stdout",
     "output_type": "stream",
     "text": [
      "Bitwise And of a & b = 16\n",
      "Bitwise Or of a | b = 22\n",
      "Bitwise Xor of a ^ b = 6\n",
      "Bitwise Ones Complement of ~a = -21\n",
      "Bitwise Left Shift of a << 3 = 160\n",
      "Bitwise Right Shift of a >> 3 = 2\n",
      "Bitwise Shift Right a >>> 4 = 1\n"
     ]
    },
    {
     "data": {
      "text/plain": [
       "a: Int = 20\n",
       "b: Int = 18\n",
       "c: Int = 1\n",
       "c: Int = 1\n",
       "c: Int = 1\n",
       "c: Int = 1\n",
       "c: Int = 1\n",
       "c: Int = 1\n",
       "c: Int = 1\n",
       "c: Int = 1\n"
      ]
     },
     "execution_count": 5,
     "metadata": {},
     "output_type": "execute_result"
    }
   ],
   "source": [
    "// variables\n",
    "var a = 20;\n",
    "var b = 18;\n",
    "var c = 0;\n",
    "\n",
    "// Bitwise AND operator\n",
    "c = a & b;\n",
    "println(\"Bitwise And of a & b = \" + c);\n",
    "\n",
    "// Bitwise OR operator\n",
    "c = a | b;\n",
    "println(\"Bitwise Or of a | b = \" + c);\n",
    "\n",
    "// Bitwise XOR operator\n",
    "c = a ^ b;\n",
    "println(\"Bitwise Xor of a ^ b = \" + c);\n",
    "\n",
    "// Bitwise once complement operator\n",
    "c = ~a;\n",
    "println(\"Bitwise Ones Complement of ~a = \" + c);\n",
    "\n",
    "// Bitwise left shift operator\n",
    "c = a << 3;\n",
    "println(\"Bitwise Left Shift of a << 3 = \" + c);\n",
    "\n",
    "// Bitwise right shift operator\n",
    "c = a >> 3;\n",
    "println(\"Bitwise Right Shift of a >> 3 = \" + c);\n",
    "\n",
    "// Bitwise shift right zero fill operator\n",
    "c = a >>> 4;\n",
    "println(\"Bitwise Shift Right a >>> 4 = \" + c);"
   ]
  }
 ],
 "metadata": {
  "kernelspec": {
   "display_name": "spylon-kernel",
   "language": "scala",
   "name": "spylon-kernel"
  },
  "language_info": {
   "codemirror_mode": "text/x-scala",
   "file_extension": ".scala",
   "help_links": [
    {
     "text": "MetaKernel Magics",
     "url": "https://metakernel.readthedocs.io/en/latest/source/README.html"
    }
   ],
   "mimetype": "text/x-scala",
   "name": "scala",
   "pygments_lexer": "scala",
   "version": "0.4.1"
  }
 },
 "nbformat": 4,
 "nbformat_minor": 5
}
