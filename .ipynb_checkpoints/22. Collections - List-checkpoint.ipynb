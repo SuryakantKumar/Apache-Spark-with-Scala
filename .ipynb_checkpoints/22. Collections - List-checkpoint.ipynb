{
 "cells": [
  {
   "cell_type": "markdown",
   "id": "090a01ba-238b-40f4-ab5f-27a3a52d2f04",
   "metadata": {},
   "source": [
    "## Scala Lists\n",
    "\n",
    "A `list` is a collection which contains `immutable` data.\n",
    "\n",
    "`List` represents `linked list` in Scala.\n",
    "\n",
    "The Scala List class holds a sequenced, linear list of items.\n",
    "\n",
    "Following are the point of difference between lists and array in Scala:\n",
    "\n",
    "* Lists are immutable whereas arrays are mutable in Scala.\n",
    "\n",
    "* Lists represents a linked list whereas arrays are flat.\n",
    "\n",
    "Syntax:\n",
    "\n",
    "```scala\n",
    "val variable_name: List[type] = List(item1, item2, item3)\n",
    "or\n",
    "val variable_name = List(item1, item2, item3)\n",
    "```"
   ]
  },
  {
   "cell_type": "markdown",
   "id": "8bcae6ef-9b7a-49d5-83cf-e7f7376567e2",
   "metadata": {},
   "source": [
    "Some important points about list in Scala:\n",
    "\n",
    "* In a Scala list, each element must be of the same type.\n",
    "\n",
    "* The implementation of lists uses mutable state internally during construction.\n",
    "\n",
    "* In Scala, list is defined under `scala.collection.immutable` package.\n",
    "\n",
    "* A List has various methods to `add`, `prepend`, `max`, `min` to enhance the usage of list."
   ]
  },
  {
   "cell_type": "code",
   "execution_count": 1,
   "id": "0c3d052d-7e72-45ab-a963-838a5e21ae83",
   "metadata": {},
   "outputs": [
    {
     "data": {
      "text/plain": [
       "Intitializing Scala interpreter ..."
      ]
     },
     "metadata": {},
     "output_type": "display_data"
    },
    {
     "data": {
      "text/plain": [
       "Spark Web UI available at http://192.168.1.138:4044\n",
       "SparkContext available as 'sc' (version = 3.3.0, master = local[*], app id = local-1670266785502)\n",
       "SparkSession available as 'spark'\n"
      ]
     },
     "metadata": {},
     "output_type": "display_data"
    },
    {
     "name": "stdout",
     "output_type": "stream",
     "text": [
      "List 1:\n",
      "List(abc, def, ghi, jkl)\n",
      "\n",
      "List 2:\n",
      "C\n",
      "C#\n",
      "Java\n",
      "Scala\n",
      "PHP\n",
      "Ruby\n"
     ]
    },
    {
     "data": {
      "text/plain": [
       "import scala.collection.immutable._\n",
       "mylist1: List[String] = List(abc, def, ghi, jkl)\n",
       "mylist2: List[String] = List(C, C#, Java, Scala, PHP, Ruby)\n"
      ]
     },
     "execution_count": 1,
     "metadata": {},
     "output_type": "execute_result"
    }
   ],
   "source": [
    "import scala.collection.immutable._\n",
    "  \n",
    "// Creating and initializing immutable lists\n",
    "val mylist1: List[String] = List(\"abc\", \"def\", \"ghi\", \"jkl\")\n",
    "val mylist2 = List(\"C\", \"C#\", \"Java\", \"Scala\", \"PHP\", \"Ruby\")\n",
    "\n",
    "// Display the value of mylist1\n",
    "println(\"List 1:\")\n",
    "println(mylist1)\n",
    "\n",
    "// Display the value of mylist2 using for loop\n",
    "println(\"\\nList 2:\")\n",
    "for(mylist <- mylist2)\n",
    "{\n",
    "    println(mylist)\n",
    "}"
   ]
  },
  {
   "cell_type": "markdown",
   "id": "59456fc2-c169-41bf-9d3b-1904115f76cb",
   "metadata": {},
   "source": [
    "### Empty List"
   ]
  },
  {
   "cell_type": "code",
   "execution_count": 2,
   "id": "ab5a1a61-fa69-4087-927d-8d9c92fdddf4",
   "metadata": {},
   "outputs": [
    {
     "name": "stdout",
     "output_type": "stream",
     "text": [
      "The empty list is:\n",
      "List()\n"
     ]
    },
    {
     "data": {
      "text/plain": [
       "import scala.collection.immutable._\n",
       "emptylist: List[Nothing] = List()\n"
      ]
     },
     "execution_count": 2,
     "metadata": {},
     "output_type": "execute_result"
    }
   ],
   "source": [
    "import scala.collection.immutable._\n",
    "  \n",
    "// Creating an Empty List.\n",
    "val emptylist: List[Nothing] = List()\n",
    "println(\"The empty list is:\")\n",
    "println(emptylist)"
   ]
  },
  {
   "cell_type": "markdown",
   "id": "1df33f8d-db12-4da4-9908-38dd9d5db5b3",
   "metadata": {},
   "source": [
    "### Two Dimensional List"
   ]
  },
  {
   "cell_type": "code",
   "execution_count": 3,
   "id": "f62fca82-b742-48d5-a234-33335dba8a47",
   "metadata": {},
   "outputs": [
    {
     "name": "stdout",
     "output_type": "stream",
     "text": [
      "The two dimensional list is:\n",
      "List(List(1, 0, 0), List(0, 1, 0), List(0, 0, 1))\n"
     ]
    },
    {
     "data": {
      "text/plain": [
       "import scala.collection.immutable._\n",
       "twodlist: List[List[Int]] = List(List(1, 0, 0), List(0, 1, 0), List(0, 0, 1))\n"
      ]
     },
     "execution_count": 3,
     "metadata": {},
     "output_type": "execute_result"
    }
   ],
   "source": [
    "import scala.collection.immutable._\n",
    "  \n",
    "// Creating a two-dimensional List.\n",
    "val twodlist: List[List[Int]] = List(List(1, 0, 0),\n",
    "                                     List(0, 1, 0),\n",
    "                                     List(0, 0, 1))\n",
    "println(\"The two dimensional list is:\")\n",
    "println(twodlist)"
   ]
  },
  {
   "cell_type": "markdown",
   "id": "487c7382-23ac-4905-b71d-43c7b84c2dfe",
   "metadata": {},
   "source": [
    "### Basic Operations on Lists\n",
    "\n",
    "The following are the three basic operations which can be performed on list in scala :\n",
    "\n",
    "**1. head** : The first element of a list returned by head method.\n",
    "\n",
    "Syntax:\n",
    "```scala\n",
    "list.head //returns head of the list\n",
    "```"
   ]
  },
  {
   "cell_type": "code",
   "execution_count": 4,
   "id": "f211a1e2-b3a2-453a-80dd-feb61ac3f33a",
   "metadata": {},
   "outputs": [
    {
     "name": "stdout",
     "output_type": "stream",
     "text": [
      "The head of the list is:\n",
      "C\n"
     ]
    },
    {
     "data": {
      "text/plain": [
       "import scala.collection.immutable._\n",
       "mylist: List[String] = List(C, C#, Java, Scala, PHP, Ruby)\n"
      ]
     },
     "execution_count": 4,
     "metadata": {},
     "output_type": "execute_result"
    }
   ],
   "source": [
    "import scala.collection.immutable._\n",
    "  \n",
    "val mylist = List(\"C\", \"C#\", \"Java\", \"Scala\", \"PHP\", \"Ruby\")\n",
    "println(\"The head of the list is:\")\n",
    "println(mylist.head)"
   ]
  },
  {
   "cell_type": "markdown",
   "id": "1db7e8dc-8016-4e17-a57f-40e543555a39",
   "metadata": {},
   "source": [
    "**2. tail** : This method returns a list consisting of all elements except the first.\n",
    "\n",
    "Syntax:\n",
    "```scala\n",
    "list.tail //returns a list consisting of all elements except the first\n",
    "```"
   ]
  },
  {
   "cell_type": "code",
   "execution_count": 5,
   "id": "0aa4fa62-6cb5-4d91-a007-46e4b91155fa",
   "metadata": {},
   "outputs": [
    {
     "name": "stdout",
     "output_type": "stream",
     "text": [
      "The tail of the list is:\n",
      "List(C#, Java, Scala, PHP, Ruby)\n"
     ]
    },
    {
     "data": {
      "text/plain": [
       "import scala.collection.immutable._\n",
       "mylist: List[String] = List(C, C#, Java, Scala, PHP, Ruby)\n"
      ]
     },
     "execution_count": 5,
     "metadata": {},
     "output_type": "execute_result"
    }
   ],
   "source": [
    "import scala.collection.immutable._\n",
    "  \n",
    "val mylist = List(\"C\", \"C#\", \"Java\", \"Scala\", \"PHP\", \"Ruby\")\n",
    "println(\"The tail of the list is:\")\n",
    "println(mylist.tail)"
   ]
  },
  {
   "cell_type": "markdown",
   "id": "84266455-1852-4bcb-b610-ecb56ccf3a31",
   "metadata": {},
   "source": [
    "**3. isEmpty** : This method returns `true` if the list is empty otherwise `false`.\n",
    "\n",
    "Syntax:\n",
    "```scala\n",
    "list.isEmpty //returns true if the list is empty otherwise false.\n",
    "```"
   ]
  },
  {
   "cell_type": "code",
   "execution_count": 6,
   "id": "4912431d-2a75-4f08-9d0d-8b0b36a41f02",
   "metadata": {},
   "outputs": [
    {
     "name": "stdout",
     "output_type": "stream",
     "text": [
      "List is empty or not:\n",
      "false\n"
     ]
    },
    {
     "data": {
      "text/plain": [
       "import scala.collection.immutable._\n",
       "mylist: List[String] = List(C, C#, Java, Scala, PHP, Ruby)\n"
      ]
     },
     "execution_count": 6,
     "metadata": {},
     "output_type": "execute_result"
    }
   ],
   "source": [
    "import scala.collection.immutable._\n",
    "  \n",
    "val mylist = List(\"C\", \"C#\", \"Java\", \"Scala\", \"PHP\", \"Ruby\")\n",
    "println(\"List is empty or not:\")\n",
    "println(mylist.isEmpty)"
   ]
  },
  {
   "cell_type": "markdown",
   "id": "b274f05b-7c06-431b-b54b-d343255c8c67",
   "metadata": {},
   "source": [
    "### Create a uniform list in Scala\n",
    "\n",
    "Uniform List can be created in Scala using `List.fill()` method.\n",
    "\n",
    "`List.fill()` method creates a list and fills it with zero or more copies of an element.\n",
    "\n",
    "Syntax:\n",
    "```scala\n",
    "List.fill() //used to create uniform list in Scala \n",
    "```"
   ]
  },
  {
   "cell_type": "code",
   "execution_count": 7,
   "id": "36a55362-e8d9-4acd-8291-ee627c0f06e0",
   "metadata": {},
   "outputs": [
    {
     "name": "stdout",
     "output_type": "stream",
     "text": [
      "Programming Language : List(Scala, Scala, Scala)\n",
      "number : List(4, 4, 4, 4, 4, 4, 4, 4)\n"
     ]
    },
    {
     "data": {
      "text/plain": [
       "import scala.collection.immutable._\n",
       "programminglanguage: List[String] = List(Scala, Scala, Scala)\n",
       "number: List[Int] = List(4, 4, 4, 4, 4, 4, 4, 4)\n"
      ]
     },
     "execution_count": 7,
     "metadata": {},
     "output_type": "execute_result"
    }
   ],
   "source": [
    "import scala.collection.immutable._\n",
    "  \n",
    "// Repeats Scala three times.\n",
    "val programminglanguage = List.fill(3)(\"Scala\") \n",
    "println( \"Programming Language : \" + programminglanguage )\n",
    "\n",
    "// Repeats 4, 8 times.\n",
    "val number= List.fill(8)(4)         \n",
    "println(\"number : \" + number) "
   ]
  },
  {
   "cell_type": "markdown",
   "id": "15c7ac24-a307-435f-a24b-af6ee744c36a",
   "metadata": {},
   "source": [
    "### Reversing List Order in Scala\n",
    "\n",
    "The list order can be reversed in Scala using `List.reverse` method.\n",
    "\n",
    "`List.reverse` method can be used to reverse all elements of the list.\n",
    "\n",
    "Syntax:\n",
    "```scala\n",
    "list.reverse //used to reverse list in Scala \n",
    "```"
   ]
  },
  {
   "cell_type": "code",
   "execution_count": 8,
   "id": "d53a7ab8-dd1f-49f2-b6ed-28fdef232bb3",
   "metadata": {},
   "outputs": [
    {
     "name": "stdout",
     "output_type": "stream",
     "text": [
      "Original list:List(1, 2, 3, 4, 5)\n",
      "Reverse list:List(5, 4, 3, 2, 1)\n"
     ]
    },
    {
     "data": {
      "text/plain": [
       "import scala.collection.immutable._\n",
       "mylist: List[Int] = List(1, 2, 3, 4, 5)\n"
      ]
     },
     "execution_count": 8,
     "metadata": {},
     "output_type": "execute_result"
    }
   ],
   "source": [
    "import scala.collection.immutable._\n",
    "  \n",
    "val mylist = List(1, 2, 3, 4, 5) \n",
    "println(\"Original list:\" + mylist)\n",
    "\n",
    "// reversing a list\n",
    "println(\"Reverse list:\" + mylist.reverse)"
   ]
  }
 ],
 "metadata": {
  "kernelspec": {
   "display_name": "spylon-kernel",
   "language": "scala",
   "name": "spylon-kernel"
  },
  "language_info": {
   "codemirror_mode": "text/x-scala",
   "file_extension": ".scala",
   "help_links": [
    {
     "text": "MetaKernel Magics",
     "url": "https://metakernel.readthedocs.io/en/latest/source/README.html"
    }
   ],
   "mimetype": "text/x-scala",
   "name": "scala",
   "pygments_lexer": "scala",
   "version": "0.4.1"
  }
 },
 "nbformat": 4,
 "nbformat_minor": 5
}
