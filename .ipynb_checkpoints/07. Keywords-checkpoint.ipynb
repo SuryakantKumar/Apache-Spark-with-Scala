{
 "cells": [
  {
   "cell_type": "markdown",
   "id": "a4fd8cec-feed-480b-8cf3-3476a8b795b1",
   "metadata": {},
   "source": [
    "## Scala Keywords\n",
    "\n",
    "* `Keywords` or Reserved words are the words in a language that are used for some internal process or represent some predefined actions. \n",
    "\n",
    "* These words are therefore not allowed to use as `variable names` or `objects`. Doing this will result in a `compile-time error`."
   ]
  },
  {
   "cell_type": "markdown",
   "id": "682b644a-0a98-40e8-b831-787362555b2d",
   "metadata": {},
   "source": [
    "Scala contains following keywords:\n",
    "\n",
    "* abstract\n",
    "* case\n",
    "* catch\n",
    "* class\n",
    "* def\n",
    "* do\n",
    "* else\n",
    "* extends\n",
    "* false\n",
    "* final\n",
    "* finally\n",
    "* for\n",
    "* forSome\n",
    "* if\n",
    "* implicit\n",
    "* import\n",
    "* lazy\n",
    "* match\n",
    "* new\n",
    "* null\n",
    "* object\n",
    "* override\n",
    "* package\n",
    "* private\n",
    "* protected\n",
    "* return\n",
    "* sealed\n",
    "* super\n",
    "* this\n",
    "* throw\n",
    "* trait\n",
    "* true\n",
    "* try\n",
    "* type\n",
    "* val\n",
    "* var\n",
    "* while\n",
    "* with\n",
    "* yield\n",
    "* `>:`\n",
    "* `⇒`\n",
    "* `=>`\n",
    "* `=`\n",
    "* `<%`\n",
    "* `<:`\n",
    "* `←`\n",
    "* `<-`\n",
    "* `#`\n",
    "* `@`\n",
    "* `:`\n",
    "* `_`"
   ]
  }
 ],
 "metadata": {
  "kernelspec": {
   "display_name": "spylon-kernel",
   "language": "scala",
   "name": "spylon-kernel"
  },
  "language_info": {
   "codemirror_mode": "text/x-scala",
   "file_extension": ".scala",
   "help_links": [
    {
     "text": "MetaKernel Magics",
     "url": "https://metakernel.readthedocs.io/en/latest/source/README.html"
    }
   ],
   "mimetype": "text/x-scala",
   "name": "scala",
   "pygments_lexer": "scala",
   "version": "0.4.1"
  }
 },
 "nbformat": 4,
 "nbformat_minor": 5
}
