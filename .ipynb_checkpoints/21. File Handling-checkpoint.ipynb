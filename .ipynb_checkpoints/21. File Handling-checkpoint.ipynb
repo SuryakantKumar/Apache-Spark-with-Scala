{
 "cells": [
  {
   "cell_type": "markdown",
   "id": "c82efb77-59c8-4859-a452-2be647ff2e25",
   "metadata": {},
   "source": [
    "## File Handling in Scala\n",
    "\n",
    "File Handling is a way to store the fetched information in a file. \n",
    "\n",
    "Scala provides packages from which we can `create`, `open`, `read` and `write` the files. \n",
    "\n",
    "For writing to a file in scala we borrow `java.io._` from `Java` because we don’t have a class to write into a file, in the Scala standard library. \n",
    "\n",
    "We could also import `java.io.File` and `java.io.PrintWriter`.\n",
    "\n",
    "### Creating a new file\n",
    "\n",
    "* `java.io.File` defines classes and interfaces for the JVM access files, file systems and attributes.\n",
    "\n",
    "* `File(String pathname)` converts the parameter string to abstract path name, creating a new file instance.\n",
    "\n",
    "### Writing to the file\n",
    "\n",
    "* `java.io.PrintWriter` includes all the printing methods included in `PrintStream`."
   ]
  },
  {
   "cell_type": "markdown",
   "id": "6a0ed77e-053f-4370-a59e-bbd1dbda7f04",
   "metadata": {},
   "source": [
    "Below is the implementation for creating a new file and writing into it :"
   ]
  },
  {
   "cell_type": "code",
   "execution_count": 1,
   "id": "985bdbdf-907b-4261-a261-410444433e41",
   "metadata": {},
   "outputs": [
    {
     "data": {
      "text/plain": [
       "Intitializing Scala interpreter ..."
      ]
     },
     "metadata": {},
     "output_type": "display_data"
    },
    {
     "data": {
      "text/plain": [
       "Spark Web UI available at http://192.168.1.138:4043\n",
       "SparkContext available as 'sc' (version = 3.3.0, master = local[*], app id = local-1670243192783)\n",
       "SparkSession available as 'spark'\n"
      ]
     },
     "metadata": {},
     "output_type": "display_data"
    },
    {
     "data": {
      "text/plain": [
       "import java.io.File\n",
       "import java.io.PrintWriter\n",
       "main: (args: Array[String])Unit\n"
      ]
     },
     "execution_count": 1,
     "metadata": {},
     "output_type": "execute_result"
    }
   ],
   "source": [
    "import java.io.File\n",
    "import java.io.PrintWriter\n",
    "  \n",
    "// Main method\n",
    "def main(args:Array[String])\n",
    "{\n",
    "    // Creating a file\n",
    "    val file_Object = new File(\"file_handling.txt\")\n",
    "\n",
    "    // Passing reference of file to the printwriter\n",
    "    val print_Writer = new PrintWriter(file_Object)\n",
    "\n",
    "    // Writing to the file\n",
    "    print_Writer.write(\"Hello, This is Suryakant\")\n",
    "\n",
    "    // Closing printwriter\n",
    "    print_Writer.close()\n",
    "}"
   ]
  },
  {
   "cell_type": "code",
   "execution_count": 2,
   "id": "3a919f42-3c0a-49c3-8d30-f921570e70b6",
   "metadata": {},
   "outputs": [],
   "source": [
    "main(Array(\"\"))"
   ]
  },
  {
   "cell_type": "markdown",
   "id": "eb977a19-e60d-4f2c-b7bb-2c89630c86b6",
   "metadata": {},
   "source": [
    "Scala does not provide class to `write` a file but it provide a class to `read` the files. This is the class `Source`. We use its companion object to read files. \n",
    "\n",
    "To read the contents of this file, we call the `fromFile()` method of class `Source` for reading the contents of the file which includes filename as argument.\n",
    "\n",
    "### Reading a File\n",
    "\n",
    "* `scala.io.Source` includes methods for iterable representation of the source file.\n",
    "\n",
    "* `Source.fromFile` creates a source from the input file.\n",
    "\n",
    "* `file.next` return the next element in the iteration and moves the iterator one step ahead.\n",
    "\n",
    "* `file.hasnext` checks if there is next element available to iterate.\n",
    "\n",
    "* `getLines` iterates through file line by line"
   ]
  },
  {
   "cell_type": "markdown",
   "id": "690359cd-30c2-409a-9b0f-500d24ce4c58",
   "metadata": {},
   "source": [
    "Below is the implementation for Reading each character from a file : "
   ]
  },
  {
   "cell_type": "code",
   "execution_count": 3,
   "id": "5174147a-8da5-4dce-a77a-307cb0165a33",
   "metadata": {},
   "outputs": [
    {
     "data": {
      "text/plain": [
       "import scala.io.Source\n",
       "main: (args: Array[String])Unit\n"
      ]
     },
     "execution_count": 3,
     "metadata": {},
     "output_type": "execute_result"
    }
   ],
   "source": [
    "import scala.io.Source\n",
    "\n",
    "// Main method\n",
    "def main(args : Array[String])\n",
    "{\n",
    "    // file name\n",
    "    val fname = \"file_handling.txt\" \n",
    "\n",
    "    // creates iterable representation of the source file\n",
    "    val fSource = Source.fromFile(fname)\n",
    "    while (fSource.hasNext)\n",
    "    {\n",
    "        println(fSource.next)\n",
    "    }\n",
    "\n",
    "    // closing file\n",
    "    fSource.close()\n",
    "}"
   ]
  },
  {
   "cell_type": "code",
   "execution_count": 4,
   "id": "f77ae2e9-f332-48f4-8f94-17b810497ef7",
   "metadata": {},
   "outputs": [
    {
     "name": "stdout",
     "output_type": "stream",
     "text": [
      "H\n",
      "e\n",
      "l\n",
      "l\n",
      "o\n",
      ",\n",
      " \n",
      "T\n",
      "h\n",
      "i\n",
      "s\n",
      " \n",
      "i\n",
      "s\n",
      " \n",
      "S\n",
      "u\n",
      "r\n",
      "y\n",
      "a\n",
      "k\n",
      "a\n",
      "n\n",
      "t\n"
     ]
    }
   ],
   "source": [
    "main(Array(\"\"))"
   ]
  },
  {
   "cell_type": "markdown",
   "id": "57574a1c-0688-4977-b95d-3eb6c28c3f7c",
   "metadata": {},
   "source": [
    "We can use `getLines()` method to read individual lines instead of the whole file at once.\n",
    "\n",
    "Below is the implementation for Reading each line from a file : "
   ]
  },
  {
   "cell_type": "code",
   "execution_count": 5,
   "id": "ab2109f8-d086-487e-8346-1e8a895c9e01",
   "metadata": {},
   "outputs": [
    {
     "data": {
      "text/plain": [
       "import scala.io.Source\n",
       "main: (args: Array[String])Unit\n"
      ]
     },
     "execution_count": 5,
     "metadata": {},
     "output_type": "execute_result"
    }
   ],
   "source": [
    "import scala.io.Source \n",
    "  \n",
    "// Main method\n",
    "def main(args:Array[String])\n",
    "{\n",
    "    val fname = \"file_handling.txt\"\n",
    "    val fSource = Source.fromFile(fname)\n",
    "    for(line<-fSource.getLines)\n",
    "    {\n",
    "        println(line)\n",
    "    }\n",
    "    fSource.close()\n",
    "}"
   ]
  },
  {
   "cell_type": "code",
   "execution_count": 6,
   "id": "b53a0509-4a29-421c-bc2d-8b9c13688237",
   "metadata": {},
   "outputs": [
    {
     "name": "stdout",
     "output_type": "stream",
     "text": [
      "Hello, This is Suryakant\n"
     ]
    }
   ],
   "source": [
    "main(Array(\"\"))"
   ]
  }
 ],
 "metadata": {
  "kernelspec": {
   "display_name": "spylon-kernel",
   "language": "scala",
   "name": "spylon-kernel"
  },
  "language_info": {
   "codemirror_mode": "text/x-scala",
   "file_extension": ".scala",
   "help_links": [
    {
     "text": "MetaKernel Magics",
     "url": "https://metakernel.readthedocs.io/en/latest/source/README.html"
    }
   ],
   "mimetype": "text/x-scala",
   "name": "scala",
   "pygments_lexer": "scala",
   "version": "0.4.1"
  }
 },
 "nbformat": 4,
 "nbformat_minor": 5
}
