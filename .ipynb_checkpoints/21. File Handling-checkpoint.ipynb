{
 "cells": [
  {
   "attachments": {
    "c9494563-7284-4c71-9fe4-40d31b4558ff.gif": {
     "image/gif": "[encoded data removed]"
    },
    "ecd1af6f-8660-4379-b68f-bad3ed6d67c8.gif": {
     "image/gif": "[encoded data removed]"
    }
   },
   "cell_type": "markdown",
   "id": "0343a4c7-3c19-4282-a13a-211b2a8e2f4d",
   "metadata": {},
   "source": [
    "[![icons8-linkedin.gif](attachment:c9494563-7284-4c71-9fe4-40d31b4558ff.gif 'Author : Suryakant Kumar')](https://www.linkedin.com/in/suryakantkumar/)[![icons8-github.gif](attachment:ecd1af6f-8660-4379-b68f-bad3ed6d67c8.gif 'Author : Suryakant Kumar')](https://github.com/SuryakantKumar)"
   ]
  },
  {
   "cell_type": "markdown",
   "id": "c82efb77-59c8-4859-a452-2be647ff2e25",
   "metadata": {},
   "source": [
    "## File Handling in Scala\n",
    "\n",
    "File Handling is a way to store the fetched information in a file. \n",
    "\n",
    "Scala provides packages from which we can `create`, `open`, `read` and `write` the files. \n",
    "\n",
    "For writing to a file in scala we borrow `java.io._` from `Java` because we don’t have a class to write into a file, in the Scala standard library. \n",
    "\n",
    "We could also import `java.io.File` and `java.io.PrintWriter`.\n",
    "\n",
    "### Creating a new file\n",
    "\n",
    "* `java.io.File` defines classes and interfaces for the JVM access files, file systems and attributes.\n",
    "\n",
    "* `File(String pathname)` converts the parameter string to abstract path name, creating a new file instance.\n",
    "\n",
    "### Writing to the file\n",
    "\n",
    "* `java.io.PrintWriter` includes all the printing methods included in `PrintStream`."
   ]
  },
  {
   "cell_type": "markdown",
   "id": "6a0ed77e-053f-4370-a59e-bbd1dbda7f04",
   "metadata": {},
   "source": [
    "Below is the implementation for creating a new file and writing into it :"
   ]
  },
  {
   "cell_type": "code",
   "execution_count": 1,
   "id": "985bdbdf-907b-4261-a261-410444433e41",
   "metadata": {},
   "outputs": [
    {
     "data": {
      "text/plain": [
       "Intitializing Scala interpreter ..."
      ]
     },
     "metadata": {},
     "output_type": "display_data"
    },
    {
     "data": {
      "text/plain": [
       "Spark Web UI available at http://192.168.1.138:4043\n",
       "SparkContext available as 'sc' (version = 3.3.0, master = local[*], app id = local-1670360295614)\n",
       "SparkSession available as 'spark'\n"
      ]
     },
     "metadata": {},
     "output_type": "display_data"
    },
    {
     "data": {
      "text/plain": [
       "import java.io.File\n",
       "import java.io.PrintWriter\n",
       "main: (args: Array[String])Unit\n"
      ]
     },
     "execution_count": 1,
     "metadata": {},
     "output_type": "execute_result"
    }
   ],
   "source": [
    "import java.io.File\n",
    "import java.io.PrintWriter\n",
    "  \n",
    "// Main method\n",
    "def main(args:Array[String])\n",
    "{\n",
    "    // Creating a file\n",
    "    val file_Object = new File(\"data/file_handling.txt\")\n",
    "\n",
    "    // Passing reference of file to the printwriter\n",
    "    val print_Writer = new PrintWriter(file_Object)\n",
    "\n",
    "    // Writing to the file\n",
    "    print_Writer.write(\"Hello, This is Suryakant\")\n",
    "\n",
    "    // Closing printwriter\n",
    "    print_Writer.close()\n",
    "}"
   ]
  },
  {
   "cell_type": "code",
   "execution_count": 2,
   "id": "3a919f42-3c0a-49c3-8d30-f921570e70b6",
   "metadata": {},
   "outputs": [],
   "source": [
    "main(Array(\"\"))"
   ]
  },
  {
   "cell_type": "markdown",
   "id": "eb977a19-e60d-4f2c-b7bb-2c89630c86b6",
   "metadata": {},
   "source": [
    "Scala does not provide class to `write` a file but it provide a class to `read` the files. This is the class `Source`. We use its companion object to read files. \n",
    "\n",
    "To read the contents of this file, we call the `fromFile()` method of class `Source` for reading the contents of the file which includes filename as argument.\n",
    "\n",
    "### Reading a File\n",
    "\n",
    "* `scala.io.Source` includes methods for iterable representation of the source file.\n",
    "\n",
    "* `Source.fromFile` creates a source from the input file.\n",
    "\n",
    "* `file.next` return the next element in the iteration and moves the iterator one step ahead.\n",
    "\n",
    "* `file.hasnext` checks if there is next element available to iterate.\n",
    "\n",
    "* `getLines` iterates through file line by line"
   ]
  },
  {
   "cell_type": "markdown",
   "id": "690359cd-30c2-409a-9b0f-500d24ce4c58",
   "metadata": {},
   "source": [
    "Below is the implementation for Reading each character from a file : "
   ]
  },
  {
   "cell_type": "code",
   "execution_count": 3,
   "id": "5174147a-8da5-4dce-a77a-307cb0165a33",
   "metadata": {},
   "outputs": [
    {
     "data": {
      "text/plain": [
       "import scala.io.Source\n",
       "main: (args: Array[String])Unit\n"
      ]
     },
     "execution_count": 3,
     "metadata": {},
     "output_type": "execute_result"
    }
   ],
   "source": [
    "import scala.io.Source\n",
    "\n",
    "// Main method\n",
    "def main(args : Array[String])\n",
    "{\n",
    "    // file name\n",
    "    val fname = \"data/file_handling.txt\" \n",
    "\n",
    "    // creates iterable representation of the source file\n",
    "    val fSource = Source.fromFile(fname)\n",
    "    while (fSource.hasNext)\n",
    "    {\n",
    "        println(fSource.next)\n",
    "    }\n",
    "\n",
    "    // closing file\n",
    "    fSource.close()\n",
    "}"
   ]
  },
  {
   "cell_type": "code",
   "execution_count": 4,
   "id": "f77ae2e9-f332-48f4-8f94-17b810497ef7",
   "metadata": {},
   "outputs": [
    {
     "name": "stdout",
     "output_type": "stream",
     "text": [
      "H\n",
      "e\n",
      "l\n",
      "l\n",
      "o\n",
      ",\n",
      " \n",
      "T\n",
      "h\n",
      "i\n",
      "s\n",
      " \n",
      "i\n",
      "s\n",
      " \n",
      "S\n",
      "u\n",
      "r\n",
      "y\n",
      "a\n",
      "k\n",
      "a\n",
      "n\n",
      "t\n"
     ]
    }
   ],
   "source": [
    "main(Array(\"\"))"
   ]
  },
  {
   "cell_type": "markdown",
   "id": "57574a1c-0688-4977-b95d-3eb6c28c3f7c",
   "metadata": {},
   "source": [
    "We can use `getLines()` method to read individual lines instead of the whole file at once.\n",
    "\n",
    "Below is the implementation for Reading each line from a file : "
   ]
  },
  {
   "cell_type": "code",
   "execution_count": 5,
   "id": "ab2109f8-d086-487e-8346-1e8a895c9e01",
   "metadata": {},
   "outputs": [
    {
     "data": {
      "text/plain": [
       "import scala.io.Source\n",
       "main: (args: Array[String])Unit\n"
      ]
     },
     "execution_count": 5,
     "metadata": {},
     "output_type": "execute_result"
    }
   ],
   "source": [
    "import scala.io.Source \n",
    "  \n",
    "// Main method\n",
    "def main(args:Array[String])\n",
    "{\n",
    "    val fname = \"data/file_handling.txt\"\n",
    "    val fSource = Source.fromFile(fname)\n",
    "    for(line<-fSource.getLines)\n",
    "    {\n",
    "        println(line)\n",
    "    }\n",
    "    fSource.close()\n",
    "}"
   ]
  },
  {
   "cell_type": "code",
   "execution_count": 6,
   "id": "b53a0509-4a29-421c-bc2d-8b9c13688237",
   "metadata": {},
   "outputs": [
    {
     "name": "stdout",
     "output_type": "stream",
     "text": [
      "Hello, This is Suryakant\n"
     ]
    }
   ],
   "source": [
    "main(Array(\"\"))"
   ]
  },
  {
   "cell_type": "markdown",
   "id": "f644093c-1736-45ee-89e4-4e481710c9a1",
   "metadata": {},
   "source": [
    "* We can preview the data using `view` command\n",
    "\n",
    "```terminal\n",
    "view file_name\n",
    "```"
   ]
  },
  {
   "cell_type": "markdown",
   "id": "a41999e9-1417-4d97-89eb-571fa8863a2b",
   "metadata": {},
   "source": [
    "* We can also select limited lines of data from a file using `take()` method."
   ]
  },
  {
   "cell_type": "code",
   "execution_count": 7,
   "id": "777b4d2e-653b-4d52-a25a-21a7b32487ea",
   "metadata": {},
   "outputs": [
    {
     "name": "stdout",
     "output_type": "stream",
     "text": [
      "1,1,957,1,299.98,299.98\n",
      "2,2,1073,1,199.99,199.99\n",
      "3,2,502,5,250.0,50.0\n",
      "4,2,403,1,129.99,129.99\n",
      "5,4,897,2,49.98,24.99\n",
      "6,4,365,5,299.95,59.99\n",
      "7,4,502,3,150.0,50.0\n",
      "8,4,1014,4,199.92,49.98\n",
      "9,5,957,1,299.98,299.98\n",
      "10,5,365,5,299.95,59.99\n"
     ]
    },
    {
     "data": {
      "text/plain": [
       "orderItems: Iterator[String] = <iterator>\n"
      ]
     },
     "execution_count": 7,
     "metadata": {},
     "output_type": "execute_result"
    }
   ],
   "source": [
    "val orderItems = Source.fromFile(\"data/retail_db/order_items/part-00000\").getLines\n",
    "\n",
    "orderItems.take(10).foreach(println)"
   ]
  },
  {
   "cell_type": "markdown",
   "id": "97e10821-5364-4d8a-951f-d031554852e4",
   "metadata": {},
   "source": [
    "* We can get Size of a file using `size` method."
   ]
  },
  {
   "cell_type": "code",
   "execution_count": 8,
   "id": "42ac9d9b-196d-4895-8936-afdf77e1a84a",
   "metadata": {},
   "outputs": [
    {
     "data": {
      "text/plain": [
       "res4: Int = 172188\n"
      ]
     },
     "execution_count": 8,
     "metadata": {},
     "output_type": "execute_result"
    }
   ],
   "source": [
    "orderItems.size"
   ]
  },
  {
   "cell_type": "markdown",
   "id": "8fe68482-f4a1-4dba-8d0c-457c92f68ce9",
   "metadata": {},
   "source": [
    "* `split()` method is used to split a string over some substrings/Characters and creates an array with all the splitted elements."
   ]
  },
  {
   "cell_type": "code",
   "execution_count": 9,
   "id": "40bf89ce-6870-401a-9d19-fb81c056190e",
   "metadata": {},
   "outputs": [
    {
     "data": {
      "text/plain": [
       "res5: Array[String] = Array(1, 2, 3, 4, 5)\n"
      ]
     },
     "execution_count": 9,
     "metadata": {},
     "output_type": "execute_result"
    }
   ],
   "source": [
    "\"1,2,3,4,5\".split(\",\")"
   ]
  },
  {
   "cell_type": "markdown",
   "id": "d700c9bd-a6b7-4d49-95ec-e92996782a40",
   "metadata": {},
   "source": [
    "* We can access elements of a sequence using `index`."
   ]
  },
  {
   "cell_type": "code",
   "execution_count": 10,
   "id": "bb886bd9-0f8a-4aaf-930b-9f1890b37519",
   "metadata": {},
   "outputs": [
    {
     "data": {
      "text/plain": [
       "res6: Int = 1\n"
      ]
     },
     "execution_count": 10,
     "metadata": {},
     "output_type": "execute_result"
    }
   ],
   "source": [
    "List(1, 2, 3, 4, 5)(0)"
   ]
  }
 ],
 "metadata": {
  "kernelspec": {
   "display_name": "spylon-kernel",
   "language": "scala",
   "name": "spylon-kernel"
  },
  "language_info": {
   "codemirror_mode": "text/x-scala",
   "file_extension": ".scala",
   "help_links": [
    {
     "text": "MetaKernel Magics",
     "url": "https://metakernel.readthedocs.io/en/latest/source/README.html"
    }
   ],
   "mimetype": "text/x-scala",
   "name": "scala",
   "pygments_lexer": "scala",
   "version": "0.4.1"
  }
 },
 "nbformat": 4,
 "nbformat_minor": 5
}
