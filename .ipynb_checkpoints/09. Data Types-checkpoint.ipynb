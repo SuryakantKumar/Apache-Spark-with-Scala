{
 "cells": [
  {
   "cell_type": "markdown",
   "id": "ed3d54a3-1741-4a64-a685-994f7ff686b6",
   "metadata": {},
   "source": [
    "## Data Tyes in Scala\n",
    "\n",
    "* A data type is a categorization of data which tells the compiler that which type of value a variable has.\n",
    "\n",
    "    * `For example :` if a variable has an `int` data type, then it holds `numeric` value.\n",
    "    \n",
    "* In Scala, Data types are similar to Java in terms of length and storage.\n",
    "\n",
    "* In Scala, Data types are treated same objects so the first letter of the Data type is in `Capital` letter."
   ]
  },
  {
   "cell_type": "markdown",
   "id": "d8da6663-af53-4725-9210-c138992e4155",
   "metadata": {},
   "source": [
    "`The data types that are available in Scala as shown in the below table`\n",
    "\n",
    "`DataType` ---------------------- `Default value` ---------------------- `Description`\n",
    "\n",
    "Boolean -------------------------- false ------------------------------------ true or false\n",
    "\n",
    "Byte ------------------------------ 0 --------------------------------------- 8 bit signed value. Range: -128 to 127\n",
    "\n",
    "Short ----------------------------- 0 --------------------------------------- 16 bit signed value. Range: -2^15 to 2^15 - 1\n",
    "\n",
    "Char ------------------------------ ‘\\u000’ --------------------------------- 16 bit unsigned unicode character. Range: 0 to 2^16 - 1\n",
    "\n",
    "Int -------------------------------- 0 --------------------------------------- 32 bit signed value. Range: -2^31 to 2^31 - 1\n",
    "\n",
    "Long ------------------------------ 0L -------------------------------------- 64 bit signed value. Range: -2^63 to 2^63 - 1\n",
    "\n",
    "Float ------------------------------ 0.0F ------------------------------------ 32 bit IEEE 754 single-Precision float\n",
    "\n",
    "Double ---------------------------- 0.0D ------------------------------------ 64 bit IEEE 754 double-Precision float\n",
    "\n",
    "String ----------------------------- null ------------------------------------- A sequence of character\n",
    "\n",
    "Unit ------------------------------- NA -------------------------------------- Coinsides to no value\n",
    "\n",
    "Nothing --------------------------- NA  -------------------------------------- It is a subtype of every other type and it contains no value\n",
    "\n",
    "Any ------------------------------- NA -------------------------------------- It is a supertype of all other types\n",
    "\n",
    "AnyVal ---------------------------- NA -------------------------------------- It serve as value types\n",
    "\n",
    "AnyRef ---------------------------- NA -------------------------------------- It serves as reference types\n"
   ]
  },
  {
   "cell_type": "code",
   "execution_count": 1,
   "id": "cbd7393b-2085-48d5-bca4-e1365cd4f8af",
   "metadata": {},
   "outputs": [
    {
     "data": {
      "text/plain": [
       "Intitializing Scala interpreter ..."
      ]
     },
     "metadata": {},
     "output_type": "display_data"
    },
    {
     "data": {
      "text/plain": [
       "Spark Web UI available at http://192.168.29.42:4043\n",
       "SparkContext available as 'sc' (version = 3.3.0, master = local[*], app id = local-1669965565429)\n",
       "SparkSession available as 'spark'\n"
      ]
     },
     "metadata": {},
     "output_type": "display_data"
    },
    {
     "data": {
      "text/plain": [
       "a: Boolean = true\n",
       "a1: Byte = 126\n",
       "a2: Float = 2.45673\n",
       "a3: Int = 3\n",
       "a4: Short = 45\n",
       "a5: Double = 2.93846523\n",
       "a6: Char = A\n"
      ]
     },
     "execution_count": 1,
     "metadata": {},
     "output_type": "execute_result"
    }
   ],
   "source": [
    "// Scala program to illustrate Data types\n",
    "\n",
    "var a = true\n",
    "var a1: Byte = 126\n",
    "var a2 = 2.45673f\n",
    "var a3 = 3\n",
    "var a4: Short = 45\n",
    "var a5 = 2.93846523D\n",
    "var a6 = 'A'"
   ]
  }
 ],
 "metadata": {
  "kernelspec": {
   "display_name": "spylon-kernel",
   "language": "scala",
   "name": "spylon-kernel"
  },
  "language_info": {
   "codemirror_mode": "text/x-scala",
   "file_extension": ".scala",
   "help_links": [
    {
     "text": "MetaKernel Magics",
     "url": "https://metakernel.readthedocs.io/en/latest/source/README.html"
    }
   ],
   "mimetype": "text/x-scala",
   "name": "scala",
   "pygments_lexer": "scala",
   "version": "0.4.1"
  }
 },
 "nbformat": 4,
 "nbformat_minor": 5
}
