{
 "cells": [
  {
   "cell_type": "markdown",
   "id": "9fd9aaea-c08e-458c-aa0b-bd80f6790d21",
   "metadata": {},
   "source": [
    "## Control Flow in Scala\n",
    "\n",
    "* In decision making, a piece of code is executed when the given condition is fulfilled. Sometimes these are also termed as the Control flow statements. \n",
    "\n",
    "* Scala uses control statements to control the flow of execution of the program based on certain conditions. These are used to cause the flow of execution to advance and branch based on changes to the state of a program.\n",
    "\n",
    "* The conditional statements of Scala are:\n",
    "\n",
    "    * `if`\n",
    "    * `if - else`\n",
    "    * Nested `if - else`\n",
    "    * `if - else if` ladder"
   ]
  },
  {
   "cell_type": "markdown",
   "id": "60187eb8-6885-4450-ba6b-378f060c2f2f",
   "metadata": {},
   "source": [
    "### if statement\n",
    "\n",
    "`if` statement is the simplest decision making statements among all decision making statements. \n",
    "\n",
    "In this statement, the block of code is executed only when the given condition is true and if the condition is false then, that block of code will not execute.\n",
    "\n",
    "Syntax :\n",
    "```scala\n",
    "if(condition)\n",
    "{\n",
    "    // Code to be executed \n",
    "}\n",
    "```"
   ]
  },
  {
   "cell_type": "markdown",
   "id": "468cf905-41ba-4a5d-b98d-7123d5cf21bc",
   "metadata": {},
   "source": [
    "If we do not provide the curly braces `{` and `}` after `if(condition)` then, by default if statement will consider the immediate one statement to be inside its block.\n",
    "\n",
    "Syntax :\n",
    "```scala\n",
    "if(condition)\n",
    "   statement1;\n",
    "   statement2;\n",
    "\n",
    "// Here if the condition is true, if block will consider only statement1 to be inside its block.\n",
    "```"
   ]
  },
  {
   "cell_type": "code",
   "execution_count": 1,
   "id": "23ef517f-6d71-4dbe-a260-073fb96e9008",
   "metadata": {},
   "outputs": [
    {
     "data": {
      "text/plain": [
       "Intitializing Scala interpreter ..."
      ]
     },
     "metadata": {},
     "output_type": "display_data"
    },
    {
     "data": {
      "text/plain": [
       "Spark Web UI available at http://192.168.29.42:4041\n",
       "SparkContext available as 'sc' (version = 3.3.0, master = local[*], app id = local-1669965704313)\n",
       "SparkSession available as 'spark'\n"
      ]
     },
     "metadata": {},
     "output_type": "display_data"
    },
    {
     "name": "stdout",
     "output_type": "stream",
     "text": [
      "Passed\n"
     ]
    },
    {
     "data": {
      "text/plain": [
       "a: Int = 50\n"
      ]
     },
     "execution_count": 1,
     "metadata": {},
     "output_type": "execute_result"
    }
   ],
   "source": [
    "var a: Int = 50\n",
    "\n",
    "if (a > 30) \n",
    "{\n",
    "    println(\"Passed\")\n",
    "}"
   ]
  },
  {
   "cell_type": "markdown",
   "id": "bdc7b102-795f-44e2-94e2-5b8b1054a463",
   "metadata": {},
   "source": [
    "### if-else statement\n",
    "\n",
    "The `if` statement alone tells us that if a condition is true, it will execute a block of statements and if the condition is false, it won’t. \n",
    "\n",
    "But what if we want to do something else if the condition is false, Here comes the else statement. We can use the `else` statement with `if` statement to execute a block of code when the condition is false.\n",
    "\n",
    "Syntax :\n",
    "```scala\n",
    "if (condition)\n",
    "{\n",
    "    // Executes this block if condition is true\n",
    "}\n",
    "\n",
    "else\n",
    "{\n",
    "    // Executes this block if condition is false\n",
    "}\n",
    "```"
   ]
  },
  {
   "cell_type": "code",
   "execution_count": 2,
   "id": "24587740-a987-4a4d-ab68-ad92741cc30d",
   "metadata": {},
   "outputs": [
    {
     "name": "stdout",
     "output_type": "stream",
     "text": [
      "Failed\n"
     ]
    },
    {
     "data": {
      "text/plain": [
       "a: Int = 650\n"
      ]
     },
     "execution_count": 2,
     "metadata": {},
     "output_type": "execute_result"
    }
   ],
   "source": [
    "var a: Int = 650\n",
    "\n",
    "if (a > 698) \n",
    "{\n",
    "    println(\"Passed\")\n",
    "}\n",
    "else\n",
    "{   \n",
    "    println(\"Failed\")\n",
    "}"
   ]
  },
  {
   "cell_type": "markdown",
   "id": "67a496ef-d524-4700-8d76-2c96cb4763a5",
   "metadata": {},
   "source": [
    "### Nested if-else statement\n",
    "\n",
    "A `nested if` is an `if` statement that is the target of another `if-else` statement. \n",
    "\n",
    "`Nested if-else` statement means an `if-else` statement inside an `if` statement or in a `else` statement. \n",
    "\n",
    "Scala allows us to nest if-else statements within if-else statement.\n",
    "\n",
    "Syntax :\n",
    "```scala\n",
    "// Executes when condition_1 is true\n",
    "if (condition_1) \n",
    "{\n",
    "   if (condition_2) \n",
    "   {\n",
    "      // Executes when condition_2 is true\n",
    "   }\n",
    "  else\n",
    "  {\n",
    "     // Executes when condition_2 is false\n",
    "  }\n",
    "}\n",
    "// Executes when condition_1 is false\n",
    "else\n",
    "{\n",
    "   if (condition_3) \n",
    "   {\n",
    "      // Executes when condition_3 is true\n",
    "   }\n",
    "  else\n",
    "  {\n",
    "     // Executes when condition_3 is false\n",
    "  }\n",
    "}\n",
    "```"
   ]
  },
  {
   "cell_type": "code",
   "execution_count": 3,
   "id": "7b5f14fd-a96a-451a-8077-5ab8b999fc1e",
   "metadata": {},
   "outputs": [
    {
     "name": "stdout",
     "output_type": "stream",
     "text": [
      "c is largest\n"
     ]
    },
    {
     "data": {
      "text/plain": [
       "a: Int = 70\n",
       "b: Int = 40\n",
       "c: Int = 100\n"
      ]
     },
     "execution_count": 3,
     "metadata": {},
     "output_type": "execute_result"
    }
   ],
   "source": [
    "var a: Int = 70\n",
    "var b: Int = 40\n",
    "var c: Int = 100\n",
    "\n",
    "if (a > b) \n",
    "{\n",
    "    if(a > c)\n",
    "    {\n",
    "        println(\"a is largest\");\n",
    "    }\n",
    "    else\n",
    "    {\n",
    "        println(\"c is largest\")\n",
    "    }\n",
    "}\n",
    "else\n",
    "{\n",
    "    if(b > c)\n",
    "    {\n",
    "        println(\"b is largest\")\n",
    "    }\n",
    "    else\n",
    "    {\n",
    "        println(\"c is largest\")\n",
    "    }\n",
    "}"
   ]
  },
  {
   "cell_type": "markdown",
   "id": "5f9baa74-d429-44d8-a4ed-ab9a3f01b17c",
   "metadata": {},
   "source": [
    "### if-else if Ladder\n",
    "\n",
    "Here, a user can decide among multiple options. The `if` statements are executed from the top down. As soon as one of the conditions controlling the if is true, the statement associated with that if is executed, and the rest of the ladder is bypassed. If none of the conditions is true, then the final `else` statement will be executed.\n",
    "\n",
    "Syntax :\n",
    "```scala\n",
    "if(condition_1)\n",
    "{\n",
    "     // this block will execute when condition_1 is true\n",
    "}\n",
    "else if(condition_2)\n",
    "{\n",
    "\n",
    "    // this block will execute when condition2 is true\n",
    "}\n",
    ".\n",
    ".\n",
    ".\n",
    "else \n",
    "{\n",
    "      // this block will execute when none of the condition is true\n",
    "}\n",
    "```"
   ]
  },
  {
   "cell_type": "code",
   "execution_count": 4,
   "id": "3cee0eee-c130-4844-9c3f-e7dc9c1a9fa5",
   "metadata": {},
   "outputs": [
    {
     "name": "stdout",
     "output_type": "stream",
     "text": [
      "No Match Found\n"
     ]
    },
    {
     "data": {
      "text/plain": [
       "value: Int = 50\n"
      ]
     },
     "execution_count": 4,
     "metadata": {},
     "output_type": "execute_result"
    }
   ],
   "source": [
    "var value: Int = 50\n",
    "\n",
    "if (value == 20) \n",
    "{\n",
    "    println(\"Value is 20\")\n",
    "} \n",
    "else if (value == 25) \n",
    "{\n",
    "    println(\"Value is 25\")\n",
    "} \n",
    "else if (value == 40)\n",
    "{\n",
    "    println(\"Value is 40\")\n",
    "} \n",
    "else \n",
    "{\n",
    "    println(\"No Match Found\")\n",
    "}"
   ]
  }
 ],
 "metadata": {
  "kernelspec": {
   "display_name": "spylon-kernel",
   "language": "scala",
   "name": "spylon-kernel"
  },
  "language_info": {
   "codemirror_mode": "text/x-scala",
   "file_extension": ".scala",
   "help_links": [
    {
     "text": "MetaKernel Magics",
     "url": "https://metakernel.readthedocs.io/en/latest/source/README.html"
    }
   ],
   "mimetype": "text/x-scala",
   "name": "scala",
   "pygments_lexer": "scala",
   "version": "0.4.1"
  }
 },
 "nbformat": 4,
 "nbformat_minor": 5
}
