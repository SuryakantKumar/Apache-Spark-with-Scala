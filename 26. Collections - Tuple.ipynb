{
 "cells": [
  {
   "cell_type": "markdown",
   "id": "54730854-2545-440b-a65f-e319c4d1c276",
   "metadata": {},
   "source": [
    "## Scala Tuple\n",
    "\n",
    "`Tuple` is a collection of elements.\n",
    "\n",
    "`Tuples` are `heterogeneous` data structures, i.e., is they can store elements of different data types. \n",
    "\n",
    "A tuple is `immutable`, unlike an array in scala which is mutable.\n",
    "\n",
    "An example of a tuple storing an integer, a string, and boolean value :\n",
    "```scala\n",
    "val name = (15, \"Chandan\", true)\n",
    "```\n",
    "\n",
    "Type of tuple is defined by, the `number` of the element it contains and `Data Type` of those elements.\n",
    "\n",
    "For Example:\n",
    "```scala\n",
    "// This is tuple of type Tuple3[ Int, String, Boolean ] \n",
    "val name = (15, \"Chandan\", true)\n",
    "```"
   ]
  },
  {
   "cell_type": "markdown",
   "id": "7404609d-8769-4f59-9682-35e8163bd222",
   "metadata": {},
   "source": [
    "* Let N be the number of elements in a tuple. `Scala` currently is `limited` to `22` elements in a tuple, i.e, N should be `1 <= N <= 22`. \n",
    "\n",
    "* If the number of elements exceeds 22 then this will generate an `error`. However we can use `nested` tuples to overcome this limit (Note that a tuple can contain other tuples)"
   ]
  },
  {
   "cell_type": "markdown",
   "id": "3ff04dfe-ba9a-45df-b1a9-313c1d6cdfcf",
   "metadata": {},
   "source": [
    "### Operations on tuple\n",
    "\n",
    "* **1. Access element from tuple** : Tuple elements can be accessed using an `underscore` syntax. Method `tup._i` is used to access the `ith` element of the tuple."
   ]
  },
  {
   "cell_type": "code",
   "execution_count": 1,
   "id": "4a12693e-199f-4fc0-bee6-43548097a691",
   "metadata": {},
   "outputs": [
    {
     "data": {
      "text/plain": [
       "Intitializing Scala interpreter ..."
      ]
     },
     "metadata": {},
     "output_type": "display_data"
    },
    {
     "data": {
      "text/plain": [
       "Spark Web UI available at http://192.168.1.138:4043\n",
       "SparkContext available as 'sc' (version = 3.3.0, master = local[*], app id = local-1670271637770)\n",
       "SparkSession available as 'spark'\n"
      ]
     },
     "metadata": {},
     "output_type": "display_data"
    },
    {
     "name": "stdout",
     "output_type": "stream",
     "text": [
      "15\n",
      "chandan\n",
      "true\n"
     ]
    },
    {
     "data": {
      "text/plain": [
       "name: (Int, String, Boolean) = (15,chandan,true)\n"
      ]
     },
     "execution_count": 1,
     "metadata": {},
     "output_type": "execute_result"
    }
   ],
   "source": [
    "// Scala program to access element using underscore method\n",
    "  \n",
    "var name = (15, \"chandan\", true)\n",
    "  \n",
    "println(name._1) // print 1st element\n",
    "println(name._2) // print 2st element\n",
    "println(name._3) // print 3st element"
   ]
  },
  {
   "cell_type": "markdown",
   "id": "439467cf-3c0c-4726-8c21-faada2b8cbc1",
   "metadata": {},
   "source": [
    "* **2. Pattern matching on tuples** : Pattern matching is a mechanism for checking a value against a pattern. A successful match can also deconstruct a value into its constituent parts."
   ]
  },
  {
   "cell_type": "code",
   "execution_count": 2,
   "id": "8e1f4f97-dc66-42e4-bcfd-a059b9e45c74",
   "metadata": {},
   "outputs": [
    {
     "name": "stdout",
     "output_type": "stream",
     "text": [
      "15\n",
      "chandan\n",
      "true\n"
     ]
    },
    {
     "data": {
      "text/plain": [
       "a: Int = 15\n",
       "b: String = chandan\n",
       "c: Boolean = true\n"
      ]
     },
     "execution_count": 2,
     "metadata": {},
     "output_type": "execute_result"
    }
   ],
   "source": [
    "// Scala program of pattern matching on tuples\n",
    "  \n",
    "var (a, b, c) = (15, \"chandan\", true)\n",
    "\n",
    "println(a)\n",
    "println(b)\n",
    "println(c)"
   ]
  },
  {
   "cell_type": "markdown",
   "id": "c2e974a7-624b-4231-8284-d69ed953a4eb",
   "metadata": {},
   "source": [
    "* **3. Iterating over a tuple** : To iterate over tuple, `tuple.productIterator()` method is used."
   ]
  },
  {
   "cell_type": "code",
   "execution_count": 3,
   "id": "2fb814cc-37cf-4da5-bc5d-e0f70e6d5c97",
   "metadata": {},
   "outputs": [
    {
     "name": "stdout",
     "output_type": "stream",
     "text": [
      "15\n",
      "chandan\n",
      "true\n"
     ]
    },
    {
     "data": {
      "text/plain": [
       "name: (Int, String, Boolean) = (15,chandan,true)\n"
      ]
     },
     "execution_count": 3,
     "metadata": {},
     "output_type": "execute_result"
    }
   ],
   "source": [
    "// Scala program to iterate over tuples using productIterator method\n",
    "  \n",
    "var name = (15, \"chandan\", true)\n",
    "          \n",
    "// The foreach method takes a function as parameter and applies it to every element in the collection\n",
    "name.productIterator.foreach{i => println(i)}"
   ]
  },
  {
   "cell_type": "markdown",
   "id": "2a3fc317-8562-4d0c-bcc3-2e96e82f4df2",
   "metadata": {},
   "source": [
    "* **4. Converting tuple to string** : Converting a tuple to a string concatenates all of its elements into a string. We use the `tuple.toString()` method for this."
   ]
  },
  {
   "cell_type": "code",
   "execution_count": 4,
   "id": "f0cc438c-b9b9-4160-af9e-28d46154081b",
   "metadata": {},
   "outputs": [
    {
     "name": "stdout",
     "output_type": "stream",
     "text": [
      "(15,chandan,true)\n"
     ]
    },
    {
     "data": {
      "text/plain": [
       "name: (Int, String, Boolean) = (15,chandan,true)\n"
      ]
     },
     "execution_count": 4,
     "metadata": {},
     "output_type": "execute_result"
    }
   ],
   "source": [
    "// Scala program to convert tuple element to String\n",
    "  \n",
    "val name = (15, \"chandan\", true)\n",
    "          \n",
    "// print converted string\n",
    "println(name.toString())"
   ]
  },
  {
   "cell_type": "markdown",
   "id": "fb2883cc-b853-4b29-a27d-24e1425322b8",
   "metadata": {},
   "source": [
    "* **5. Swap the elements of tuple** : Swapping the element of a tuple we can use `tuple.swap` Method."
   ]
  },
  {
   "cell_type": "code",
   "execution_count": 5,
   "id": "ad3d0ebe-2a44-40f7-9713-3e8cc3a0d701",
   "metadata": {},
   "outputs": [
    {
     "name": "stdout",
     "output_type": "stream",
     "text": [
      "(def,abc)\n"
     ]
    },
    {
     "data": {
      "text/plain": [
       "name: (String, String) = (abc,def)\n"
      ]
     },
     "execution_count": 5,
     "metadata": {},
     "output_type": "execute_result"
    }
   ],
   "source": [
    "// Scala program to swap tuple element\n",
    "  \n",
    "val name = (\"abc\",\"def\")\n",
    "          \n",
    "// print swapped element\n",
    "println(name.swap)"
   ]
  }
 ],
 "metadata": {
  "kernelspec": {
   "display_name": "spylon-kernel",
   "language": "scala",
   "name": "spylon-kernel"
  },
  "language_info": {
   "codemirror_mode": "text/x-scala",
   "file_extension": ".scala",
   "help_links": [
    {
     "text": "MetaKernel Magics",
     "url": "https://metakernel.readthedocs.io/en/latest/source/README.html"
    }
   ],
   "mimetype": "text/x-scala",
   "name": "scala",
   "pygments_lexer": "scala",
   "version": "0.4.1"
  }
 },
 "nbformat": 4,
 "nbformat_minor": 5
}
