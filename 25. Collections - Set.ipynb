{
 "cells": [
  {
   "cell_type": "markdown",
   "id": "5c463be3-a5b6-43ef-9991-e423b6f998c2",
   "metadata": {},
   "source": [
    "## Set in Scala\n",
    "\n",
    "A `set` is a collection which only contains `unique` items. \n",
    "\n",
    "The uniqueness of a `set` are defined by the `==` method of the type that `set` holds. If you try to add a `duplicate` item in the `set`, then `set` quietly discard your request.\n",
    "\n",
    "Syntax:\n",
    "```scala\n",
    "// Immutable set\n",
    "val variable_name: Set[type] = Set(item1, item2, item3)\n",
    "or\n",
    "val variable_name = Set(item1, item2, item3)\n",
    "\n",
    "// Mutable Set\n",
    "var variable_name: Set[type] = Set(item1, item2, item3)\n",
    "or\n",
    "var variable_name = Set(item1, item2, item3)\n",
    "```"
   ]
  },
  {
   "cell_type": "markdown",
   "id": "6402b2cc-9f0a-4edd-bd19-b6679a55aa00",
   "metadata": {},
   "source": [
    "### Important Points about Set in Scala\n",
    "\n",
    "* In Scala, both `mutable` and `immutable` sets are available. `Mutable set` is those set in which the value of the object is change but In the `Immutable set`, the value of the object is not changed itself.\n",
    "\n",
    "* By default set in Scala are immutable.\n",
    "\n",
    "* In Scala, the immutable set is defined under `Scala.collection.immutable._` package and mutable set are defined under `Scala.collection.mutable._` package.\n",
    "\n",
    "* We can also define a mutable set under `Scala.collection.immutable._` package.\n",
    "\n",
    "* A Set has various methods to `add`, `remove`, `clear`, `size`, etc. to enhance the usage of the `set`.\n",
    "\n",
    "* In Scala, We are allowed to create empty set.\n",
    "\n",
    "Syntax:\n",
    "```scala\n",
    "// Immutable empty set\n",
    "val variable_name = Set()\n",
    "\n",
    "// Mutable empty set\n",
    "var variable_name = Set()\n",
    "```"
   ]
  },
  {
   "cell_type": "code",
   "execution_count": 1,
   "id": "b02727d6-7b6d-4420-99d9-efde2158cac9",
   "metadata": {},
   "outputs": [
    {
     "data": {
      "text/plain": [
       "Intitializing Scala interpreter ..."
      ]
     },
     "metadata": {},
     "output_type": "display_data"
    },
    {
     "data": {
      "text/plain": [
       "Spark Web UI available at http://192.168.1.138:4043\n",
       "SparkContext available as 'sc' (version = 3.3.0, master = local[*], app id = local-1670270522528)\n",
       "SparkSession available as 'spark'\n"
      ]
     },
     "metadata": {},
     "output_type": "display_data"
    },
    {
     "name": "stdout",
     "output_type": "stream",
     "text": [
      "Set 1 : \n",
      "Set(abc, def, ghi, jkl)\n",
      "\n",
      "Set 2 : \n",
      "Scala\n",
      "C#\n",
      "Ruby\n",
      "PHP\n",
      "C\n",
      "Java\n"
     ]
    },
    {
     "data": {
      "text/plain": [
       "import scala.collection.immutable._\n",
       "myset1: scala.collection.immutable.Set[String] = Set(abc, def, ghi, jkl)\n",
       "myset2: scala.collection.immutable.Set[String] = Set(Scala, C#, Ruby, PHP, C, Java)\n"
      ]
     },
     "execution_count": 1,
     "metadata": {},
     "output_type": "execute_result"
    }
   ],
   "source": [
    "// Scala program to illustrate the use of immutable set\n",
    "\n",
    "import scala.collection.immutable._\n",
    "  \n",
    "// Creating and initializing immutable sets\n",
    "val myset1: Set[String] = Set(\"abc\", \"def\", \"ghi\", \"jkl\")\n",
    "val myset2 = Set(\"C\", \"C#\", \"Java\", \"Scala\", \"PHP\", \"Ruby\")\n",
    "\n",
    "// Display the value of myset1\n",
    "println(\"Set 1 : \")\n",
    "println(myset1)\n",
    "\n",
    "// Display the value of myset2 using for loop\n",
    "println(\"\\nSet 2 : \")\n",
    "for(myset <- myset2)\n",
    "{\n",
    "    println(myset)\n",
    "}"
   ]
  },
  {
   "cell_type": "code",
   "execution_count": 2,
   "id": "fbb56529-729f-48fc-b34c-9899f7537ce2",
   "metadata": {},
   "outputs": [
    {
     "name": "stdout",
     "output_type": "stream",
     "text": [
      "Set 1 : \n",
      "Set(abc, def, ghi, jkl)\n",
      "\n",
      "Set 2 : \n",
      "10\n",
      "100000\n",
      "10000\n",
      "1000\n",
      "100\n"
     ]
    },
    {
     "data": {
      "text/plain": [
       "import scala.collection.immutable._\n",
       "myset1: scala.collection.immutable.Set[String] = Set(abc, def, ghi, jkl)\n",
       "myset2: scala.collection.immutable.Set[Int] = Set(10, 100000, 10000, 1000, 100)\n"
      ]
     },
     "execution_count": 2,
     "metadata": {},
     "output_type": "execute_result"
    }
   ],
   "source": [
    "// Scala program to illustrate the use of mutable set\n",
    "\n",
    "import scala.collection.immutable._\n",
    "  \n",
    "// Creating and initializing mutable sets\n",
    "val myset1: Set[String] = Set(\"abc\", \"def\", \"ghi\", \"jkl\")\n",
    "var myset2 = Set(10, 100, 1000, 10000, 100000)\n",
    "\n",
    "// Display the value of myset1\n",
    "println(\"Set 1 : \")\n",
    "println(myset1)\n",
    "\n",
    "// Display the value of myset2 using a foreach loop\n",
    "println(\"\\nSet 2 : \")\n",
    "myset2.foreach((item: Int) => println(item))"
   ]
  },
  {
   "cell_type": "code",
   "execution_count": 3,
   "id": "0410e0da-888a-4466-8fd7-9ca6d43a75bb",
   "metadata": {},
   "outputs": [
    {
     "name": "stdout",
     "output_type": "stream",
     "text": [
      "The empty set is : \n",
      "Set()\n"
     ]
    },
    {
     "data": {
      "text/plain": [
       "import scala.collection.immutable._\n",
       "myset: scala.collection.immutable.Set[Nothing] = Set()\n"
      ]
     },
     "execution_count": 3,
     "metadata": {},
     "output_type": "execute_result"
    }
   ],
   "source": [
    "// Scala program to illustrate the use of empty set\n",
    "\n",
    "import scala.collection.immutable._\n",
    "  \n",
    "// Creating empty sets\n",
    "val myset = Set()\n",
    "\n",
    "// Display the value of myset\n",
    "println(\"The empty set is : \")\n",
    "println(myset)"
   ]
  },
  {
   "cell_type": "markdown",
   "id": "52acc4b5-4d9c-4812-a237-a8f082bed0a8",
   "metadata": {},
   "source": [
    "### Sorted Set\n",
    "\n",
    "In Set, `SortedSet` is used to get values from the set in sorted order.\n",
    "\n",
    "SortedSet is only work for `immutable` set."
   ]
  },
  {
   "cell_type": "code",
   "execution_count": 4,
   "id": "5d622604-0924-4f15-a681-b6f0d2fbe3b0",
   "metadata": {},
   "outputs": [
    {
     "name": "stdout",
     "output_type": "stream",
     "text": [
      "0\n",
      "3\n",
      "6\n",
      "7\n",
      "8\n",
      "45\n",
      "56\n",
      "87\n"
     ]
    },
    {
     "data": {
      "text/plain": [
       "import scala.collection.immutable.SortedSet\n",
       "myset: scala.collection.immutable.SortedSet[Int] = TreeSet(0, 3, 6, 7, 8, 45, 56, 87)\n"
      ]
     },
     "execution_count": 4,
     "metadata": {},
     "output_type": "execute_result"
    }
   ],
   "source": [
    "// Scala program to get sorted values from the set\n",
    "\n",
    "import scala.collection.immutable.SortedSet \n",
    "  \n",
    "// Using SortedSet to get sorted values\n",
    "val myset: SortedSet[Int] = SortedSet(87, 0, 3, 45, 7, 56, 8,6)\n",
    "myset.foreach((items: Int) => println(items))"
   ]
  },
  {
   "cell_type": "markdown",
   "id": "5aff0f52-9626-438b-88f2-b1b845c21c94",
   "metadata": {},
   "source": [
    "### Adding items in Mutable Set\n",
    "\n",
    "In Set, We can only add new elements in mutable set.\n",
    "\n",
    "`+=`, `++==` and `add()` method is used to add new elements when we are working with mutable set in mutable collection.\n",
    "\n",
    "`+=` is used to add new elements when we are working with mutable set in immutable collection."
   ]
  },
  {
   "cell_type": "code",
   "execution_count": 5,
   "id": "f266c518-52c2-4ce7-b137-896bfcf1ea77",
   "metadata": {},
   "outputs": [
    {
     "name": "stdout",
     "output_type": "stream",
     "text": [
      "Set before addition of new elements : \n",
      "Set(c, a, b)\n",
      "\n",
      "Set after addition of new elements : \n",
      "Set(f, c, g, d, h, e, a, b)\n"
     ]
    },
    {
     "data": {
      "text/plain": [
       "import scala.collection.mutable._\n",
       "myset: scala.collection.mutable.Set[String] = Set(f, c, g, d, h, e, a, b)\n"
      ]
     },
     "execution_count": 5,
     "metadata": {},
     "output_type": "execute_result"
    }
   ],
   "source": [
    "// Scala program to illustrate how to add items using +=, ++== and add() method in mutable set with mutable collection\n",
    "import scala.collection.mutable._\n",
    "\n",
    "// Creating and initilazing set\n",
    "var myset = Set(\"a\", \"b\", \"c\")\n",
    "println(\"Set before addition of new elements : \")\n",
    "println(myset)\n",
    "\n",
    "// Adding new element in set using += and ++== \n",
    "myset += \"d\"\n",
    "\n",
    "// Here, \"c\" is already present in the Set so, \"c\" is not added in set\n",
    "myset ++== List(\"e\", \"f\", \"c\")\n",
    "\n",
    "// Adding elements using add() method\n",
    "myset.add(\"g\")\n",
    "myset.add(\"h\")\n",
    "println(\"\\nSet after addition of new elements : \")\n",
    "println(myset)"
   ]
  },
  {
   "cell_type": "code",
   "execution_count": 6,
   "id": "f4876054-91e7-480f-baae-923a5ccb8ece",
   "metadata": {},
   "outputs": [
    {
     "name": "stdout",
     "output_type": "stream",
     "text": [
      "Set before addition of new elements : \n",
      "Set(a, b, c)\n",
      "\n",
      "Set after addition of new elements : \n",
      "Set(e, a, b, c, d)\n"
     ]
    },
    {
     "data": {
      "text/plain": [
       "import scala.collection.immutable._\n",
       "myset: scala.collection.immutable.Set[String] = Set(e, a, b, c, d)\n"
      ]
     },
     "execution_count": 6,
     "metadata": {},
     "output_type": "execute_result"
    }
   ],
   "source": [
    "// Scala program to illustrate how to add items using += operator in mutable set with immutable collection\n",
    "import scala.collection.immutable._\n",
    "  \n",
    "// Creating and initializing mutable set\n",
    "var myset = Set(\"a\", \"b\", \"c\")\n",
    "println(\"Set before addition of new elements : \")\n",
    "println(myset)\n",
    "\n",
    "// Adding new element in set using += operator\n",
    "myset += \"d\"\n",
    "myset += \"e\"\n",
    "\n",
    "println(\"\\nSet after addition of new elements : \")\n",
    "println(myset)"
   ]
  },
  {
   "cell_type": "markdown",
   "id": "274a6ed0-6c1b-45a2-89b7-0bc0509d099d",
   "metadata": {},
   "source": [
    "### Removing elements from the Mutable set\n",
    "\n",
    "In Set, We can only remove elements in the mutable set.\n",
    "\n",
    "`-=` and `--=` methods are used to delete elements and we can also use `retain()`, `clear()`, and `remove()` methods to delete elements when we are working with mutable set in the mutable collection.\n",
    "\n",
    "`-=` operator is used to delete elements when we are working with mutable set in immutable collection."
   ]
  },
  {
   "cell_type": "code",
   "execution_count": 7,
   "id": "6cf00077-60ee-4ba2-bad1-c13ab6dd0329",
   "metadata": {},
   "outputs": [
    {
     "name": "stdout",
     "output_type": "stream",
     "text": [
      "Set before deletion : \n",
      "Set(300, 100, 800, 500, 600, 400)\n",
      "\n",
      "Set after deletion : \n",
      "Set(800, 500, 400)\n"
     ]
    },
    {
     "data": {
      "text/plain": [
       "import scala.collection.mutable._\n",
       "myset: scala.collection.mutable.Set[Int] = Set(800, 500, 400)\n"
      ]
     },
     "execution_count": 7,
     "metadata": {},
     "output_type": "execute_result"
    }
   ],
   "source": [
    "// Scala program to illustrate how to delete items using -= and --= methods in mutalbe set with mutable collection\n",
    "import scala.collection.mutable._\n",
    "  \n",
    "// Creating and initilazing mutable set\n",
    "var myset = Set(100, 400, 500, 600, 300, 800)\n",
    "println(\"Set before deletion : \")\n",
    "println(myset)\n",
    "\n",
    "// Deleting elements in set using -= and --= methods\n",
    "myset -= 600\n",
    "myset --= List(300, 100)\n",
    "println(\"\\nSet after deletion : \")\n",
    "println(myset)"
   ]
  },
  {
   "cell_type": "code",
   "execution_count": 8,
   "id": "3c0149ed-0e0b-4f48-a141-da696447350e",
   "metadata": {},
   "outputs": [
    {
     "name": "stdout",
     "output_type": "stream",
     "text": [
      "Set before deletion : \n",
      "Set(300, 100, 800, 500, 600, 400)\n",
      "Set(66, 55, 11, 44, 77)\n",
      "\n",
      "Set after using retain() method : \n",
      "Set(800, 600)\n",
      "\n",
      "Set after using clear() method : \n",
      "Set()\n"
     ]
    },
    {
     "data": {
      "text/plain": [
       "import scala.collection.mutable._\n",
       "myset1: scala.collection.mutable.Set[Int] = Set(800, 600)\n",
       "myset2: scala.collection.mutable.Set[Int] = Set()\n"
      ]
     },
     "execution_count": 8,
     "metadata": {},
     "output_type": "execute_result"
    }
   ],
   "source": [
    "// Scala program to illustrate how to delete items using retain(), and clear() methods in mutable set with mutable collection\n",
    "import scala.collection.mutable._\n",
    "  \n",
    "// Creating and initializing mutable set\n",
    "var myset1 = Set(100, 400, 500, 600,300, 800)\n",
    "var myset2 = Set(11, 44, 55, 66, 77)\n",
    "println(\"Set before deletion : \")\n",
    "println(myset1)\n",
    "println(myset2)\n",
    "\n",
    "// Deleting elements in set using retain() method\n",
    "myset1.retain(_ > 500)\n",
    "println(\"\\nSet after using retain() method : \")\n",
    "println(myset1)\n",
    "\n",
    "// Deleting elements in set using clear() method\n",
    "myset2.clear\n",
    "println(\"\\nSet after using clear() method : \")\n",
    "println(myset2)"
   ]
  },
  {
   "cell_type": "markdown",
   "id": "a71cb396-c014-4593-be51-eea3bb593843",
   "metadata": {},
   "source": [
    "### Adding items in immutable Set\n",
    "\n",
    "In immutable set, We cannot add elements, but we can use `+` and `++` operators to add element from the immutable set and store the result into a new variable.\n",
    "\n",
    "Here, `+` is used to add single or multiple elements and `++` is used to add multiple elements defined in another sequence and in concatenation of immutable set."
   ]
  },
  {
   "cell_type": "code",
   "execution_count": 9,
   "id": "c5c9b4d9-0299-4ee8-9324-85c353353c0d",
   "metadata": {},
   "outputs": [
    {
     "name": "stdout",
     "output_type": "stream",
     "text": [
      "Set before addition : \n",
      "Set(500, 600, 800, 300, 400, 100)\n",
      "Set(77, 44, 66, 11, 55)\n",
      "\n",
      "Set after addition : \n",
      "Set(500, 900, 600, 800, 300, 400, 100)\n",
      "Set(500, 600, 800, 300, 400, 200, 100)\n",
      "Set(500, 700, 1000, 600, 800, 300, 400, 100)\n",
      "Set(500, 77, 44, 66, 600, 11, 55, 800, 300, 400, 100)\n"
     ]
    },
    {
     "data": {
      "text/plain": [
       "import scala.collection.immutable._\n",
       "myset1: scala.collection.immutable.Set[Int] = Set(500, 600, 800, 300, 400, 100)\n",
       "myset2: scala.collection.immutable.Set[Int] = Set(77, 44, 66, 11, 55)\n",
       "S1: scala.collection.immutable.Set[Int] = Set(500, 900, 600, 800, 300, 400, 100)\n",
       "S2: scala.collection.immutable.Set[Int] = Set(500, 600, 800, 300, 400, 200, 100)\n",
       "S3: scala.collection.immutable.Set[Int] = Set(500, 700, 1000, 600, 800, 300, 400, 100)\n",
       "S4: scala.collection.immutable.Set[Int] = Set(500, 77, 44, 66, 600, 11, 55, 800, 300, 400, 100)\n"
      ]
     },
     "execution_count": 9,
     "metadata": {},
     "output_type": "execute_result"
    }
   ],
   "source": [
    "// Scala program to illustrate how to add elements in immutable set\n",
    "import scala.collection.immutable._\n",
    "\n",
    "// Creating and initilazing immutable set\n",
    "val myset1 = Set(100, 400, 500, 600,300, 800)\n",
    "val myset2 = Set(11, 44, 55, 66, 77)\n",
    "println(\"Set before addition : \")\n",
    "println(myset1)\n",
    "println(myset2)\n",
    "println(\"\\nSet after addition : \")\n",
    "\n",
    "// Add single element in myset1 and create new Set\n",
    "val S1 = myset1 + 900\n",
    "println(S1)\n",
    "\n",
    "// Add multiple elements in myset1 and create new Set\n",
    "val S2 = myset1 + (200, 300)\n",
    "println(S2)\n",
    "\n",
    "// Add another list into myset1 and create new Set\n",
    "val S3 = myset1 ++ List(700, 1000)\n",
    "println(S3)\n",
    "\n",
    "// Add another set myset2 into myset1 and create new Set\n",
    "val S4 = myset1 ++ myset2\n",
    "println(S4)"
   ]
  },
  {
   "cell_type": "markdown",
   "id": "937e6015-3c36-4af3-baa2-779d136f652b",
   "metadata": {},
   "source": [
    "### Removing elements from the immutable set\n",
    "\n",
    "In immutable set, We cannot remove elements, but we can use `–` and `--`operators to remove elements from the immutable set and store the result into a new variable.\n",
    "\n",
    "Here, `–` operator is used to remove one or more elements and `--` operator is used to remove multiple elements defined in another sequence."
   ]
  },
  {
   "cell_type": "code",
   "execution_count": 10,
   "id": "490565a3-4970-42b8-8b37-6303678f150a",
   "metadata": {},
   "outputs": [
    {
     "name": "stdout",
     "output_type": "stream",
     "text": [
      "Set before deletion : \n",
      "Set(500, 900, 700, 600, 800, 300, 400, 100)\n",
      "\n",
      "Set after deletion : \n",
      "Set(500, 900, 700, 600, 800, 300, 400)\n",
      "Set(500, 900, 700, 600, 800, 100)\n",
      "Set(900, 600, 800, 300, 400, 100)\n"
     ]
    },
    {
     "data": {
      "text/plain": [
       "import scala.collection.immutable._\n",
       "myset: scala.collection.immutable.Set[Int] = Set(500, 900, 700, 600, 800, 300, 400, 100)\n",
       "S1: scala.collection.immutable.Set[Int] = Set(500, 900, 700, 600, 800, 300, 400)\n",
       "S2: scala.collection.immutable.Set[Int] = Set(500, 900, 700, 600, 800, 100)\n",
       "S3: scala.collection.immutable.Set[Int] = Set(900, 600, 800, 300, 400, 100)\n"
      ]
     },
     "execution_count": 10,
     "metadata": {},
     "output_type": "execute_result"
    }
   ],
   "source": [
    "// Scala program to illustrate how to remove elements in immutable set\n",
    "import scala.collection.immutable._\n",
    "  \n",
    "// Creating and initilazing immutable set\n",
    "val myset = Set(100, 400, 500, 600, 300, 800, 900, 700)\n",
    "println(\"Set before deletion : \")\n",
    "println(myset)\n",
    "\n",
    "println(\"\\nSet after deletion : \")\n",
    "\n",
    "// Remove single element in myset and Result store into new variable\n",
    "val S1 = myset - 100\n",
    "println(S1)\n",
    "\n",
    "// Remove multiple elements from myset Result store into new variable\n",
    "val S2 = myset - (400, 300)\n",
    "println(S2)\n",
    "\n",
    "// Remove another list from myset Result store into new variable\n",
    "val S3 = myset -- List(700, 500)\n",
    "println(S3)"
   ]
  },
  {
   "cell_type": "markdown",
   "id": "675e551b-9501-40ba-a041-cbaf9ce41a81",
   "metadata": {},
   "source": [
    "### Set Operations\n",
    "\n",
    "* **Union** : In this, we could simply add one Set with other. Since the `Set` will itself not allow any duplicate entries, we need not take care of the common values. To perform union, we use `union()` method.\n",
    "\n",
    "* **Intersection** : To get the common values from both Sets we use `intersect()` method. It returns a new set which contains all the common values present in both sets.\n",
    "\n",
    "* **Difference** : To get the difference of two Sets we use `diff()` method. It returns the set which contains all the that are not present in myset2."
   ]
  },
  {
   "cell_type": "code",
   "execution_count": 11,
   "id": "dac47186-15b2-4e03-b8f3-de33c17592af",
   "metadata": {},
   "outputs": [
    {
     "name": "stdout",
     "output_type": "stream",
     "text": [
      "Intersection : \n",
      "Set(77, 22, 44, 66, 55)\n",
      "\n",
      "Difference : \n",
      "Set(33, 11, 111)\n",
      "\n",
      "Union : \n",
      "Set(88, 33, 77, 22, 44, 66, 11, 99, 55, 111)\n"
     ]
    },
    {
     "data": {
      "text/plain": [
       "import scala.collection.immutable._\n",
       "myset1: scala.collection.immutable.Set[Int] = Set(33, 77, 22, 44, 66, 11, 55, 111)\n",
       "myset2: scala.collection.immutable.Set[Int] = Set(88, 77, 22, 44, 66, 99, 55)\n",
       "S1: scala.collection.immutable.Set[Int] = Set(77, 22, 44, 66, 55)\n",
       "S2: scala.collection.immutable.Set[Int] = Set(33, 11, 111)\n",
       "S3: scala.collection.immutable.Set[Int] = Set(88, 33, 77, 22, 44, 66, 11, 99, 55, 111)\n"
      ]
     },
     "execution_count": 11,
     "metadata": {},
     "output_type": "execute_result"
    }
   ],
   "source": [
    "// Scala program to illustrate union, intersection, and difference on Set \n",
    "import scala.collection.immutable._\n",
    "  \n",
    "// Creating and initializing set\n",
    "val myset1 = Set(11, 22, 33, 44, 55, 66, 77, 111)\n",
    "val myset2 = Set(88, 22, 99, 44, 55, 66, 77)\n",
    "\n",
    "// To find intersection \n",
    "val S1 = myset1.intersect(myset2)\n",
    "println(\"Intersection : \")\n",
    "println(S1)\n",
    "\n",
    "// To find the symmetric difference \n",
    "val S2 = myset1.diff(myset2)\n",
    "println(\"\\nDifference : \")\n",
    "println(S2)\n",
    "\n",
    "// To find union\n",
    "val S3 = myset1.union(myset2)\n",
    "println(\"\\nUnion : \")\n",
    "println(S3)"
   ]
  }
 ],
 "metadata": {
  "kernelspec": {
   "display_name": "spylon-kernel",
   "language": "scala",
   "name": "spylon-kernel"
  },
  "language_info": {
   "codemirror_mode": "text/x-scala",
   "file_extension": ".scala",
   "help_links": [
    {
     "text": "MetaKernel Magics",
     "url": "https://metakernel.readthedocs.io/en/latest/source/README.html"
    }
   ],
   "mimetype": "text/x-scala",
   "name": "scala",
   "pygments_lexer": "scala",
   "version": "0.4.1"
  }
 },
 "nbformat": 4,
 "nbformat_minor": 5
}
