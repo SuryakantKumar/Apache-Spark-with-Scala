{
 "cells": [
  {
   "cell_type": "markdown",
   "id": "8f34d3b4-dbc9-4540-bbed-14d263a7532e",
   "metadata": {},
   "source": [
    "## Scala Development Life Cycle"
   ]
  },
  {
   "cell_type": "markdown",
   "id": "c3af02ee-790e-47d5-ab0a-b22834426429",
   "metadata": {},
   "source": [
    "### Create Project Directory\n",
    "\n",
    "```\n",
    "$ mkdir research\n",
    "$ cd research/\n",
    "$ mkdir code\n",
    "$ cd code/\n",
    "$ mkdir scalademo\n",
    "$ cd scalademo/\n",
    "$ mkdir retail\n",
    "$ cd retail\n",
    "$ mkdir -p src/main/scala\n",
    "$ vi/nano src/main/scala/orderRevenue.scala\n",
    "```\n",
    "\n",
    "### Create Program File\n",
    "\n",
    "Problem : Generate Revenue from an order\n",
    "\n",
    "```scala\n",
    "// Write this scala code to the file \"orderRevenue.scala\"\n",
    "\n",
    "import scala.io.Source\n",
    "\n",
    "object orderRevenue\n",
    "{\n",
    "    def main(args : Array[String]) = \n",
    "    {\n",
    "        val orderItems = Source.fromFile(\"data/retail_db/order_items/part-00000\").getLines\n",
    "\n",
    "        val orderRevenue = orderItems.filter(oi => oi.split(\",\")(1).toInt == 2)\n",
    "                                     .map(oi => oi.split(\",\")(4).toFloat)\n",
    "                                     .reduce((total, value) => total + value)\n",
    "        println(orderRevenue)\n",
    "    }\n",
    "}\n",
    "```"
   ]
  },
  {
   "cell_type": "markdown",
   "id": "46dc6eaf-81b1-48ef-b942-9f5e694dfab2",
   "metadata": {},
   "source": [
    "* Now we can run this scala code through terminal\n",
    "\n",
    "```\n",
    "$ scala src/main/scala/orderRevenue.scala\n",
    "```\n",
    "\n",
    "* Even though, we can run the scala file directly, it is not a good practise. So we should first build the JAR and run that JAR file for execution."
   ]
  },
  {
   "cell_type": "markdown",
   "id": "fe87a6d1-f01a-42a3-a693-f93bbba12182",
   "metadata": {},
   "source": [
    "### Create JAR File\n",
    "\n",
    "Let's try to build a JAR file regarding orderRevenue. For building the JAR file out of Scala application, we will be using a tool called `sbt`.\n",
    "\n",
    "`sbt` stands for Simple Build Tool.\n",
    "\n",
    "Scala code can be compiled using other tools also like `Maven`."
   ]
  },
  {
   "cell_type": "markdown",
   "id": "6e7b033b-13e5-4af4-8f97-9aaf02069c9b",
   "metadata": {},
   "source": [
    "#### Setup sbt\n",
    "\n",
    "We can install `sbt` using commmand `brew install sbt@1`\n",
    "\n",
    "We can launch `sbt` using terminal\n",
    "\n",
    "```\n",
    "$ sbt\n",
    "```\n",
    "\n",
    "We can use `exit` to come out of `sbt` console."
   ]
  },
  {
   "cell_type": "markdown",
   "id": "6caee421-55f0-474d-8a01-6cec9f9c7d11",
   "metadata": {},
   "source": [
    "So wherever the hierarchy `src/main/scala` is, that is called `base` directory of the project. In this case, It is `/Users/suryakantkumar/research/code/scalademo/retail`\n",
    "\n",
    "So wherever this heirarchy starts, we need to create a file `build.sbt`, Similarly we create `pom.xml` in case of Maven.\n",
    "\n",
    "```\n",
    "$ nano/vi build.sbt\n",
    "```\n",
    "\n",
    "Now we will write to this `build.sbt` file : In this we can defines `name` of our application, `version` of our application and `scala` version.\n",
    "```\n",
    "name := \"retail\"\n",
    "version := \"1.0\"\n",
    "scalaVersion : \"2.10.6\"\n",
    "```\n",
    "If we have other dependencies in this application then, we should define those in `build.sbt`. Then it will download all those dependencies first then, it will compile and package."
   ]
  },
  {
   "cell_type": "markdown",
   "id": "166a8fac-4688-4f08-91dc-dac33f550db1",
   "metadata": {},
   "source": [
    "Now we can run a command to compile our application into Classes and to build the JAR file. It also gives the location of Classes.\n",
    "\n",
    "```\n",
    "$ sbt package\n",
    "```"
   ]
  },
  {
   "cell_type": "markdown",
   "id": "4a3b8da3-81ce-4b15-85ed-6de151327b32",
   "metadata": {},
   "source": [
    "### Run JAR File\n",
    "\n",
    "We can run the JAR file related to our application using terminal.\n",
    "\n",
    "```\n",
    "$ sbt run\n",
    "```\n",
    "\n",
    "Another way of running the JAR file is, using Scala.\n",
    "\n",
    "```\n",
    "$ scala jar_file_path\n",
    "\n",
    "or\n",
    "\n",
    "$ scala target/scala-2.10/retail_2.10-1.0.jar\n",
    "```\n",
    "\n",
    "If there is more than one `class` with `main` function, then we also need to give the `object name` at the time of running the `JAR`.\n",
    "\n",
    "```\n",
    "$ scala jar_file_path class_name\n",
    "\n",
    "or\n",
    "\n",
    "$ scala target/scala-2.10/retail_2.10-1.0.jar orderRevenue\n",
    "```"
   ]
  },
  {
   "cell_type": "markdown",
   "id": "677f6459-01b8-4f10-9d9c-fc256152cf01",
   "metadata": {},
   "source": [
    "### Making Code a bit Dynamic\n",
    "\n",
    "We want to change the program so that it will take the order_id as an argument.\n",
    "```scala\n",
    "import scala.io.Source\n",
    "\n",
    "object orderRevenue\n",
    "{\n",
    "    def main(args : Array[String]) = \n",
    "    {\n",
    "        val orderId = args(1).toInt\n",
    "        val orderItems = Source.fromFile(\"data/retail_db/order_items/part-00000\").getLines\n",
    "\n",
    "        val orderRevenue = orderItems.filter(oi => oi.split(\",\")(1).toInt == orderId)\n",
    "                                     .map(oi => oi.split(\",\")(4).toFloat)\n",
    "                                     .reduce((total, value) => total + value)\n",
    "        println(orderRevenue)\n",
    "    }\n",
    "}\n",
    "```"
   ]
  },
  {
   "cell_type": "markdown",
   "id": "791fb57a-127a-4165-b947-9e74cb924157",
   "metadata": {},
   "source": [
    "Now rebuild the JAR file using `$ sbt package` on terminal from base directory of the application.\n",
    "\n",
    "Now we can run the JAR file using `$ scala jar_file_path class_name argument` or `$ scala target/scala-2.10/retail_2.10-1.0.jar orderRevenue 2` on terminal."
   ]
  },
  {
   "cell_type": "markdown",
   "id": "bf000e69-9121-4a14-a6fa-ddd73bab3a05",
   "metadata": {},
   "source": [
    "We can also run the JAR using `sbt` like `$ sbt \"run-main orderRevenue 2\"`."
   ]
  }
 ],
 "metadata": {
  "kernelspec": {
   "display_name": "spylon-kernel",
   "language": "scala",
   "name": "spylon-kernel"
  },
  "language_info": {
   "codemirror_mode": "text/x-scala",
   "file_extension": ".scala",
   "help_links": [
    {
     "text": "MetaKernel Magics",
     "url": "https://metakernel.readthedocs.io/en/latest/source/README.html"
    }
   ],
   "mimetype": "text/x-scala",
   "name": "scala",
   "pygments_lexer": "scala",
   "version": "0.4.1"
  }
 },
 "nbformat": 4,
 "nbformat_minor": 5
}
