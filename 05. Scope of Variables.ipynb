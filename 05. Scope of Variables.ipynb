{
 "cells": [
  {
   "cell_type": "markdown",
   "id": "5cd0f3a5-484c-4b03-962a-d394d1e03f6e",
   "metadata": {},
   "source": [
    "## Scope of Variables In Scala\n",
    "\n",
    "Variable declaration specifies the name of the variable that would be stored in the memory and memory can be accessed further with this name of variable. There are three types of scope for Scala variable.\n",
    "* Fields\n",
    "* Method Parameters\n",
    "* Local Variables"
   ]
  },
  {
   "cell_type": "markdown",
   "id": "536afeb1-1c27-4d3e-8bc6-162ba8af1f7e",
   "metadata": {},
   "source": [
    "### Field Parameters\n",
    "\n",
    "We can access these kind of variables from every method in the object & from outside the object, if we declared them with the right access modifiers.\n",
    "\n",
    "A field may be `mutable` or `immutable`, we can define them using `var` or `val` respectively."
   ]
  },
  {
   "cell_type": "code",
   "execution_count": 1,
   "id": "00ad53c3-8ebd-4f2d-8990-e57db885fb53",
   "metadata": {},
   "outputs": [
    {
     "data": {
      "text/plain": [
       "Intitializing Scala interpreter ..."
      ]
     },
     "metadata": {},
     "output_type": "display_data"
    },
    {
     "data": {
      "text/plain": [
       "Spark Web UI available at http://192.168.29.42:4041\n",
       "SparkContext available as 'sc' (version = 3.3.0, master = local[*], app id = local-1669982114716)\n",
       "SparkSession available as 'spark'\n"
      ]
     },
     "metadata": {},
     "output_type": "display_data"
    },
    {
     "data": {
      "text/plain": [
       "defined class suryakant\n",
       "defined object Example\n"
      ]
     },
     "execution_count": 1,
     "metadata": {},
     "output_type": "execute_result"
    }
   ],
   "source": [
    "// class created with field variables x and y\n",
    "\n",
    "class suryakant\n",
    "{\n",
    "    var x = 10.3f\n",
    "    var y = 7f\n",
    "    def field_method() \n",
    "    {\n",
    "        println(\"Value of x : \" + x)\n",
    "    }\n",
    "        println(\"Value of y : \" + y);\n",
    "}\n",
    "  \n",
    "object Example \n",
    "{\n",
    "    // Main method\n",
    "    def main(args:Array[String])\n",
    "    {\n",
    "        val Example = new suryakant()\n",
    "        Example.field_method()\n",
    "    }\n",
    "}"
   ]
  },
  {
   "cell_type": "markdown",
   "id": "0791ba76-f95d-4c1d-a40f-14572fd06297",
   "metadata": {},
   "source": [
    "* Above example shows `suryakant` class is created with field variables x and y. These variables can be accessed inside a method and invoked this from an object by creating reference."
   ]
  },
  {
   "cell_type": "markdown",
   "id": "81b94522-f02d-4101-b8d7-ab161f3e482a",
   "metadata": {},
   "source": [
    "### Method Parameters\n",
    "\n",
    "We use these variables when we want to pass a value inside the method when we call it. \n",
    "\n",
    "They can be accessed inside the method and outside method, if there is a reference to the object from outside the method. \n",
    "\n",
    "These variables are always `mutable` defined using `val` keyword."
   ]
  },
  {
   "cell_type": "code",
   "execution_count": 2,
   "id": "1090a22e-dbd9-471e-921c-1e1e6aee8046",
   "metadata": {},
   "outputs": [
    {
     "data": {
      "text/plain": [
       "defined class rect\n",
       "defined object Area\n"
      ]
     },
     "execution_count": 2,
     "metadata": {},
     "output_type": "execute_result"
    }
   ],
   "source": [
    "// class created with Method variables s1 and s2\n",
    "\n",
    "class rect \n",
    "{\n",
    "    def mult(s1: Int, s2: Int)\n",
    "    {\n",
    "        var result = s1 * s2\n",
    "        println(\"Area is: \" + result);\n",
    "    }\n",
    "}\n",
    "  \n",
    "object Area \n",
    "{\n",
    "    // Main method\n",
    "    def main(args:Array[String])\n",
    "    {\n",
    "        val su = new rect()\n",
    "        su.mult(5, 10)\n",
    "    }\n",
    "}"
   ]
  },
  {
   "cell_type": "markdown",
   "id": "9880b6d1-3f5f-459d-a4e7-3f6eb99d89b0",
   "metadata": {},
   "source": [
    "* Above Example shows `rect` class is created with `mult` method accepting two method parameter variables s1 and s2. Area object is created and rect method has been invoked by passing the values to variables s1 and s2."
   ]
  },
  {
   "cell_type": "markdown",
   "id": "82f1e0b3-cedc-4ee6-a63b-17f454984ffb",
   "metadata": {},
   "source": [
    "### Local Variables\n",
    "\n",
    "These type of variables are declared inside a method and are accessible within it only.\n",
    "\n",
    "Using `var` & `val` keywords, These variables can be both mutable & immutable."
   ]
  },
  {
   "cell_type": "code",
   "execution_count": 3,
   "id": "8021eb32-5ab2-4b0d-869e-2c6859eed9eb",
   "metadata": {},
   "outputs": [
    {
     "data": {
      "text/plain": [
       "defined class Area\n",
       "defined object Test\n",
       "warning: previously defined object Area is not a companion to class Area.\n",
       "Companions must be defined together; you may wish to use :paste mode for this.\n"
      ]
     },
     "execution_count": 3,
     "metadata": {},
     "output_type": "execute_result"
    }
   ],
   "source": [
    "// class created with Local variables s1 and s2\n",
    "\n",
    "class Area \n",
    "{\n",
    "    def mult() \n",
    "    {\n",
    "        var(s1, s2) = (3, 80);\n",
    "        var s = s1 * s2;\n",
    "        println(\"Area is: \" + s)\n",
    "    }\n",
    "}\n",
    "  \n",
    "object Test \n",
    "{\n",
    "    // Main method\n",
    "    def main(args:Array[String]) \n",
    "    {\n",
    "        val ex = new Area()\n",
    "        ex.mult()\n",
    "    }\n",
    "}"
   ]
  },
  {
   "cell_type": "markdown",
   "id": "ff9a6a6c-02a9-4db8-8bcf-92371f863cd7",
   "metadata": {},
   "source": [
    "* Above example shows class `Area` having local variables s1, s2 & s inside method `mult`.These variables are not accessible outside the method."
   ]
  }
 ],
 "metadata": {
  "kernelspec": {
   "display_name": "spylon-kernel",
   "language": "scala",
   "name": "spylon-kernel"
  },
  "language_info": {
   "codemirror_mode": "text/x-scala",
   "file_extension": ".scala",
   "help_links": [
    {
     "text": "MetaKernel Magics",
     "url": "https://metakernel.readthedocs.io/en/latest/source/README.html"
    }
   ],
   "mimetype": "text/x-scala",
   "name": "scala",
   "pygments_lexer": "scala",
   "version": "0.4.1"
  }
 },
 "nbformat": 4,
 "nbformat_minor": 5
}
