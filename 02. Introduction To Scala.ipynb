{
 "cells": [
  {
   "cell_type": "markdown",
   "id": "a2e4413c-12eb-455e-9308-fd9941f1e5d9",
   "metadata": {},
   "source": [
    "## Introduction To Scala\n",
    "\n",
    "Scala is :\n",
    "* Compiler based programming language\n",
    "* Built based on Functional programming principles\n",
    "* Compiles into Byte Code\n",
    "* Requires JDK & JRE\n",
    "* Seamless integration with Java\n",
    "\n",
    "Adaptability of Scala is very high in all types of application including Data Engineering.\n",
    "\n",
    "Spark APIs are well integrated with Scala. In fact, Spark has been developed using Scala."
   ]
  },
  {
   "cell_type": "markdown",
   "id": "fb49943d-147d-4681-b341-18a4cd933a32",
   "metadata": {},
   "source": [
    "## REPL\n",
    "\n",
    "* Start REPL(Read, Evaluate, Print & Loop) via Terminal by giving command `scala` or if Ammonite has been installed then `amm`\n",
    "\n",
    "* It will show an interactive shell for scala like\n",
    "\n",
    "```scala\n",
    "scala>\n",
    "```"
   ]
  },
  {
   "cell_type": "markdown",
   "id": "d2ae9b52-9a53-45c2-b447-c4065569f80a",
   "metadata": {},
   "source": [
    "To come out of Scala CLI/REPL, we need to write\n",
    "\n",
    "```scala\n",
    "scala> :quit\n",
    "```"
   ]
  },
  {
   "cell_type": "markdown",
   "id": "8c69e6a2-4e19-48d2-bc74-ce8e1ab5ee0f",
   "metadata": {},
   "source": [
    "For any help related to Scala\n",
    "\n",
    "```scala\n",
    "scala> :help\n",
    "```"
   ]
  },
  {
   "cell_type": "markdown",
   "id": "53ea5da8-2ece-4447-84e8-22020495526b",
   "metadata": {},
   "source": [
    "To get the history of commands\n",
    "\n",
    "```scala\n",
    "scala> :history\n",
    "```"
   ]
  },
  {
   "cell_type": "markdown",
   "id": "ffedfd4d-4039-4e54-9b45-ab018e648fde",
   "metadata": {},
   "source": [
    "To get history of commands in limit\n",
    "\n",
    "```scala\n",
    "scala> :history 10\n",
    "```"
   ]
  },
  {
   "cell_type": "markdown",
   "id": "cb098ecf-60c1-4ae9-81e1-add013808bb6",
   "metadata": {},
   "source": [
    "We can write multiline Scala script through Scala CLI/REPL via terminal like\n",
    "\n",
    "```scala\n",
    "scala> :paste\n",
    "```\n",
    "\n",
    "Now we will enter into Batch mode of writing Scala Script.\n",
    "\n",
    "We can type `ctrl + d` to finish and execute the same.\n",
    "\n",
    "We can enter `ctrl + l` to clear the screen in Scala CLI/REPL."
   ]
  },
  {
   "cell_type": "markdown",
   "id": "fa69d6fc-8835-49a0-a483-15916029f4be",
   "metadata": {},
   "source": [
    "### Basic Program in Scala\n",
    "\n",
    "In Scala, a basic program consists of the following:\n",
    "* object\n",
    "* Main Method\n",
    "* Statements or Expressions"
   ]
  },
  {
   "cell_type": "code",
   "execution_count": 1,
   "id": "46c44a31-a67c-4c20-b024-9aae7c481444",
   "metadata": {},
   "outputs": [
    {
     "data": {
      "text/plain": [
       "Intitializing Scala interpreter ..."
      ]
     },
     "metadata": {},
     "output_type": "display_data"
    },
    {
     "data": {
      "text/plain": [
       "Spark Web UI available at http://192.168.29.42:4042\n",
       "SparkContext available as 'sc' (version = 3.3.0, master = local[*], app id = local-1669965168425)\n",
       "SparkSession available as 'spark'\n"
      ]
     },
     "metadata": {},
     "output_type": "display_data"
    },
    {
     "data": {
      "text/plain": [
       "defined object Suryakant\n"
      ]
     },
     "execution_count": 1,
     "metadata": {},
     "output_type": "execute_result"
    }
   ],
   "source": [
    "// Scala program to print Hello World! \n",
    "\n",
    "object Suryakant \n",
    "{\n",
    "    // Main Method \n",
    "    def main(args: Array[String]) \n",
    "    {\n",
    "        // prints Hello World\n",
    "        println(\"Hello World!\") \n",
    "    }\n",
    "}"
   ]
  },
  {
   "cell_type": "markdown",
   "id": "207d250b-a2fa-499f-891c-b323cd79286e",
   "metadata": {},
   "source": [
    "Explanation:\n",
    "\n",
    "**`object` Suryakant** : `object` is the keyword which is used to create the objects. Objects are the instance of a class. Here `Suryakant` is the name of the object.\n",
    "\n",
    "**`def` main(args: Array[String])** : `def` is the keyword in Scala which is used to define the function and `main` is the name of Main Method. `args: Array[String]` are used for the command line arguments.\n",
    "\n",
    "**`println`(\"Hello World!\")**: `println` is a method in Scala which is used to display the Output on console.\n"
   ]
  }
 ],
 "metadata": {
  "kernelspec": {
   "display_name": "spylon-kernel",
   "language": "scala",
   "name": "spylon-kernel"
  },
  "language_info": {
   "codemirror_mode": "text/x-scala",
   "file_extension": ".scala",
   "help_links": [
    {
     "text": "MetaKernel Magics",
     "url": "https://metakernel.readthedocs.io/en/latest/source/README.html"
    }
   ],
   "mimetype": "text/x-scala",
   "name": "scala",
   "pygments_lexer": "scala",
   "version": "0.4.1"
  }
 },
 "nbformat": 4,
 "nbformat_minor": 5
}
