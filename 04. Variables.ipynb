{
 "cells": [
  {
   "cell_type": "markdown",
   "id": "5d7e3305-2500-439b-97b1-f7e55a57cff5",
   "metadata": {},
   "source": [
    "## Variables In Scala\n",
    "\n",
    "Variables are simply a `storage location`. \n",
    "\n",
    "Every variable is known by its name and stores some known and unknown piece of information known as value. \n",
    "\n",
    "We can define a variable by its `Data Type` and `Name`. Data Type is responsible for allocating memory for the variable.\n",
    "\n",
    "The first letter of Data Type should be in `capital letter` because In `Scala`, Data Type is treated as `objects`.\n",
    "\n",
    "In Scala, There are two tyes of variables:\n",
    "* Mutables Variables\n",
    "* Immutable Variables"
   ]
  },
  {
   "cell_type": "markdown",
   "id": "c8c35d27-0e08-4755-835c-b24412f70e9f",
   "metadata": {},
   "source": [
    "### Mutable Variables\n",
    "\n",
    "* These are the variables which allows us to change a value after teh declaration of the variable. \n",
    "\n",
    "* Mutable variables are defined using `var` keyword.\n",
    "\n",
    "* Basic Syntax :\n",
    "\n",
    "    ```scala\n",
    "    var Variable_name: Data_type = \"value\";\n",
    "    ```"
   ]
  },
  {
   "cell_type": "code",
   "execution_count": 1,
   "id": "94dbafaa-1659-44e9-a205-0941fdb04fbb",
   "metadata": {},
   "outputs": [
    {
     "data": {
      "text/plain": [
       "Intitializing Scala interpreter ..."
      ]
     },
     "metadata": {},
     "output_type": "display_data"
    },
    {
     "data": {
      "text/plain": [
       "Spark Web UI available at http://192.168.29.42:4041\n",
       "SparkContext available as 'sc' (version = 3.3.0, master = local[*], app id = local-1669983022170)\n",
       "SparkSession available as 'spark'\n"
      ]
     },
     "metadata": {},
     "output_type": "display_data"
    },
    {
     "data": {
      "text/plain": [
       "m_var_1: String = Mutable Variable\n"
      ]
     },
     "execution_count": 1,
     "metadata": {},
     "output_type": "execute_result"
    }
   ],
   "source": [
    "var m_var_1: String = \"Mutable Variable\";"
   ]
  },
  {
   "cell_type": "markdown",
   "id": "68c77a4a-a5c4-4739-ba6c-b7f583f910d1",
   "metadata": {},
   "source": [
    "#### Variable Type Inference In Scala\n",
    "\n",
    "Scala supports variable type inference. In variable type inference values are directly assigned to the variable without defining its data type, the Scala compiler automatically resolves which value belongs to which data type.\n",
    "\n",
    "```scala\n",
    "var variable_name = value\n",
    "```"
   ]
  },
  {
   "cell_type": "code",
   "execution_count": 2,
   "id": "453fb824-be3b-4712-a9a5-a80f2f41da59",
   "metadata": {},
   "outputs": [
    {
     "data": {
      "text/plain": [
       "m_var_2: String = Mutable Variable\n"
      ]
     },
     "execution_count": 2,
     "metadata": {},
     "output_type": "execute_result"
    }
   ],
   "source": [
    "var m_var_2 = \"Mutable Variable\";"
   ]
  },
  {
   "cell_type": "code",
   "execution_count": 3,
   "id": "21710431-f75f-4e96-9720-acb71669e9e5",
   "metadata": {},
   "outputs": [
    {
     "data": {
      "text/plain": [
       "i: String = Trying to change Immutable Varible\n",
       "i: String = Trying to change Immutable Varible\n"
      ]
     },
     "execution_count": 3,
     "metadata": {},
     "output_type": "execute_result"
    }
   ],
   "source": [
    "// Can assign another value to the same variable in case of Mutable type\n",
    "\n",
    "var i = \"Immutable Variable\";\n",
    "\n",
    "i = \"Trying to change Immutable Varible\";"
   ]
  },
  {
   "cell_type": "code",
   "execution_count": 4,
   "id": "00c1441d-1c4a-4b65-a01a-16cd380df187",
   "metadata": {},
   "outputs": [
    {
     "ename": "<console>",
     "evalue": "27: error: type mismatch;",
     "output_type": "error",
     "traceback": [
      "<console>:27: error: type mismatch;",
      " found   : String(\"Trying to change the data type\")",
      " required: Int",
      "       j = \"Trying to change the data type\";",
      "           ^",
      ""
     ]
    }
   ],
   "source": [
    "// Can't assign another Data Type to the same variable\n",
    "\n",
    "var j = 10;\n",
    "\n",
    "j = \"Trying to change the data type\";"
   ]
  },
  {
   "cell_type": "markdown",
   "id": "a9903150-2b97-439e-bcb3-6a78536a186d",
   "metadata": {},
   "source": [
    "### Immutable Variables\n",
    "\n",
    "* These are the variables which do not allow us to change the value after the declaration of a variable. \n",
    "\n",
    "* Immutable variables are defined using the `val` keyword.\n",
    "\n",
    "* Basic Syntax :\n",
    "\n",
    "```scala\n",
    "val Variable_name: Data_type =  \"value\";\n",
    "```"
   ]
  },
  {
   "cell_type": "code",
   "execution_count": 5,
   "id": "9923278e-4512-4d2a-bc46-2f58495d890b",
   "metadata": {},
   "outputs": [
    {
     "data": {
      "text/plain": [
       "im_var_1: String = Immutable Variable\n"
      ]
     },
     "execution_count": 5,
     "metadata": {},
     "output_type": "execute_result"
    }
   ],
   "source": [
    "val im_var_1: String = \"Immutable Variable\";"
   ]
  },
  {
   "cell_type": "markdown",
   "id": "84728a12-6520-4ed9-a5f2-fd7a37aab6d6",
   "metadata": {},
   "source": [
    "* Another way of defining variable is : \n",
    "\n",
    "```scala\n",
    "val variable_name = \"value\"\n",
    "```"
   ]
  },
  {
   "cell_type": "code",
   "execution_count": 6,
   "id": "94d692d5-b64c-4e89-985f-8f04f21f9751",
   "metadata": {},
   "outputs": [
    {
     "ename": "<console>",
     "evalue": "27: error: reassignment to val",
     "output_type": "error",
     "traceback": [
      "<console>:27: error: reassignment to val",
      "       k = \"Trying to change Immutable Varible\";",
      "         ^",
      ""
     ]
    }
   ],
   "source": [
    "// Can't assign another value to the same variable in case of Mutable type\n",
    "\n",
    "val k = \"Immutable Variable\";\n",
    "\n",
    "k = \"Trying to change Immutable Varible\";"
   ]
  },
  {
   "cell_type": "markdown",
   "id": "e3e0cffb-da33-40b3-bcc1-a67e824d6880",
   "metadata": {},
   "source": [
    "### Rules for naming Variable in Scala \n",
    "\n",
    "* Variable name should be in `lower case`.\n",
    "\n",
    "* Variable name can contain `letter`, `digit` and two special characters : `Underscore(_)` and `Dollar($)`\n",
    "\n",
    "* Variable name must not contain the `Keyword` or `Reserved word`.\n",
    "\n",
    "* Starting letter of the variable name should be an `alphabet`.\n",
    "\n",
    "* `White space` is not allowed in variable name."
   ]
  },
  {
   "cell_type": "markdown",
   "id": "41413a78-22c5-4feb-af9e-7347be49f4eb",
   "metadata": {},
   "source": [
    "### Multiple Assignments\n",
    "\n",
    "Scala supports `multiple assignments` but you can use multiple assignments only with `immutable variables`.\n",
    "\n",
    "* Basic Syntax :\n",
    "\n",
    "```scala\n",
    "val(variable_name:Data_Type, variable_name:Data_Type) = (value1, value2)\n",
    "```"
   ]
  },
  {
   "cell_type": "code",
   "execution_count": 7,
   "id": "f6dfd740-fab0-478e-b05e-292e541d4385",
   "metadata": {},
   "outputs": [
    {
     "data": {
      "text/plain": [
       "name1: Int = 2\n",
       "name2: String = suryakant\n"
      ]
     },
     "execution_count": 7,
     "metadata": {},
     "output_type": "execute_result"
    }
   ],
   "source": [
    "val(name1:Int, name2:String) = (2, \"suryakant\")"
   ]
  },
  {
   "cell_type": "markdown",
   "id": "76bcae33-ca20-49fd-82a6-9c4a99e67b70",
   "metadata": {},
   "source": [
    "* Another way of defining multiple variables is : \n",
    "\n",
    "```scala\n",
    "val(variable_name, variable_name) = (value1, value2)\n",
    "```"
   ]
  },
  {
   "cell_type": "code",
   "execution_count": 8,
   "id": "17843d42-eadb-4abb-adb3-d05c3d69da7b",
   "metadata": {},
   "outputs": [
    {
     "data": {
      "text/plain": [
       "name1: Int = 2\n",
       "name2: String = suryakant\n"
      ]
     },
     "execution_count": 8,
     "metadata": {},
     "output_type": "execute_result"
    }
   ],
   "source": [
    "val(name1, name2) = (2, \"suryakant\")"
   ]
  }
 ],
 "metadata": {
  "kernelspec": {
   "display_name": "spylon-kernel",
   "language": "scala",
   "name": "spylon-kernel"
  },
  "language_info": {
   "codemirror_mode": "text/x-scala",
   "file_extension": ".scala",
   "help_links": [
    {
     "text": "MetaKernel Magics",
     "url": "https://metakernel.readthedocs.io/en/latest/source/README.html"
    }
   ],
   "mimetype": "text/x-scala",
   "name": "scala",
   "pygments_lexer": "scala",
   "version": "0.4.1"
  }
 },
 "nbformat": 4,
 "nbformat_minor": 5
}
