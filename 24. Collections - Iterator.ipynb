{
 "cells": [
  {
   "cell_type": "markdown",
   "id": "434da2ff-217e-450d-b084-38ed17489acf",
   "metadata": {},
   "source": [
    "## Iterators in Scala\n",
    "\n",
    "An `iterator` is a way to access elements of a `collection` one-by-one. \n",
    "\n",
    "It resembles to a collection in terms of syntax but works differently in terms of functionality. \n",
    "\n",
    "An `iterator` defined for any collection does not load the entire collection into the memory but loads elements one after the other. Therefore, iterators are useful when the data is too large for the memory.\n",
    "\n",
    "To access elements we can make use of `hasNext()` to check if there are elements available and `next()` to print the next element.\n",
    "\n",
    "Syntax:\n",
    "```scala\n",
    "val v = Iterator(5, 1, 2, 3, 6, 4)\n",
    "\n",
    "//checking for availability of next element\n",
    "while(v.hasNext)\n",
    "\n",
    "//printing the element\n",
    "println(v.next)\n",
    "```"
   ]
  },
  {
   "cell_type": "markdown",
   "id": "76371ebc-2a67-46aa-a643-29fd36a2ef88",
   "metadata": {},
   "source": [
    "### Defining an iterator for a collection\n",
    "\n",
    "We can define an iterator for any collection(`Arrays`, `Lists`, etc) and can step through the elements of that particular collection."
   ]
  },
  {
   "cell_type": "code",
   "execution_count": 1,
   "id": "3f306dcf-930d-4f8d-8477-5c61fd5ff352",
   "metadata": {},
   "outputs": [
    {
     "data": {
      "text/plain": [
       "Intitializing Scala interpreter ..."
      ]
     },
     "metadata": {},
     "output_type": "display_data"
    },
    {
     "data": {
      "text/plain": [
       "Spark Web UI available at http://192.168.1.138:4043\n",
       "SparkContext available as 'sc' (version = 3.3.0, master = local[*], app id = local-1670267986646)\n",
       "SparkSession available as 'spark'\n"
      ]
     },
     "metadata": {},
     "output_type": "display_data"
    },
    {
     "name": "stdout",
     "output_type": "stream",
     "text": [
      "5 1 2 3 6 4 "
     ]
    },
    {
     "data": {
      "text/plain": [
       "v: Array[Int] = Array(5, 1, 2, 3, 6, 4)\n",
       "i: Iterator[Int] = <iterator>\n"
      ]
     },
     "execution_count": 1,
     "metadata": {},
     "output_type": "execute_result"
    }
   ],
   "source": [
    "val v = Array(5, 1, 2, 3, 6, 4)\n",
    "\n",
    "// defining an iterator for a collection\n",
    "val i = v.iterator\n",
    "\n",
    "while (i.hasNext)\n",
    "    print(i.next + \" \")"
   ]
  },
  {
   "cell_type": "code",
   "execution_count": 2,
   "id": "9e2cdb9c-e8ac-45e5-a2a3-cfe5fd2c4f28",
   "metadata": {},
   "outputs": [
    {
     "name": "stdout",
     "output_type": "stream",
     "text": [
      "5 1 2 3 6 4 "
     ]
    },
    {
     "data": {
      "text/plain": [
       "v: List[Int] = List(5, 1, 2, 3, 6, 4)\n",
       "i: Iterator[Int] = <iterator>\n"
      ]
     },
     "execution_count": 2,
     "metadata": {},
     "output_type": "execute_result"
    }
   ],
   "source": [
    "val v = List(5, 1, 2, 3, 6, 4)\n",
    "\n",
    "// defining an iterator for a collection\n",
    "val i = v.iterator\n",
    "\n",
    "while (i.hasNext)\n",
    "    print(i.next + \" \")"
   ]
  },
  {
   "cell_type": "markdown",
   "id": "24fb1403-103a-4c82-9fc5-912039f4af16",
   "metadata": {},
   "source": [
    "### Ways to access elements\n",
    "\n",
    "* **1. Using `while` loop** : Simplest way to access elements is to use while loop along with `hasNext` and `next` methods."
   ]
  },
  {
   "cell_type": "code",
   "execution_count": 3,
   "id": "b8a15351-1358-417c-b526-eef5bf9edad1",
   "metadata": {},
   "outputs": [
    {
     "name": "stdout",
     "output_type": "stream",
     "text": [
      "5\n",
      "1\n",
      "2\n",
      "3\n",
      "6\n",
      "4\n"
     ]
    },
    {
     "data": {
      "text/plain": [
       "i: Iterator[Int] = <iterator>\n"
      ]
     },
     "execution_count": 3,
     "metadata": {},
     "output_type": "execute_result"
    }
   ],
   "source": [
    "val i = Iterator(5, 1, 2, 3, 6, 4)\n",
    "\n",
    "// accessing elements using while loop\n",
    "while (i.hasNext)\n",
    "    println(i.next)"
   ]
  },
  {
   "cell_type": "code",
   "execution_count": 4,
   "id": "1db2b136-ac5a-4637-8625-67c7c63743f4",
   "metadata": {},
   "outputs": [
    {
     "name": "stdout",
     "output_type": "stream",
     "text": [
      "5\n",
      "1\n",
      "2\n",
      "3\n",
      "6\n",
      "4\n"
     ]
    },
    {
     "data": {
      "text/plain": [
       "v: List[Int] = List(5, 1, 2, 3, 6, 4)\n",
       "i: Iterator[Int] = <iterator>\n"
      ]
     },
     "execution_count": 4,
     "metadata": {},
     "output_type": "execute_result"
    }
   ],
   "source": [
    "val v = List(5, 1, 2, 3, 6, 4)\n",
    "val i = v.iterator\n",
    "\n",
    "// accessing elements using while loop\n",
    "while (i.hasNext)\n",
    "    println(i.next)"
   ]
  },
  {
   "cell_type": "markdown",
   "id": "8b7e9afc-c24a-4186-88b0-7ea71a8f1825",
   "metadata": {},
   "source": [
    "* **2. Using `foreach` action** : We can make use of `foreach` to print elements by passing `println` function as parameter. Note that `foreach` is a higher order function that takes another function as parameter. In other words, `println` function is applied on every element."
   ]
  },
  {
   "cell_type": "code",
   "execution_count": 5,
   "id": "827f7da2-5618-422f-ab40-560df491c1c2",
   "metadata": {},
   "outputs": [
    {
     "name": "stdout",
     "output_type": "stream",
     "text": [
      "5\n",
      "1\n",
      "2\n",
      "3\n",
      "6\n",
      "4\n"
     ]
    },
    {
     "data": {
      "text/plain": [
       "i: Iterator[Int] = <iterator>\n"
      ]
     },
     "execution_count": 5,
     "metadata": {},
     "output_type": "execute_result"
    }
   ],
   "source": [
    "val i = Iterator(5, 1, 2, 3, 6, 4)\n",
    "\n",
    "// accessing elements using foreach\n",
    "i.foreach(println)\n",
    "\n",
    "// Same as \"i foreach println\""
   ]
  },
  {
   "cell_type": "code",
   "execution_count": 6,
   "id": "a5f499db-2e6c-4101-9a20-31fdd744784e",
   "metadata": {},
   "outputs": [
    {
     "name": "stdout",
     "output_type": "stream",
     "text": [
      "5\n",
      "1\n",
      "2\n",
      "3\n",
      "6\n",
      "4\n"
     ]
    },
    {
     "data": {
      "text/plain": [
       "v: List[Int] = List(5, 1, 2, 3, 6, 4)\n",
       "i: Iterator[Int] = <iterator>\n"
      ]
     },
     "execution_count": 6,
     "metadata": {},
     "output_type": "execute_result"
    }
   ],
   "source": [
    "val v = List(5, 1, 2, 3, 6, 4)\n",
    "val i = v.iterator\n",
    "\n",
    "// accessing elements using foreach\n",
    "i.foreach(println)\n",
    "\n",
    "// Same as \"i foreach println\""
   ]
  },
  {
   "cell_type": "markdown",
   "id": "13dc81a2-0420-4429-8373-5bea2e163c09",
   "metadata": {},
   "source": [
    "* **3. Using `for` loop** : Another straightforward way is to use `for` loop. It works in very similar way as accessing elements of any collection using for loop."
   ]
  },
  {
   "cell_type": "code",
   "execution_count": 7,
   "id": "a0577726-1642-4123-8f79-9c595b804229",
   "metadata": {},
   "outputs": [
    {
     "name": "stdout",
     "output_type": "stream",
     "text": [
      "5\n",
      "1\n",
      "2\n",
      "3\n",
      "6\n",
      "4\n"
     ]
    },
    {
     "data": {
      "text/plain": [
       "i: Iterator[Int] = <iterator>\n"
      ]
     },
     "execution_count": 7,
     "metadata": {},
     "output_type": "execute_result"
    }
   ],
   "source": [
    "val i = Iterator(5, 1, 2, 3, 6, 4)\n",
    "\n",
    "// accessing elements using for loop\n",
    "for(k <- i) println(k)"
   ]
  },
  {
   "cell_type": "code",
   "execution_count": 8,
   "id": "1ac1ec83-8e66-4a08-bd90-3759830aa1c9",
   "metadata": {},
   "outputs": [
    {
     "name": "stdout",
     "output_type": "stream",
     "text": [
      "5\n",
      "1\n",
      "2\n",
      "3\n",
      "6\n",
      "4\n"
     ]
    },
    {
     "data": {
      "text/plain": [
       "v: List[Int] = List(5, 1, 2, 3, 6, 4)\n",
       "i: Iterator[Int] = <iterator>\n"
      ]
     },
     "execution_count": 8,
     "metadata": {},
     "output_type": "execute_result"
    }
   ],
   "source": [
    "val v = List(5, 1, 2, 3, 6, 4)\n",
    "val i = v.iterator\n",
    "\n",
    "// accessing elements using for loop\n",
    "for(k <- i) println(k)"
   ]
  },
  {
   "cell_type": "markdown",
   "id": "bf1abe74-1c84-4dfa-a051-e972f0352cdf",
   "metadata": {},
   "source": [
    "### Finding elements with minimum and maximum values\n",
    "\n",
    "* Using built-in functions `min` and `max`, Iterators can be traversed only once. Therefore, we should redefine the iterator after finding the maximum value."
   ]
  },
  {
   "cell_type": "code",
   "execution_count": 9,
   "id": "753b9c2c-1191-4a3b-a82c-b8b4fb5aed70",
   "metadata": {},
   "outputs": [
    {
     "name": "stdout",
     "output_type": "stream",
     "text": [
      "Maximum: 6\n",
      "Minimum: 1\n"
     ]
    },
    {
     "data": {
      "text/plain": [
       "i1: Iterator[Int] = <iterator>\n",
       "i2: Iterator[Int] = <iterator>\n"
      ]
     },
     "execution_count": 9,
     "metadata": {},
     "output_type": "execute_result"
    }
   ],
   "source": [
    "val i1 = Iterator(5, 1, 2, 3, 6, 4)\n",
    "\n",
    "// calling max function\n",
    "println(\"Maximum: \"+ i1.max)\n",
    "\n",
    "// redefining iterator\n",
    "val i2 = Iterator(5, 1, 2, 3, 6, 4)\n",
    "\n",
    "// calling min function\n",
    "println(\"Minimum: \"+ i2.min)"
   ]
  },
  {
   "cell_type": "markdown",
   "id": "2b449999-e84a-4acb-a61a-6dce3f4fec7c",
   "metadata": {},
   "source": [
    "* User-defined functions to return minimum and maximum value. we can define our own pure functions as per our convenience to print minimum and maximum valued element."
   ]
  },
  {
   "cell_type": "code",
   "execution_count": 10,
   "id": "76f71b90-810d-477c-a4c4-a5aa32a144cf",
   "metadata": {},
   "outputs": [
    {
     "name": "stdout",
     "output_type": "stream",
     "text": [
      "Minimum : 1\n"
     ]
    },
    {
     "data": {
      "text/plain": [
       "small: (ite: Iterator[Int])Int\n",
       "i: Iterator[Int] = <iterator>\n"
      ]
     },
     "execution_count": 10,
     "metadata": {},
     "output_type": "execute_result"
    }
   ],
   "source": [
    "// Minimum Value\n",
    "\n",
    "def small(ite : Iterator[Int]) : Int = \n",
    "{\n",
    "    // storing first value of collection\n",
    "    var mn = ite.next\n",
    "\n",
    "    for(i <- ite)\n",
    "    {\n",
    "        if(i < mn)\n",
    "        {\n",
    "            mn = i\n",
    "        }\n",
    "    }\n",
    "    return mn\n",
    "}\n",
    "\n",
    "// defining iterator\n",
    "val i = Iterator(5, 1, 2, 3, 6, 4)\n",
    "\n",
    "//calling small function\n",
    "println(\"Minimum : \" + small(i))"
   ]
  },
  {
   "cell_type": "code",
   "execution_count": 11,
   "id": "b12af8c3-e5ba-4035-982f-442e05586287",
   "metadata": {},
   "outputs": [
    {
     "name": "stdout",
     "output_type": "stream",
     "text": [
      "Maximum : 6\n"
     ]
    },
    {
     "data": {
      "text/plain": [
       "large: (ite: Iterator[Int])Int\n",
       "i: Iterator[Int] = <iterator>\n"
      ]
     },
     "execution_count": 11,
     "metadata": {},
     "output_type": "execute_result"
    }
   ],
   "source": [
    "// Maximum Value\n",
    "\n",
    "def large(ite: Iterator[Int]): Int =\n",
    "{\n",
    "    // storing first value of collection\n",
    "    var mx = ite.next\n",
    "\n",
    "    for(i <- ite)\n",
    "    {\n",
    "        if(i > mx)\n",
    "        {\n",
    "            mx = i\n",
    "        }\n",
    "    }\n",
    "    return mx\n",
    "}\n",
    "\n",
    "val i = Iterator(5, 1, 2, 3, 6, 4)\n",
    "\n",
    "// calling large function\n",
    "println(\"Maximum : \" + large(i))"
   ]
  }
 ],
 "metadata": {
  "kernelspec": {
   "display_name": "spylon-kernel",
   "language": "scala",
   "name": "spylon-kernel"
  },
  "language_info": {
   "codemirror_mode": "text/x-scala",
   "file_extension": ".scala",
   "help_links": [
    {
     "text": "MetaKernel Magics",
     "url": "https://metakernel.readthedocs.io/en/latest/source/README.html"
    }
   ],
   "mimetype": "text/x-scala",
   "name": "scala",
   "pygments_lexer": "scala",
   "version": "0.4.1"
  }
 },
 "nbformat": 4,
 "nbformat_minor": 5
}
