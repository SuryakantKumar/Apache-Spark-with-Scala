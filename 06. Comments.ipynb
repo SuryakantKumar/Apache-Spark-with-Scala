{
 "cells": [
  {
   "cell_type": "markdown",
   "id": "2170426f-2633-48d3-b9b9-d6866d50b6f5",
   "metadata": {},
   "source": [
    "## Comments in Scala\n",
    "\n",
    "* Comments are used for explaining the code.\n",
    "\n",
    "* Compilers ignore the comment entries and do not execute them. \n",
    "\n",
    "* Comments can be of a single line or multiple lines. "
   ]
  },
  {
   "cell_type": "markdown",
   "id": "982a3ce4-bade-4a95-ab0c-a7e0ec8ee17a",
   "metadata": {},
   "source": [
    "### Single line Comments"
   ]
  },
  {
   "cell_type": "code",
   "execution_count": 1,
   "id": "e136b1eb-afe8-4047-9780-f66b4e22ce7d",
   "metadata": {},
   "outputs": [
    {
     "data": {
      "text/plain": [
       "Intitializing Scala interpreter ..."
      ]
     },
     "metadata": {},
     "output_type": "display_data"
    },
    {
     "data": {
      "text/plain": [
       "Spark Web UI available at http://192.168.29.42:4042\n",
       "SparkContext available as 'sc' (version = 3.3.0, master = local[*], app id = local-1669965427219)\n",
       "SparkSession available as 'spark'\n"
      ]
     },
     "metadata": {},
     "output_type": "display_data"
    }
   ],
   "source": [
    "// Single line comment"
   ]
  },
  {
   "cell_type": "markdown",
   "id": "8bf13896-f053-4a94-a7d0-08b6829355c6",
   "metadata": {},
   "source": [
    "### Multi line comments"
   ]
  },
  {
   "cell_type": "code",
   "execution_count": 2,
   "id": "57d6743a-e944-49cf-9d33-ba37d3ea24a9",
   "metadata": {},
   "outputs": [],
   "source": [
    "/* Multi-line comments\n",
    "   syntax */"
   ]
  }
 ],
 "metadata": {
  "kernelspec": {
   "display_name": "spylon-kernel",
   "language": "scala",
   "name": "spylon-kernel"
  },
  "language_info": {
   "codemirror_mode": "text/x-scala",
   "file_extension": ".scala",
   "help_links": [
    {
     "text": "MetaKernel Magics",
     "url": "https://metakernel.readthedocs.io/en/latest/source/README.html"
    }
   ],
   "mimetype": "text/x-scala",
   "name": "scala",
   "pygments_lexer": "scala",
   "version": "0.4.1"
  }
 },
 "nbformat": 4,
 "nbformat_minor": 5
}
