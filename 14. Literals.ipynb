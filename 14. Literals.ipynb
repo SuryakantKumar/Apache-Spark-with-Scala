{
 "cells": [
  {
   "cell_type": "markdown",
   "id": "fc2dd13a-2e7f-42b6-8bb9-432875becf0d",
   "metadata": {},
   "source": [
    "## Scala Literals\n",
    "\n",
    "Any constant value which can be assigned to the variable is called as literal/constant. \n",
    "\n",
    "The literals are a series of symbols utilized for describing a constant value in the code. \n",
    "\n",
    "There are many types of literals in Scala :\n",
    "* Character literals\n",
    "* String literals\n",
    "* Multi-Line String literals\n",
    "* Boolean literals\n",
    "* Integer literals\n",
    "* Floating point literals"
   ]
  },
  {
   "cell_type": "markdown",
   "id": "9ed86e55-1977-4736-8e52-4c5520d8415a",
   "metadata": {},
   "source": [
    "### Integer Literals\n",
    "\n",
    "The Integer literals are generally of type `Int` or of type `Long` when a suffix `L` or `l` is added at the end of the Integers. \n",
    "\n",
    "The type `Int` as well as type `Long` are all Integer numerals.\n",
    "\n",
    "When an Integer literal has a number which falls out of this range then a `compile time error` arises."
   ]
  },
  {
   "cell_type": "markdown",
   "id": "5af2621b-a187-4eae-a164-a4216867c819",
   "metadata": {},
   "source": [
    "The Integers literals are specified in two ways:\n",
    "* Decimal literals\n",
    "* Hexa-decimal literals"
   ]
  },
  {
   "cell_type": "markdown",
   "id": "21c29ca1-d18a-4eed-a0dc-bb2cd3811614",
   "metadata": {},
   "source": [
    "#### Decimal literals\n",
    "\n",
    "Here, the allowed digits are from `0` to `9`.\n",
    "\n",
    "Example :\n",
    "```scala\n",
    "val x = 37\n",
    "```"
   ]
  },
  {
   "cell_type": "markdown",
   "id": "6cef8bbd-5cf0-4370-83fe-36e88f6ad229",
   "metadata": {},
   "source": [
    "#### Hexa-decimal literals\n",
    "\n",
    "Here, the allowed digits are from `0` to `9` and characters used are from `a` to `f`. \n",
    "\n",
    "We can use uppercase as well as lowercase characters.\n",
    "\n",
    "The Octal form of the literal is obsolete\n",
    "\n",
    "Example :\n",
    "```scala\n",
    "// The hexa-decimal number should be prefix with 0X or 0x.\n",
    "val x = 0xFFF\n",
    "```"
   ]
  },
  {
   "cell_type": "code",
   "execution_count": 1,
   "id": "99c632b4-11da-45c6-8720-28cac1585925",
   "metadata": {},
   "outputs": [
    {
     "data": {
      "text/plain": [
       "Intitializing Scala interpreter ..."
      ]
     },
     "metadata": {},
     "output_type": "display_data"
    },
    {
     "data": {
      "text/plain": [
       "Spark Web UI available at http://192.168.29.42:4041\n",
       "SparkContext available as 'sc' (version = 3.3.0, master = local[*], app id = local-1669965842861)\n",
       "SparkSession available as 'spark'\n"
      ]
     },
     "metadata": {},
     "output_type": "display_data"
    },
    {
     "name": "stdout",
     "output_type": "stream",
     "text": [
      "46\n",
      "255\n"
     ]
    },
    {
     "data": {
      "text/plain": [
       "a: Int = 46\n",
       "b: Int = 255\n"
      ]
     },
     "execution_count": 1,
     "metadata": {},
     "output_type": "execute_result"
    }
   ],
   "source": [
    "// decimal-form literal\n",
    "val a = 46\n",
    "\n",
    "// Hexa-decimal form literal\n",
    "val b = 0xfF\n",
    "\n",
    "println(a)\n",
    "println(b)"
   ]
  },
  {
   "cell_type": "markdown",
   "id": "ce7af6d4-4731-4cb9-b09f-8fff2ce25b8c",
   "metadata": {},
   "source": [
    "### Floating Point Literals\n",
    "\n",
    "This type of literals are of type `Double` as well as type `Float` when a suffix `F` or `f` is added at the end and we can even specify `Double` type by suffixed with `d` or `D`.\n",
    "\n",
    "Here, we can’t specify literals in Octal or Hexadecimal form.\n",
    "\n",
    "Example :\n",
    "```scala\n",
    "val x = 3.14159\n",
    "```"
   ]
  },
  {
   "cell_type": "code",
   "execution_count": 2,
   "id": "e1b2051b-f754-4745-887a-7cec9cb2ccad",
   "metadata": {},
   "outputs": [
    {
     "name": "stdout",
     "output_type": "stream",
     "text": [
      "3.156\n",
      "123.34\n"
     ]
    },
    {
     "data": {
      "text/plain": [
       "a: Double = 3.156\n",
       "b: Double = 123.34\n"
      ]
     },
     "execution_count": 2,
     "metadata": {},
     "output_type": "execute_result"
    }
   ],
   "source": [
    "// decimal-form literal\n",
    "val a = 3.156\n",
    "\n",
    "// It is also a decimal form of the literal\n",
    "val b = 0123.34\n",
    "\n",
    "println(a)\n",
    "println(b)"
   ]
  },
  {
   "cell_type": "markdown",
   "id": "96dbed49-2842-48b5-aaba-809977d6fda7",
   "metadata": {},
   "source": [
    "### Character Literals\n",
    "\n",
    "Character literals are either `uni-code` character which are `printable` or are represented by `escape sequences`.\n",
    "\n",
    "The character literals are enclosed in a single quote.\n",
    "\n",
    "Examples :\n",
    "```scala\n",
    "//character literal in a single quote.\n",
    "val x = 'b' \n",
    "\n",
    "//uni-code representation of character literal, this uni-code represents Q.\n",
    "val x = '\\u0051'\n",
    "\n",
    "//Escape sequence in character literals\n",
    "val x = '\\n'\n",
    "```"
   ]
  },
  {
   "cell_type": "code",
   "execution_count": 3,
   "id": "bb528e0d-1f80-4037-97ed-15142317b3cc",
   "metadata": {},
   "outputs": [
    {
     "name": "stdout",
     "output_type": "stream",
     "text": [
      "b\n",
      "Q\n",
      "\n",
      "\n"
     ]
    },
    {
     "data": {
      "text/plain": [
       "x: Char = b\n",
       "y: Char = Q\n",
       "z: Char =\n",
       "\n"
      ]
     },
     "execution_count": 3,
     "metadata": {},
     "output_type": "execute_result"
    }
   ],
   "source": [
    "// Creating a character literal in single quote\n",
    "val x = 'b'\n",
    "\n",
    "// uni-code representation of character literal\n",
    "val y = '\\u0051'\n",
    "\n",
    "// Escape sequence in character literals\n",
    "val z = '\\n'\n",
    "\n",
    "println(x)\n",
    "println(y)\n",
    "println(z)"
   ]
  },
  {
   "cell_type": "markdown",
   "id": "09863677-c5bc-4225-bc40-2ea3196d6527",
   "metadata": {},
   "source": [
    "### String literals\n",
    "\n",
    "The String literals are series of characters, which are available in double quotes. \n",
    "\n",
    "The String literals can be handled smoothly by utilizing String Interpolation.\n",
    "\n",
    "A single line string literals are enclosed in a quotation marks.\n",
    "\n",
    "Example :\n",
    "```scala\n",
    "val x = \"Suryakant\"\n",
    "```"
   ]
  },
  {
   "cell_type": "code",
   "execution_count": 4,
   "id": "c96de65b-2f51-401b-b9b8-67d3565490f2",
   "metadata": {},
   "outputs": [
    {
     "name": "stdout",
     "output_type": "stream",
     "text": [
      "Suryakant\n"
     ]
    },
    {
     "data": {
      "text/plain": [
       "x: String = Suryakant\n"
      ]
     },
     "execution_count": 4,
     "metadata": {},
     "output_type": "execute_result"
    }
   ],
   "source": [
    "// Creating a string literal\n",
    "val x = \"Suryakant\"\n",
    "\n",
    "println(x)"
   ]
  },
  {
   "cell_type": "markdown",
   "id": "e3e882d8-341a-4a47-8d55-8562abdf2c67",
   "metadata": {},
   "source": [
    "### Multi-Line String Literals\n",
    "\n",
    "The multi-line string literals are also series of characters but it has multiple lines.\n",
    "\n",
    "The multi-line string literals are enclosed in triple quotes.\n",
    "\n",
    "Example :\n",
    "```scala\n",
    "val x = \"\"\"Suryakant\"\"\"\n",
    "```"
   ]
  },
  {
   "cell_type": "code",
   "execution_count": 5,
   "id": "61913205-166a-477f-8a15-be742c7a4716",
   "metadata": {},
   "outputs": [
    {
     "name": "stdout",
     "output_type": "stream",
     "text": [
      "GeeksforGeeks\n",
      "is a\n",
      "computer science \n",
      "portal\n"
     ]
    },
    {
     "data": {
      "text/plain": [
       "x: String =\n",
       "GeeksforGeeks\n",
       "is a\n",
       "computer science\n",
       "portal\n"
      ]
     },
     "execution_count": 5,
     "metadata": {},
     "output_type": "execute_result"
    }
   ],
   "source": [
    "// Creating a multiple line string literal\n",
    "val x =\"\"\"GeeksforGeeks\n",
    "is a\n",
    "computer science \n",
    "portal\"\"\"\n",
    "\n",
    "println(x)"
   ]
  },
  {
   "cell_type": "markdown",
   "id": "65ba35dd-05dd-459a-98eb-67473166fe6f",
   "metadata": {},
   "source": [
    "### Boolean Literals\n",
    "\n",
    "Boolean literals allow only two values i.e. `true` and `false`, which are members of type `Boolean`.\n",
    "\n",
    "Example :\n",
    "```scala\n",
    "val x = true\n",
    "```"
   ]
  },
  {
   "cell_type": "code",
   "execution_count": 6,
   "id": "f789f53a-df4b-4815-93e5-b92a1b8a350e",
   "metadata": {},
   "outputs": [
    {
     "name": "stdout",
     "output_type": "stream",
     "text": [
      "true\n",
      "false\n"
     ]
    },
    {
     "data": {
      "text/plain": [
       "a: Boolean = true\n",
       "b: Boolean = false\n"
      ]
     },
     "execution_count": 6,
     "metadata": {},
     "output_type": "execute_result"
    }
   ],
   "source": [
    "// Assigning true\n",
    "val a = true\n",
    "\n",
    "// Assigning false\n",
    "val b = false\n",
    "\n",
    "println(a)\n",
    "println(b)"
   ]
  }
 ],
 "metadata": {
  "kernelspec": {
   "display_name": "spylon-kernel",
   "language": "scala",
   "name": "spylon-kernel"
  },
  "language_info": {
   "codemirror_mode": "text/x-scala",
   "file_extension": ".scala",
   "help_links": [
    {
     "text": "MetaKernel Magics",
     "url": "https://metakernel.readthedocs.io/en/latest/source/README.html"
    }
   ],
   "mimetype": "text/x-scala",
   "name": "scala",
   "pygments_lexer": "scala",
   "version": "0.4.1"
  }
 },
 "nbformat": 4,
 "nbformat_minor": 5
}
