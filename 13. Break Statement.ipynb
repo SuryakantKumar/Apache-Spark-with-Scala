{
 "cells": [
  {
   "cell_type": "markdown",
   "id": "f050826b-8e08-4c47-8159-94756918be42",
   "metadata": {},
   "source": [
    "## Break Statement In Scala\n",
    "\n",
    "In Scala, we use a `break` statement to break the execution of the loop in the program. \n",
    "\n",
    "Scala programing language does not contain any concept of break statement(in above 2.8 versions), instead of break statement, it provides a `break method`, which is used to break the execution of a program or a loop.\n",
    "\n",
    "Break method is used by importing `scala.util.control.breaks._` package.\n",
    "\n",
    "Syntax :\n",
    "```scala\n",
    "import scala.util.control.Breaks._\n",
    "\n",
    "breakable \n",
    "{\n",
    "    for(range)\n",
    "    {\n",
    "        // code here\n",
    "        break\n",
    "    }\n",
    "}\n",
    "```"
   ]
  },
  {
   "cell_type": "code",
   "execution_count": 1,
   "id": "d806513a-344d-4057-9843-276d46dab67c",
   "metadata": {},
   "outputs": [
    {
     "data": {
      "text/plain": [
       "Intitializing Scala interpreter ..."
      ]
     },
     "metadata": {},
     "output_type": "display_data"
    },
    {
     "data": {
      "text/plain": [
       "Spark Web UI available at http://192.168.29.42:4041\n",
       "SparkContext available as 'sc' (version = 3.3.0, master = local[*], app id = local-1669965795857)\n",
       "SparkSession available as 'spark'\n"
      ]
     },
     "metadata": {},
     "output_type": "display_data"
    },
    {
     "name": "stdout",
     "output_type": "stream",
     "text": [
      "1\n",
      "2\n",
      "3\n",
      "4\n",
      "5\n"
     ]
    },
    {
     "data": {
      "text/plain": [
       "import scala.util.control.Breaks._\n"
      ]
     },
     "execution_count": 1,
     "metadata": {},
     "output_type": "execute_result"
    }
   ],
   "source": [
    "import scala.util.control.Breaks._\n",
    "\n",
    "// Here, breakable is used to prevent exception \n",
    "breakable \n",
    "{ \n",
    "    for (a <- 1 to 10) \n",
    "    {\n",
    "        if (a == 6)\n",
    "            break \n",
    "        else\n",
    "            println(a);\n",
    "    }\n",
    "}"
   ]
  },
  {
   "cell_type": "markdown",
   "id": "4548c65e-3da0-4074-b8f9-c2c480e6dfe5",
   "metadata": {},
   "source": [
    "### Break in Nested loop\n",
    "\n",
    "We can also use break method in nested loop like this."
   ]
  },
  {
   "cell_type": "code",
   "execution_count": 2,
   "id": "e7eadbc6-73bf-4e78-b4a3-f1806996db7e",
   "metadata": {},
   "outputs": [
    {
     "name": "stdout",
     "output_type": "stream",
     "text": [
      " 5\n",
      " 20\n",
      " 25\n",
      " 10\n",
      " 20\n",
      " 25\n",
      " 15\n",
      " 20\n",
      " 25\n"
     ]
    },
    {
     "data": {
      "text/plain": [
       "import scala.util.control._\n",
       "num1: Int = 0\n",
       "num2: Int = 0\n",
       "x: List[Int] = List(5, 10, 15)\n",
       "y: List[Int] = List(20, 25, 30)\n",
       "outloop: scala.util.control.Breaks = scala.util.control.Breaks@3a367e2c\n",
       "inloop: scala.util.control.Breaks = scala.util.control.Breaks@2749f595\n"
      ]
     },
     "execution_count": 2,
     "metadata": {},
     "output_type": "execute_result"
    }
   ],
   "source": [
    "// Importing break package\n",
    "import scala.util.control._\n",
    "  \n",
    "var num1 = 0;\n",
    "var num2 = 0;\n",
    "val x = List(5, 10, 15);\n",
    "val y = List(20, 25, 30);\n",
    "\n",
    "val outloop = new Breaks;\n",
    "val inloop = new Breaks;\n",
    "\n",
    "// Here, breakable is used to prevent from exception\n",
    "outloop.breakable \n",
    "{ \n",
    "    for (num1 <- x)\n",
    "    {   \n",
    "        println(\" \" + num1);\n",
    "\n",
    "        inloop.breakable \n",
    "        {\n",
    "            for (num2 <- y) \n",
    "            {\n",
    "                println(\" \" + num2);\n",
    "\n",
    "                if (num2 == 25) \n",
    "                {\n",
    "                    inloop.break;\n",
    "                }\n",
    "            }\n",
    "        }\n",
    "    }\n",
    "}"
   ]
  }
 ],
 "metadata": {
  "kernelspec": {
   "display_name": "spylon-kernel",
   "language": "scala",
   "name": "spylon-kernel"
  },
  "language_info": {
   "codemirror_mode": "text/x-scala",
   "file_extension": ".scala",
   "help_links": [
    {
     "text": "MetaKernel Magics",
     "url": "https://metakernel.readthedocs.io/en/latest/source/README.html"
    }
   ],
   "mimetype": "text/x-scala",
   "name": "scala",
   "pygments_lexer": "scala",
   "version": "0.4.1"
  }
 },
 "nbformat": 4,
 "nbformat_minor": 5
}
