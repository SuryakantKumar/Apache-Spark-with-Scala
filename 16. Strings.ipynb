{
 "cells": [
  {
   "attachments": {
    "c9494563-7284-4c71-9fe4-40d31b4558ff.gif": {
     "image/gif": "[encoded data removed]"
    },
    "ecd1af6f-8660-4379-b68f-bad3ed6d67c8.gif": {
     "image/gif": "[encoded data removed]"
    }
   },
   "cell_type": "markdown",
   "id": "1a127571-e7da-4fad-8217-c74a378ba6e4",
   "metadata": {},
   "source": [
    "[![icons8-linkedin.gif](attachment:c9494563-7284-4c71-9fe4-40d31b4558ff.gif 'Author : Suryakant Kumar')](https://www.linkedin.com/in/suryakantkumar/)[![icons8-github.gif](attachment:ecd1af6f-8660-4379-b68f-bad3ed6d67c8.gif 'Author : Suryakant Kumar')](https://github.com/SuryakantKumar)"
   ]
  },
  {
   "cell_type": "markdown",
   "id": "8ea3c55e-fb13-4e2e-b46a-7da650ac33aa",
   "metadata": {},
   "source": [
    "## Scala Strings\n",
    "\n",
    "A `String` is a sequence of characters. \n",
    "\n",
    "In Scala, Objects of String are `immutable` which means a constant and cannot be changed once created. \n",
    "\n",
    "In Scala, a `String` type is specified before meeting the string literal, but when the compiler meet to a string literal and creates a string object `str`."
   ]
  },
  {
   "cell_type": "markdown",
   "id": "d5390a8b-0563-4fa4-89b7-55ffcc9c378d",
   "metadata": {},
   "source": [
    "### Creating a String in Scala\n",
    "\n",
    "There are two ways to create a string in Scala :\n",
    "\n",
    "* Here, when the compiler meet to a string literal and creates a string object `str`.\n",
    "\n",
    "```scala\n",
    "var str = \"Hello! GFG\"\n",
    "or\n",
    "val str = \"Hello! GFG\"\n",
    "```\n",
    "\n",
    "* Here, a String type is specified before meeting the string literal.\n",
    "\n",
    "```scala\n",
    "var str: String = \"Hello! GFG\"\n",
    "or\n",
    "val str: String = \"Hello! GFG\"\n",
    "```\n",
    "\n",
    "Note: If you need to append to the original string, then use `StringBuilder` class. "
   ]
  },
  {
   "cell_type": "code",
   "execution_count": 1,
   "id": "7b5c7abf-26ed-4778-b66f-9d388fb9b581",
   "metadata": {},
   "outputs": [
    {
     "data": {
      "text/plain": [
       "Intitializing Scala interpreter ..."
      ]
     },
     "metadata": {},
     "output_type": "display_data"
    },
    {
     "data": {
      "text/plain": [
       "Spark Web UI available at http://192.168.29.42:4042\n",
       "SparkContext available as 'sc' (version = 3.3.0, master = local[*], app id = local-1670100454134)\n",
       "SparkSession available as 'spark'\n"
      ]
     },
     "metadata": {},
     "output_type": "display_data"
    },
    {
     "name": "stdout",
     "output_type": "stream",
     "text": [
      "Hello! Suryakant\n",
      "Suryakant\n"
     ]
    },
    {
     "data": {
      "text/plain": [
       "str1: String = Hello! Suryakant\n",
       "str2: String = Suryakant\n"
      ]
     },
     "execution_count": 1,
     "metadata": {},
     "output_type": "execute_result"
    }
   ],
   "source": [
    "var str1 = \"Hello! Suryakant\"\n",
    "val str2: String = \"Suryakant\"\n",
    "\n",
    "println(str1);\n",
    "println(str2);"
   ]
  },
  {
   "cell_type": "markdown",
   "id": "f8a6a701-e6e9-4a95-b2d2-37fffc9b4252",
   "metadata": {},
   "source": [
    "### Get Length of the string\n",
    "\n",
    "An `accessor method` is the method which is used to find the information about the object.\n",
    "\n",
    "`length()` method is an accessor method in Scala, which is used to find the length of the given string. Or in other words, `length()` method returns the number of characters that are present in the string object. \n",
    "\n",
    "Syntax:  \n",
    "```scala\n",
    "var len1 = str1.length();\n",
    "```"
   ]
  },
  {
   "cell_type": "code",
   "execution_count": 2,
   "id": "5177c6fb-2ada-4570-8ae7-9fd7604509d9",
   "metadata": {},
   "outputs": [
    {
     "name": "stdout",
     "output_type": "stream",
     "text": [
      "String 1 : Hello! Suryakant, Length : 16\n",
      "String 2 : Suryakant, Length : 9\n"
     ]
    },
    {
     "data": {
      "text/plain": [
       "str1: String = Hello! Suryakant\n",
       "str2: String = Suryakant\n",
       "len1: Int = 16\n",
       "len2: Int = 9\n"
      ]
     },
     "execution_count": 2,
     "metadata": {},
     "output_type": "execute_result"
    }
   ],
   "source": [
    "var str1 = \"Hello! Suryakant\"\n",
    "var str2: String = \"Suryakant\"\n",
    "\n",
    "var len1 = str1.length();\n",
    "var len2 = str2.length();\n",
    "\n",
    "println(\"String 1 : \" + str1 + \", Length : \" + len1);\n",
    "println(\"String 2 : \" + str2 + \", Length : \" + len2);"
   ]
  },
  {
   "cell_type": "markdown",
   "id": "155006e3-086d-4dbb-b8c6-80cfc7e69cc7",
   "metadata": {},
   "source": [
    "### Concatenating strings in Scala\n",
    "\n",
    "When a new string is created by adding two strings is known as a concatenation of strings. \n",
    "\n",
    "Scala provides `concat()` method to concatenate two strings, this method returns a new string which is created using two strings. \n",
    "\n",
    "We can also use ‘+’ operator to concatenate two strings.\n",
    "\n",
    "Syntax:  \n",
    "```scala\n",
    "str1.concat(str2);\n",
    "\n",
    "or \n",
    "\n",
    "\"welcome\" + \"Suryakant\"\n",
    "```"
   ]
  },
  {
   "cell_type": "code",
   "execution_count": 3,
   "id": "961e4537-8aee-4a2b-8778-3072d2bfe9fa",
   "metadata": {},
   "outputs": [
    {
     "name": "stdout",
     "output_type": "stream",
     "text": [
      "String 1 : Welcome! Suryakant \n",
      "String 2 : to Bangalore\n",
      "New String : Welcome! Suryakant to Bangalore\n",
      "This is the Code of Scala language on Jupyter\n"
     ]
    },
    {
     "data": {
      "text/plain": [
       "str1: String = \"Welcome! Suryakant \"\n",
       "str2: String = to Bangalore\n",
       "Newstr: String = Welcome! Suryakant to Bangalore\n"
      ]
     },
     "execution_count": 3,
     "metadata": {},
     "output_type": "execute_result"
    }
   ],
   "source": [
    "var str1 = \"Welcome! Suryakant \"\n",
    "var str2 = \"to Bangalore\"\n",
    "\n",
    "// concatenate str1 and str2 strings using concat() function\n",
    "var Newstr = str1.concat(str2);\n",
    "\n",
    "// Display strings\n",
    "println(\"String 1 : \" + str1);\n",
    "println(\"String 2 : \" + str2);\n",
    "println(\"New String : \" + Newstr);\n",
    "\n",
    "// Concatenate strings using '+' operator\n",
    "println(\"This is the Code\" + \" \" + \"of Scala language\" + \" \" + \"on Jupyter\");"
   ]
  },
  {
   "cell_type": "markdown",
   "id": "245761e1-b905-4d33-8ca5-a3e1e3e595d7",
   "metadata": {},
   "source": [
    "### Create formatted string\n",
    "\n",
    "When we require formatted number or values in our string, we will use `printf()` method. \n",
    "\n",
    "Other than this method, String class also provides a method named as `format()`, which return a `String` object instead of `PrintStream` object. "
   ]
  },
  {
   "cell_type": "code",
   "execution_count": 4,
   "id": "b34c9fb4-b510-4e25-8852-022be4d8d8a2",
   "metadata": {},
   "outputs": [
    {
     "name": "stdout",
     "output_type": "stream",
     "text": [
      "Ankita, Scala | Strings, 130\n"
     ]
    },
    {
     "data": {
      "text/plain": [
       "A_name: String = Ankita\n",
       "Ar_name: String = Scala | Strings\n",
       "total: Int = 130\n"
      ]
     },
     "execution_count": 4,
     "metadata": {},
     "output_type": "execute_result"
    }
   ],
   "source": [
    "var A_name = \"Ankita\"\n",
    "var Ar_name = \"Scala | Strings\"\n",
    "var total = 130\n",
    "\n",
    "// using format() function\n",
    "println(\"%s, %s, %d\".format(A_name, Ar_name, total));"
   ]
  },
  {
   "cell_type": "markdown",
   "id": "b28b52f6-29ba-458f-88bd-0264c4aa654b",
   "metadata": {},
   "source": [
    "### Some important string functions"
   ]
  },
  {
   "cell_type": "code",
   "execution_count": 5,
   "id": "f41d2da5-0fee-4981-a36c-45589c8e3052",
   "metadata": {},
   "outputs": [
    {
     "name": "stdout",
     "output_type": "stream",
     "text": [
      "21"
     ]
    },
    {
     "data": {
      "text/plain": [
       "s: String = \"My Name Is Suryakant \"\n"
      ]
     },
     "execution_count": 5,
     "metadata": {},
     "output_type": "execute_result"
    }
   ],
   "source": [
    "var s = \"My Name Is Suryakant \";\n",
    "\n",
    "print(s.length())"
   ]
  },
  {
   "cell_type": "markdown",
   "id": "a836dcc0-55b7-4166-9a2a-94901c2687b5",
   "metadata": {},
   "source": [
    "#### Function / Upper Case"
   ]
  },
  {
   "cell_type": "code",
   "execution_count": 6,
   "id": "93f4c15d-01c8-4dea-827a-98e09b77da2f",
   "metadata": {},
   "outputs": [
    {
     "name": "stdout",
     "output_type": "stream",
     "text": [
      "MY NAME IS SURYAKANT \n"
     ]
    }
   ],
   "source": [
    "println(s.toUpperCase());"
   ]
  },
  {
   "cell_type": "markdown",
   "id": "0e912831-fdc4-427f-b1fd-6eb6252cc78d",
   "metadata": {},
   "source": [
    "#### Function / Lower Case"
   ]
  },
  {
   "cell_type": "code",
   "execution_count": 7,
   "id": "f85d0a10-6eb7-4161-becc-2d681a1c20fa",
   "metadata": {},
   "outputs": [
    {
     "name": "stdout",
     "output_type": "stream",
     "text": [
      "my name is suryakant \n"
     ]
    }
   ],
   "source": [
    "println(s.toLowerCase());"
   ]
  },
  {
   "cell_type": "markdown",
   "id": "8502553c-8de1-4f3a-8da9-1bd632cc4e1f",
   "metadata": {},
   "source": [
    "#### Function / SubString"
   ]
  },
  {
   "cell_type": "code",
   "execution_count": 8,
   "id": "0fdb85fe-1eb8-47c6-98bb-8aab78ed6138",
   "metadata": {},
   "outputs": [
    {
     "name": "stdout",
     "output_type": "stream",
     "text": [
      "e Is Suryakant \n",
      "e Is Sury\n"
     ]
    }
   ],
   "source": [
    "println(s.substring(6))\n",
    "println(s.substring(6, 15))"
   ]
  },
  {
   "cell_type": "markdown",
   "id": "c2b6e44a-2948-4025-ae13-fdfa0c169476",
   "metadata": {},
   "source": [
    "#### Function / Value at Given Index"
   ]
  },
  {
   "cell_type": "code",
   "execution_count": 9,
   "id": "074a7bb5-7eb1-4d01-9f46-0e94aa57f13b",
   "metadata": {},
   "outputs": [
    {
     "name": "stdout",
     "output_type": "stream",
     "text": [
      "N\n"
     ]
    }
   ],
   "source": [
    "println(s.charAt(3))"
   ]
  },
  {
   "cell_type": "markdown",
   "id": "08a88e9d-2dd2-413b-8e93-b85e4d166d39",
   "metadata": {},
   "source": [
    "#### Function / Replace Substring"
   ]
  },
  {
   "cell_type": "code",
   "execution_count": 10,
   "id": "d1394987-1ead-433c-a2e9-dcf48b73678e",
   "metadata": {},
   "outputs": [
    {
     "name": "stdout",
     "output_type": "stream",
     "text": [
      "My Name Is Shashikant \n"
     ]
    }
   ],
   "source": [
    "println(s.replace(\"Suryakant\", \"Shashikant\"))"
   ]
  },
  {
   "cell_type": "markdown",
   "id": "f1053854-297d-4eb3-9880-ec9268c2763c",
   "metadata": {},
   "source": [
    "#### Function / Split"
   ]
  },
  {
   "cell_type": "code",
   "execution_count": 11,
   "id": "798447f1-0752-4dd1-ac56-1cdbde5da797",
   "metadata": {},
   "outputs": [
    {
     "name": "stdout",
     "output_type": "stream",
     "text": [
      "My\n",
      "Name\n",
      "Is\n",
      "Suryakant\n"
     ]
    }
   ],
   "source": [
    "for(ele <- s.split(\" \"))\n",
    "{\n",
    "    println(ele)\n",
    "}"
   ]
  },
  {
   "cell_type": "code",
   "execution_count": 12,
   "id": "dbb3fbc5-bb10-4e50-a739-2b340a33eb73",
   "metadata": {},
   "outputs": [
    {
     "name": "stdout",
     "output_type": "stream",
     "text": [
      "My\n",
      "Name\n",
      "Is Suryakant \n"
     ]
    }
   ],
   "source": [
    "// Can Also limit the split count\n",
    "for(ele <- s.split(\" \", 3))\n",
    "{\n",
    "    println(ele)\n",
    "}"
   ]
  },
  {
   "cell_type": "markdown",
   "id": "075bf752-599e-4e58-98ea-f8b641fc58d6",
   "metadata": {},
   "source": [
    "#### Function / Remove Pre & Post Whitespaces"
   ]
  },
  {
   "cell_type": "code",
   "execution_count": 13,
   "id": "390bad11-f9b0-4ae6-a51e-8c1617332b38",
   "metadata": {},
   "outputs": [
    {
     "name": "stdout",
     "output_type": "stream",
     "text": [
      "20"
     ]
    }
   ],
   "source": [
    "print(s.trim().length())"
   ]
  },
  {
   "cell_type": "markdown",
   "id": "70246889-70c7-4c47-a77d-ed532bab4ccd",
   "metadata": {},
   "source": [
    "#### Function / Check Starting Character"
   ]
  },
  {
   "cell_type": "code",
   "execution_count": 14,
   "id": "d73372e4-a68d-4952-a902-220231bb09ad",
   "metadata": {},
   "outputs": [
    {
     "name": "stdout",
     "output_type": "stream",
     "text": [
      "false"
     ]
    }
   ],
   "source": [
    "print(s.startsWith(\" \"))"
   ]
  },
  {
   "cell_type": "code",
   "execution_count": 15,
   "id": "5d393396-0380-4439-a612-8ff1b36ee1d0",
   "metadata": {},
   "outputs": [
    {
     "name": "stdout",
     "output_type": "stream",
     "text": [
      "false"
     ]
    }
   ],
   "source": [
    "print(s.startsWith(\"N\"))"
   ]
  },
  {
   "cell_type": "markdown",
   "id": "a733a4c0-afea-4b82-bcea-837d72f9fc68",
   "metadata": {},
   "source": [
    "#### Function / Check Ending Character"
   ]
  },
  {
   "cell_type": "code",
   "execution_count": 16,
   "id": "76983e39-4ce4-4ef4-9a11-7b340e255366",
   "metadata": {},
   "outputs": [
    {
     "name": "stdout",
     "output_type": "stream",
     "text": [
      "true"
     ]
    }
   ],
   "source": [
    "print(s.endsWith(\" \"))"
   ]
  },
  {
   "cell_type": "code",
   "execution_count": 17,
   "id": "afd26acd-f6b0-43c7-a1bf-1a354ebb7d23",
   "metadata": {},
   "outputs": [
    {
     "name": "stdout",
     "output_type": "stream",
     "text": [
      "false"
     ]
    }
   ],
   "source": [
    "print(s.endsWith(\"t\"))"
   ]
  }
 ],
 "metadata": {
  "kernelspec": {
   "display_name": "spylon-kernel",
   "language": "scala",
   "name": "spylon-kernel"
  },
  "language_info": {
   "codemirror_mode": "text/x-scala",
   "file_extension": ".scala",
   "help_links": [
    {
     "text": "MetaKernel Magics",
     "url": "https://metakernel.readthedocs.io/en/latest/source/README.html"
    }
   ],
   "mimetype": "text/x-scala",
   "name": "scala",
   "pygments_lexer": "scala",
   "version": "0.4.1"
  }
 },
 "nbformat": 4,
 "nbformat_minor": 5
}
