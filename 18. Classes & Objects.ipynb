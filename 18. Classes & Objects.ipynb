{
 "cells": [
  {
   "cell_type": "markdown",
   "id": "0d3a2e72-9ce7-41c8-9adc-6f3ec7709457",
   "metadata": {},
   "source": [
    "## Object Oriented Programming\n",
    "\n",
    "Object-oriented programming aims to implement real-world entities like inheritance, hiding, polymorphism, etc in programming. \n",
    "\n",
    "The main aim of OOP is to bind together the data and the functions that operate on them so that no other part of the code can access this data except that function.\n",
    "\n",
    "Classes and Objects are basic concepts of Object Oriented Programming which revolve around the real-life entities."
   ]
  },
  {
   "cell_type": "markdown",
   "id": "33bf98d6-d854-4d5f-9935-363d4d9479de",
   "metadata": {},
   "source": [
    "## Scala Classes\n",
    "\n",
    "A `class` is a user-defined blueprint or prototype from which objects are created. Or in other words, a class combines the fields and methods into a single unit. \n",
    "\n",
    "In a `class`, Constructor is used for initializing new objects are variables that provide the state of the class and its objects, and `Methods` are used to implement the behavior of the class and its objects."
   ]
  },
  {
   "cell_type": "markdown",
   "id": "3b0a5de7-91cd-46bd-8738-8e79cf7fd672",
   "metadata": {},
   "source": [
    "### Declaration of class\n",
    "\n",
    "In Scala, a `class` declaration contains the `class keyword`, followed by an `identifier(name)` of the class.\n",
    "\n",
    "But there are some optional attributes that can be used with class declaration according to the application requirement. \n",
    "\n",
    "In general, class declarations can include these components, in order: \n",
    "* `Keyword class` : A class keyword is used to declare the type class.\n",
    "\n",
    "* `Class name` : The name should begin with a initial letter (capitalized by convention).\n",
    "\n",
    "* `Superclass`(if any) : The name of the class’s parent (superclass), if any, preceded by the keyword extends. A class can only extend (subclass) one parent.\n",
    "\n",
    "* `Traits`(if any) : A comma-separated list of traits implemented by the class, if any, preceded by the keyword extends. A class can implement more than one trait.\n",
    "\n",
    "* `Body` : The class body is surrounded by { } (curly braces)."
   ]
  },
  {
   "cell_type": "markdown",
   "id": "bb5eca59-1511-4c16-b1b7-e6ecabaa4a3c",
   "metadata": {},
   "source": [
    "Syntax : \n",
    "```scala\n",
    "class Class_name\n",
    "{\n",
    "    // methods and fields\n",
    "}\n",
    "```"
   ]
  },
  {
   "cell_type": "markdown",
   "id": "3beeb80e-4820-4b98-adfb-1d90c0a3132f",
   "metadata": {},
   "source": [
    "Note: The default modifier of the class is public."
   ]
  },
  {
   "cell_type": "code",
   "execution_count": 1,
   "id": "7ed3c795-9caf-47fe-9f3d-ae5dac4e8347",
   "metadata": {},
   "outputs": [
    {
     "data": {
      "text/plain": [
       "Intitializing Scala interpreter ..."
      ]
     },
     "metadata": {},
     "output_type": "display_data"
    },
    {
     "data": {
      "text/plain": [
       "Spark Web UI available at http://192.168.1.138:4042\n",
       "SparkContext available as 'sc' (version = 3.3.0, master = local[*], app id = local-1670237753713)\n",
       "SparkSession available as 'spark'\n"
      ]
     },
     "metadata": {},
     "output_type": "display_data"
    },
    {
     "data": {
      "text/plain": [
       "defined class Smartphone\n",
       "defined object Main\n"
      ]
     },
     "execution_count": 1,
     "metadata": {},
     "output_type": "execute_result"
    }
   ],
   "source": [
    "class Smartphone\n",
    "{\n",
    "    // Class variables\n",
    "    var number: Int = 16\n",
    "    var nameofcompany: String = \"Apple\"\n",
    "     \n",
    "    // Class method\n",
    "    def Display()\n",
    "    {\n",
    "        println(\"Name of the company : \" + nameofcompany);\n",
    "        println(\"Total number of Smartphone generation: \" + number);\n",
    "    }\n",
    "}\n",
    "\n",
    "object Main\n",
    "{\n",
    "    // Main method\n",
    "    // \"Unit\" DataType tells that the function will return \"nothing\"\n",
    "    def main(args: Array[String]): Unit =\n",
    "    {\n",
    "        // Class object\n",
    "        var obj = new Smartphone();\n",
    "        obj.Display();\n",
    "    }\n",
    "}"
   ]
  },
  {
   "cell_type": "code",
   "execution_count": 2,
   "id": "81fccf24-4d54-4cfe-ae21-2d70b7e5c4fd",
   "metadata": {},
   "outputs": [
    {
     "name": "stdout",
     "output_type": "stream",
     "text": [
      "Name of the company : Apple\n",
      "Total number of Smartphone generation: 16\n"
     ]
    }
   ],
   "source": [
    "// Calling the main method of Main object\n",
    "\n",
    "Main.main(Array(\"\"))"
   ]
  },
  {
   "cell_type": "markdown",
   "id": "cdadcee3-226b-4d0e-aad8-91b22feed32e",
   "metadata": {},
   "source": [
    "### Scala Objects\n",
    "\n",
    "It is a basic unit of Object Oriented Programming and represents the real-life entities. \n",
    "\n",
    "A typical Scala program creates many objects, which as we know, interact by invoking methods. \n",
    "\n",
    "An object consists of :\n",
    "* `State` : It is represented by attributes of an object. It also reflects the properties of an object.\n",
    "\n",
    "* `Behavior` : It is represented by methods of an object. It also reflects the response of an object with other objects.\n",
    "\n",
    "* `Identity` : It gives a unique name to an object and enables one object to interact with other objects."
   ]
  },
  {
   "cell_type": "markdown",
   "id": "8e71be62-706b-4010-b139-a4a3132b8829",
   "metadata": {},
   "source": [
    "### Declaring Objects / Instantiating a class\n",
    "\n",
    "When an object of a class is created, the class is said to be instantiated. \n",
    "\n",
    "All the instances share the attributes and the behavior of the class, But the values of those attributes, i.e. the state are unique for each object. \n",
    "\n",
    "A single class may have any number of instances.\n",
    "\n",
    "In Scala, an object of a class is created using the `new` keyword.\n",
    "\n",
    "Syntax:  \n",
    "```scala\n",
    "var obj = new Dog();\n",
    "```"
   ]
  },
  {
   "cell_type": "markdown",
   "id": "6418b73d-d830-42a1-9dbd-d187aea6f494",
   "metadata": {},
   "source": [
    "Scala also provides a feature named as `companion objects` in which you are allowed to create an object without using the `new` keyword.  "
   ]
  },
  {
   "cell_type": "markdown",
   "id": "1875e106-ef94-46c0-a770-44db1521cdb0",
   "metadata": {},
   "source": [
    "### Initializing an object\n",
    "\n",
    "The `new` operator instantiates a class by allocating memory for a new object and returning a reference to that memory.\n",
    "\n",
    "The `new` operator also invokes the class constructor."
   ]
  },
  {
   "cell_type": "code",
   "execution_count": 3,
   "id": "38ffb60f-cc00-4110-ab02-5e6a97f4b691",
   "metadata": {},
   "outputs": [
    {
     "data": {
      "text/plain": [
       "defined class Dog\n",
       "defined object Main\n"
      ]
     },
     "execution_count": 3,
     "metadata": {},
     "output_type": "execute_result"
    }
   ],
   "source": [
    "// Class with primary constructor\n",
    "class Dog(name:String, breed:String, age:Int, color:String )\n",
    "{\n",
    "    println(\"My name is : \" + name + \" & my breed is : \" + breed);\n",
    "    println(\"I am : \" + age + \" & my color is : \" + color); \n",
    "}\n",
    "\n",
    "object Main\n",
    "{\n",
    "    // Main method\n",
    "    def main()\n",
    "    { \n",
    "        // Class object\n",
    "        var obj = new Dog(\"tuffy\", \"papillon\", 5, \"white\");\n",
    "    }\n",
    "}"
   ]
  },
  {
   "cell_type": "code",
   "execution_count": 4,
   "id": "6fe52150-782e-452f-89ae-d588fec6c845",
   "metadata": {},
   "outputs": [
    {
     "name": "stdout",
     "output_type": "stream",
     "text": [
      "My name is : tuffy & my breed is : papillon\n",
      "I am : 5 & my color is : white\n"
     ]
    }
   ],
   "source": [
    "Main.main()"
   ]
  },
  {
   "cell_type": "markdown",
   "id": "09998129-2c49-44cf-8548-9b5d9ba1bb17",
   "metadata": {},
   "source": [
    "#### Explanation\n",
    "\n",
    "This class contains a single constructor. We can recognize a constructor because In Scala, the body of a class is the body of the constructor and parameter-list follows the class name. The constructor in the Dog class takes four arguments. The following statement provides “tuffy”, ”papillon”, 5, ”white” as values for those arguments.\n",
    "\n",
    "```scala\n",
    "var obj = new Dog(\"tuffy\", \"papillon\", 5, \"white\");\n",
    "```"
   ]
  },
  {
   "cell_type": "markdown",
   "id": "1d1ee182-d611-4921-9b28-68548c32de5f",
   "metadata": {},
   "source": [
    "### Anonymous object\n",
    "\n",
    "Anonymous objects are the objects that are instantiated but does not contain any reference.\n",
    "\n",
    "we can create an anonymous object when we do not want to reuse it."
   ]
  },
  {
   "cell_type": "code",
   "execution_count": 5,
   "id": "40c43f55-e501-4f7d-9a59-27871e64a2df",
   "metadata": {},
   "outputs": [
    {
     "data": {
      "text/plain": [
       "defined class Suryakant\n",
       "defined object Main\n"
      ]
     },
     "execution_count": 5,
     "metadata": {},
     "output_type": "execute_result"
    }
   ],
   "source": [
    "class Suryakant\n",
    "{\n",
    "    def display()\n",
    "    {\n",
    "        println(\"Welcome! Suryakant\");\n",
    "    }\n",
    "}\n",
    "\n",
    "object Main\n",
    "{\n",
    "    // Main method\n",
    "    def main()\n",
    "    {\n",
    "        // Creating Anonymous object of GFG class\n",
    "        new Suryakant().display();\n",
    "    }\n",
    "}"
   ]
  },
  {
   "cell_type": "code",
   "execution_count": 6,
   "id": "9c8e0ecc-836c-4c7e-8618-6ea24c2a5cbf",
   "metadata": {},
   "outputs": [
    {
     "name": "stdout",
     "output_type": "stream",
     "text": [
      "Welcome! Suryakant\n"
     ]
    }
   ],
   "source": [
    "Main.main()"
   ]
  }
 ],
 "metadata": {
  "kernelspec": {
   "display_name": "spylon-kernel",
   "language": "scala",
   "name": "spylon-kernel"
  },
  "language_info": {
   "codemirror_mode": "text/x-scala",
   "file_extension": ".scala",
   "help_links": [
    {
     "text": "MetaKernel Magics",
     "url": "https://metakernel.readthedocs.io/en/latest/source/README.html"
    }
   ],
   "mimetype": "text/x-scala",
   "name": "scala",
   "pygments_lexer": "scala",
   "version": "0.4.1"
  }
 },
 "nbformat": 4,
 "nbformat_minor": 5
}
