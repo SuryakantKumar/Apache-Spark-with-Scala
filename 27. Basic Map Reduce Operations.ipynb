{
 "cells": [
  {
   "cell_type": "markdown",
   "id": "51d2878a-4784-413e-818d-21daf4a23d23",
   "metadata": {},
   "source": [
    "## Basic Map Reduce Operations"
   ]
  },
  {
   "cell_type": "markdown",
   "id": "fff61e73-4553-4d57-8564-88e94075c591",
   "metadata": {},
   "source": [
    "* We can create range of values using `to` operator."
   ]
  },
  {
   "cell_type": "code",
   "execution_count": 1,
   "id": "75f8357b-0fce-46fb-9040-d2ee57531e0f",
   "metadata": {},
   "outputs": [
    {
     "data": {
      "text/plain": [
       "Intitializing Scala interpreter ..."
      ]
     },
     "metadata": {},
     "output_type": "display_data"
    },
    {
     "data": {
      "text/plain": [
       "Spark Web UI available at http://192.168.1.138:4043\n",
       "SparkContext available as 'sc' (version = 3.3.0, master = local[*], app id = local-1670361198781)\n",
       "SparkSession available as 'spark'\n"
      ]
     },
     "metadata": {},
     "output_type": "display_data"
    },
    {
     "data": {
      "text/plain": [
       "range: scala.collection.immutable.Range.Inclusive = Range 1 to 100\n"
      ]
     },
     "execution_count": 1,
     "metadata": {},
     "output_type": "execute_result"
    }
   ],
   "source": [
    "val range = (1 to 100)"
   ]
  },
  {
   "cell_type": "markdown",
   "id": "bf42a36d-6577-4127-b9d8-f0343924687b",
   "metadata": {},
   "source": [
    "* We can convert `range` to any other Sequence like `Array`, `List` or `Set`."
   ]
  },
  {
   "cell_type": "code",
   "execution_count": 2,
   "id": "c5cbd1aa-d4ee-4fc1-a8ef-c4c5d8f848fa",
   "metadata": {},
   "outputs": [
    {
     "data": {
      "text/plain": [
       "range_to_list: List[Int] = List(1, 2, 3, 4, 5, 6, 7, 8, 9, 10, 11, 12, 13, 14, 15, 16, 17, 18, 19, 20, 21, 22, 23, 24, 25, 26, 27, 28, 29, 30, 31, 32, 33, 34, 35, 36, 37, 38, 39, 40, 41, 42, 43, 44, 45, 46, 47, 48, 49, 50, 51, 52, 53, 54, 55, 56, 57, 58, 59, 60, 61, 62, 63, 64, 65, 66, 67, 68, 69, 70, 71, 72, 73, 74, 75, 76, 77, 78, 79, 80, 81, 82, 83, 84, 85, 86, 87, 88, 89, 90, 91, 92, 93, 94, 95, 96, 97, 98, 99, 100)\n"
      ]
     },
     "execution_count": 2,
     "metadata": {},
     "output_type": "execute_result"
    }
   ],
   "source": [
    "val range_to_list = (1 to 100).toList"
   ]
  },
  {
   "cell_type": "code",
   "execution_count": 3,
   "id": "d775e77a-c961-4153-984a-15ebb055e1e6",
   "metadata": {},
   "outputs": [
    {
     "data": {
      "text/plain": [
       "range_to_array: Array[Int] = Array(1, 2, 3, 4, 5, 6, 7, 8, 9, 10, 11, 12, 13, 14, 15, 16, 17, 18, 19, 20, 21, 22, 23, 24, 25, 26, 27, 28, 29, 30, 31, 32, 33, 34, 35, 36, 37, 38, 39, 40, 41, 42, 43, 44, 45, 46, 47, 48, 49, 50, 51, 52, 53, 54, 55, 56, 57, 58, 59, 60, 61, 62, 63, 64, 65, 66, 67, 68, 69, 70, 71, 72, 73, 74, 75, 76, 77, 78, 79, 80, 81, 82, 83, 84, 85, 86, 87, 88, 89, 90, 91, 92, 93, 94, 95, 96, 97, 98, 99, 100)\n"
      ]
     },
     "execution_count": 3,
     "metadata": {},
     "output_type": "execute_result"
    }
   ],
   "source": [
    "val range_to_array = (1 to 100).toArray"
   ]
  },
  {
   "cell_type": "code",
   "execution_count": 4,
   "id": "11c22523-5191-4ae6-b718-3135b4311163",
   "metadata": {},
   "outputs": [
    {
     "data": {
      "text/plain": [
       "range_to_set: scala.collection.immutable.Set[Int] = Set(69, 88, 5, 10, 56, 42, 24, 37, 25, 52, 14, 20, 46, 93, 57, 78, 29, 84, 61, 89, 1, 74, 6, 60, 85, 28, 38, 70, 21, 33, 92, 65, 97, 9, 53, 77, 96, 13, 41, 73, 2, 32, 34, 45, 64, 17, 22, 44, 59, 27, 71, 12, 54, 49, 86, 81, 76, 7, 39, 98, 91, 66, 3, 80, 35, 48, 63, 18, 95, 50, 67, 16, 31, 11, 72, 43, 99, 87, 40, 26, 55, 23, 8, 75, 58, 82, 36, 30, 51, 19, 4, 79, 94, 47, 15, 68, 62, 90, 83, 100)\n"
      ]
     },
     "execution_count": 4,
     "metadata": {},
     "output_type": "execute_result"
    }
   ],
   "source": [
    "val range_to_set = (1 to 100).toSet"
   ]
  },
  {
   "cell_type": "markdown",
   "id": "7b69c776-b262-4606-8bc3-2530cf203e1b",
   "metadata": {},
   "source": [
    "* Any `Row` level transformations like `filtering` comes under `Map` operation.\n",
    "\n",
    "* Any transformation like `Join`, `aggregation` comes under `Reduce` operation."
   ]
  },
  {
   "cell_type": "code",
   "execution_count": 5,
   "id": "4ef7c03f-d985-472f-8afa-54afd4bc8eb1",
   "metadata": {},
   "outputs": [
    {
     "data": {
      "text/plain": [
       "main: (args: Array[String])Int\n"
      ]
     },
     "execution_count": 5,
     "metadata": {},
     "output_type": "execute_result"
    }
   ],
   "source": [
    "// Get Sum of Squares of all even numbers till 100\n",
    "\n",
    "def main(args: Array[String]) : Int =\n",
    "{\n",
    "    val l = (1 to 100).toList\n",
    "    \n",
    "    val f = l.filter(ele => ele % 2 == 0)    // filter takes a function with one argument\n",
    "    \n",
    "    val m = f.map(rec => rec * rec)    // map takes a function with one argument\n",
    "    \n",
    "    // val r = m.sum\n",
    "    val r = m.reduce((total, ele) => total + ele) // reduce takes a function with two arguments\n",
    "    \n",
    "    return r\n",
    "}"
   ]
  },
  {
   "cell_type": "code",
   "execution_count": 6,
   "id": "93fa8a67-eb7e-4ba9-b8a8-8cc03781a5fc",
   "metadata": {},
   "outputs": [
    {
     "data": {
      "text/plain": [
       "res0: Int = 171700\n"
      ]
     },
     "execution_count": 6,
     "metadata": {},
     "output_type": "execute_result"
    }
   ],
   "source": [
    "main(Array(\"\"))"
   ]
  },
  {
   "cell_type": "markdown",
   "id": "22b9eccf-d418-45ed-b294-081a91a7d9aa",
   "metadata": {},
   "source": [
    "### Sorting Sequence\n",
    "\n",
    "* We can use `Sorted` method to Sort the Sequences."
   ]
  },
  {
   "cell_type": "code",
   "execution_count": 7,
   "id": "3082ebed-0f9a-4c5f-92c9-13c972d7bed4",
   "metadata": {},
   "outputs": [
    {
     "data": {
      "text/plain": [
       "l: scala.collection.immutable.Set[Int] = Set(0, -3, 50, 11, 8, 100)\n"
      ]
     },
     "execution_count": 7,
     "metadata": {},
     "output_type": "execute_result"
    }
   ],
   "source": [
    "val l = Set(100, 50, 0, -3, 8 , 11)"
   ]
  },
  {
   "cell_type": "code",
   "execution_count": 8,
   "id": "8f617126-ee21-43d5-94f5-048c4febd829",
   "metadata": {},
   "outputs": [
    {
     "ename": "<console>",
     "evalue": "28: error: value sorted is not a member of scala.collection.immutable.Set[Int]",
     "output_type": "error",
     "traceback": [
      "<console>:28: error: value sorted is not a member of scala.collection.immutable.Set[Int]",
      "       l.sorted",
      "         ^",
      ""
     ]
    }
   ],
   "source": [
    "// Can't sort a Set\n",
    "\n",
    "l.sorted"
   ]
  },
  {
   "cell_type": "code",
   "execution_count": 9,
   "id": "716da60e-c9d1-4057-bda9-570600c6caaf",
   "metadata": {},
   "outputs": [
    {
     "data": {
      "text/plain": [
       "res2: Array[Int] = Array(-3, 0, 8, 11, 50, 100)\n"
      ]
     },
     "execution_count": 9,
     "metadata": {},
     "output_type": "execute_result"
    }
   ],
   "source": [
    "// TypeCast the Set to Array and Sort\n",
    "\n",
    "l.toArray.sorted"
   ]
  },
  {
   "cell_type": "code",
   "execution_count": 10,
   "id": "e512e639-a948-4bf6-a779-267bb9efe667",
   "metadata": {},
   "outputs": [
    {
     "data": {
      "text/plain": [
       "res3: List[Int] = List(-3, 0, 8, 11, 50, 100)\n"
      ]
     },
     "execution_count": 10,
     "metadata": {},
     "output_type": "execute_result"
    }
   ],
   "source": [
    "// TypeCast the Set to List and Sort\n",
    "\n",
    "l.toList.sorted"
   ]
  },
  {
   "cell_type": "markdown",
   "id": "0a0bfa2e-c311-4741-8162-70b3b080faf0",
   "metadata": {},
   "source": [
    "### Problem : Find Revenue from each order of order id as 2"
   ]
  },
  {
   "cell_type": "code",
   "execution_count": 11,
   "id": "4f4ea99c-5973-47f5-9114-8f9bd3905903",
   "metadata": {},
   "outputs": [
    {
     "data": {
      "text/plain": [
       "import scala.io.Source\n",
       "orderItems: List[String] = List(1,1,957,1,299.98,299.98, 2,2,1073,1,199.99,199.99, 3,2,502,5,250.0,50.0, 4,2,403,1,129.99,129.99, 5,4,897,2,49.98,24.99, 6,4,365,5,299.95,59.99, 7,4,502,3,150.0,50.0, 8,4,1014,4,199.92,49.98, 9,5,957,1,299.98,299.98, 10,5,365,5,299.95,59.99, 11,5,1014,2,99.96,49.98, 12,5,957,1,299.98,299.98, 13,5,403,1,129.99,129.99, 14,7,1073,1,199.99,199.99, 15,7,957,1,299.98,299.98, 16,7,926,5,79.95,15.99, 17,8,365,3,179.97,59.99, 18,8,365,5,299.95,59.99, 19,8,1014,4,199.92,49.98, 20,8,502,1,50.0,50.0, 21,9,191,2,199.98,99.99, 22,9,1073,1,199.99,199.99, 23,9,1073,1,199.99,199.99, 24,10,1073,1,199.99,199.99, 25,10,1014,2,99.96,49.98, 26,10,403,1,129.99,129.99, 27,10,917,1,21.99,21.99, 28,10,1073,1,199.99,199.99, 29,11,365,1,59.99,59.99, 30,11,627,...\n"
      ]
     },
     "execution_count": 11,
     "metadata": {},
     "output_type": "execute_result"
    }
   ],
   "source": [
    "import scala.io.Source\n",
    "\n",
    "// Read file and convert it into list\n",
    "val orderItems = Source.fromFile(\"data/retail_db/order_items/part-00000\").getLines.toList"
   ]
  },
  {
   "cell_type": "code",
   "execution_count": 12,
   "id": "4b198371-121a-41f6-a1a9-1a16073b46e2",
   "metadata": {},
   "outputs": [
    {
     "data": {
      "text/plain": [
       "orderItemsFilter: List[String] = List(2,2,1073,1,199.99,199.99, 3,2,502,5,250.0,50.0, 4,2,403,1,129.99,129.99)\n"
      ]
     },
     "execution_count": 12,
     "metadata": {},
     "output_type": "execute_result"
    }
   ],
   "source": [
    "// Filter all those items having order id = 2\n",
    "val orderItemsFilter = orderItems.filter(orderItem => orderItem.split(\",\")(1).toInt == 2)"
   ]
  },
  {
   "cell_type": "code",
   "execution_count": 13,
   "id": "9649fc58-6524-4f28-89a9-b1fb659a48f6",
   "metadata": {},
   "outputs": [
    {
     "data": {
      "text/plain": [
       "orderItemsMap: List[Float] = List(199.99, 250.0, 129.99)\n"
      ]
     },
     "execution_count": 13,
     "metadata": {},
     "output_type": "execute_result"
    }
   ],
   "source": [
    "// Map all the mrp for order id = 2\n",
    "val orderItemsMap = orderItemsFilter.map(orderItem => orderItem.split(\",\")(4).toFloat)"
   ]
  },
  {
   "cell_type": "code",
   "execution_count": 14,
   "id": "ef5e43cd-0902-423c-a9d9-77a2c1064bd9",
   "metadata": {},
   "outputs": [
    {
     "data": {
      "text/plain": [
       "res4: Float = 579.98\n"
      ]
     },
     "execution_count": 14,
     "metadata": {},
     "output_type": "execute_result"
    }
   ],
   "source": [
    "// Total Revenue using sum method\n",
    "orderItemsMap.sum"
   ]
  },
  {
   "cell_type": "code",
   "execution_count": 15,
   "id": "856c7b79-c217-4f20-a7e6-a795269e8cbf",
   "metadata": {},
   "outputs": [
    {
     "data": {
      "text/plain": [
       "res5: Float = 579.98\n"
      ]
     },
     "execution_count": 15,
     "metadata": {},
     "output_type": "execute_result"
    }
   ],
   "source": [
    "// Total Revenue using Reduce Operation\n",
    "orderItemsMap.reduce((total, orderItemSubtotal) => total + orderItemSubtotal)"
   ]
  },
  {
   "cell_type": "markdown",
   "id": "9cee257c-9300-4822-874b-bc72e4eca3a5",
   "metadata": {},
   "source": [
    "#### Solution using `_` function"
   ]
  },
  {
   "cell_type": "code",
   "execution_count": 16,
   "id": "2b8e5c6a-a211-44be-a3ae-5212505c5484",
   "metadata": {},
   "outputs": [
    {
     "data": {
      "text/plain": [
       "import scala.io.Source\n",
       "orderItems: List[String] = List(1,1,957,1,299.98,299.98, 2,2,1073,1,199.99,199.99, 3,2,502,5,250.0,50.0, 4,2,403,1,129.99,129.99, 5,4,897,2,49.98,24.99, 6,4,365,5,299.95,59.99, 7,4,502,3,150.0,50.0, 8,4,1014,4,199.92,49.98, 9,5,957,1,299.98,299.98, 10,5,365,5,299.95,59.99, 11,5,1014,2,99.96,49.98, 12,5,957,1,299.98,299.98, 13,5,403,1,129.99,129.99, 14,7,1073,1,199.99,199.99, 15,7,957,1,299.98,299.98, 16,7,926,5,79.95,15.99, 17,8,365,3,179.97,59.99, 18,8,365,5,299.95,59.99, 19,8,1014,4,199.92,49.98, 20,8,502,1,50.0,50.0, 21,9,191,2,199.98,99.99, 22,9,1073,1,199.99,199.99, 23,9,1073,1,199.99,199.99, 24,10,1073,1,199.99,199.99, 25,10,1014,2,99.96,49.98, 26,10,403,1,129.99,129.99, 27,10,917,1,21.99,21.99, 28,10,1073,1,199.99,199.99, 29,11,365,1,59.99,59.99, 30,11,627,...\n"
      ]
     },
     "execution_count": 16,
     "metadata": {},
     "output_type": "execute_result"
    }
   ],
   "source": [
    "import scala.io.Source\n",
    "\n",
    "// Read file and convert it into list\n",
    "val orderItems = Source.fromFile(\"data/retail_db/order_items/part-00000\").getLines.toList"
   ]
  },
  {
   "cell_type": "code",
   "execution_count": 17,
   "id": "841e95c8-7c1a-4ac4-a87a-f22c77eed7fd",
   "metadata": {},
   "outputs": [
    {
     "data": {
      "text/plain": [
       "orderItemsFilter: List[String] = List(2,2,1073,1,199.99,199.99, 3,2,502,5,250.0,50.0, 4,2,403,1,129.99,129.99)\n"
      ]
     },
     "execution_count": 17,
     "metadata": {},
     "output_type": "execute_result"
    }
   ],
   "source": [
    "// Filter all those items having order id = 2\n",
    "val orderItemsFilter = orderItems.filter(_.split(\",\")(1).toInt == 2)"
   ]
  },
  {
   "cell_type": "code",
   "execution_count": 18,
   "id": "3850c204-2efa-42f1-82f2-c4798266b7c3",
   "metadata": {},
   "outputs": [
    {
     "data": {
      "text/plain": [
       "orderItemsMap: List[Float] = List(199.99, 250.0, 129.99)\n"
      ]
     },
     "execution_count": 18,
     "metadata": {},
     "output_type": "execute_result"
    }
   ],
   "source": [
    "// Map all the mrp for order id = 2\n",
    "val orderItemsMap = orderItemsFilter.map(_.split(\",\")(4).toFloat)"
   ]
  },
  {
   "cell_type": "code",
   "execution_count": 19,
   "id": "aefe58fa-313b-4ee3-aca5-5878a4160a9f",
   "metadata": {},
   "outputs": [
    {
     "data": {
      "text/plain": [
       "res6: Float = 579.98\n"
      ]
     },
     "execution_count": 19,
     "metadata": {},
     "output_type": "execute_result"
    }
   ],
   "source": [
    "// Total Revenue using Reduce Operation\n",
    "orderItemsMap.reduce(_ + _)"
   ]
  }
 ],
 "metadata": {
  "kernelspec": {
   "display_name": "spylon-kernel",
   "language": "scala",
   "name": "spylon-kernel"
  },
  "language_info": {
   "codemirror_mode": "text/x-scala",
   "file_extension": ".scala",
   "help_links": [
    {
     "text": "MetaKernel Magics",
     "url": "https://metakernel.readthedocs.io/en/latest/source/README.html"
    }
   ],
   "mimetype": "text/x-scala",
   "name": "scala",
   "pygments_lexer": "scala",
   "version": "0.4.1"
  }
 },
 "nbformat": 4,
 "nbformat_minor": 5
}
