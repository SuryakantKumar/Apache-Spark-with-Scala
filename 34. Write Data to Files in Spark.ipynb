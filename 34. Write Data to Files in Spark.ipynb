{
 "cells": [
  {
   "cell_type": "markdown",
   "id": "a3b9a185-318e-4606-8148-5f3dd1056d35",
   "metadata": {},
   "source": [
    "## Spark Write APIs\n",
    "\n",
    "* All the batch write APIs are grouped under `write` which is exposed to DataFrame objects.\n",
    "\n",
    "    * `text` - to write single column data to text files.\n",
    "\n",
    "    * `csv` - to write to text files with delimiters. Default is a comma, but we can use other delimiters as well.\n",
    "\n",
    "    * `json` - to write data to JSON files.\n",
    "\n",
    "    * `orc` - to write data to ORC files.\n",
    "\n",
    "    * `parquet` - to write data to Parquet files.\n",
    "\n",
    "* We can also write data to other file formats by plugging in and by using `write.format`, for example **avro**\n",
    "\n",
    "* We can use options based on the type using which we are writing the DataFrame to :\n",
    "\n",
    "    * `compression` - Compression codec (`gzip`, `snappy` etc)\n",
    "\n",
    "    * `sep` - to specify delimiters while writing into text files using **csv**\n",
    "\n",
    "* We can `overwrite` the directories or `append` to existing directories using `mode`\n",
    "\n",
    "* Create copy of orders data in **parquet** file format with no compression. If the folder already exists overwrite it. Target Location: **/user/[YOUR_USER_NAME]/retail_db/orders**\n",
    "\n",
    "* When you pass `options`, if there are typos then options will be ignored rather than failing. Be careful and make sure that output is validated.\n",
    "\n",
    "* By default the number of files in the output directory is equal to number of tasks that are used to process the data in the last stage. However, we might want to control number of files so that we don't run into too many small files issue.\n",
    "\n",
    "* We can control number of files by using `coalesce`. It has to be invoked on top of DataFrame before invoking `write`."
   ]
  },
  {
   "cell_type": "code",
   "execution_count": 1,
   "id": "86fba5ae-ed5a-4693-9fcd-d6b8a3ee177b",
   "metadata": {},
   "outputs": [
    {
     "data": {
      "text/plain": [
       "Intitializing Scala interpreter ..."
      ]
     },
     "metadata": {},
     "output_type": "display_data"
    },
    {
     "data": {
      "text/plain": [
       "Spark Web UI available at http://192.168.1.138:4043\n",
       "SparkContext available as 'sc' (version = 3.3.0, master = local[*], app id = local-1670450734246)\n",
       "SparkSession available as 'spark'\n"
      ]
     },
     "metadata": {},
     "output_type": "display_data"
    },
    {
     "data": {
      "text/plain": [
       "orders: org.apache.spark.sql.DataFrame = [order_id: int, order_date: string ... 2 more fields]\n"
      ]
     },
     "execution_count": 1,
     "metadata": {},
     "output_type": "execute_result"
    }
   ],
   "source": [
    "val orders = spark.read\n",
    "                  .schema(\"\"\"order_id INT, \n",
    "                             order_date STRING, \n",
    "                             order_customer_id INT, \n",
    "                             order_status STRING\"\"\")\n",
    "                  .csv(\"data/retail_db/orders/part-00000.csv\")"
   ]
  },
  {
   "cell_type": "code",
   "execution_count": 2,
   "id": "8f06977f-458a-4425-a513-6f5760f2a3e5",
   "metadata": {},
   "outputs": [
    {
     "name": "stdout",
     "output_type": "stream",
     "text": [
      "+--------+---------------------+-----------------+---------------+\n",
      "|order_id|order_date           |order_customer_id|order_status   |\n",
      "+--------+---------------------+-----------------+---------------+\n",
      "|1       |2013-07-25 00:00:00.0|11599            |CLOSED         |\n",
      "|2       |2013-07-25 00:00:00.0|256              |PENDING_PAYMENT|\n",
      "|3       |2013-07-25 00:00:00.0|12111            |COMPLETE       |\n",
      "|4       |2013-07-25 00:00:00.0|8827             |CLOSED         |\n",
      "|5       |2013-07-25 00:00:00.0|11318            |COMPLETE       |\n",
      "+--------+---------------------+-----------------+---------------+\n",
      "only showing top 5 rows\n",
      "\n"
     ]
    }
   ],
   "source": [
    "orders.show(5, truncate=false)"
   ]
  },
  {
   "cell_type": "markdown",
   "id": "ec1e9436-c0f1-44d4-a936-70a4982b6917",
   "metadata": {},
   "source": [
    "#### **Validate mode of compression**"
   ]
  },
  {
   "cell_type": "code",
   "execution_count": 3,
   "id": "7cdfa771-e2f7-46a3-a169-c384544948bf",
   "metadata": {},
   "outputs": [
    {
     "data": {
      "text/plain": [
       "res1: String = snappy\n"
      ]
     },
     "execution_count": 3,
     "metadata": {},
     "output_type": "execute_result"
    }
   ],
   "source": [
    "spark.conf.get(\"spark.sql.parquet.compression.codec\")"
   ]
  },
  {
   "cell_type": "markdown",
   "id": "8b95eac1-ffbc-4177-8f04-4a898709be72",
   "metadata": {},
   "source": [
    "### Write Data in CSV File"
   ]
  },
  {
   "cell_type": "markdown",
   "id": "272a6b0d-4e28-486b-8b2e-425e8f4dc47e",
   "metadata": {},
   "source": [
    "#### **Uncompressed File**"
   ]
  },
  {
   "cell_type": "code",
   "execution_count": 4,
   "id": "967b819a-d2c1-4495-aed0-48d64b881db4",
   "metadata": {},
   "outputs": [],
   "source": [
    "orders.write\n",
    "      .mode(\"overwrite\")\n",
    "      .option(\"compression\", \"none\")\n",
    "      .csv(\"./data/write/orders\")"
   ]
  },
  {
   "cell_type": "markdown",
   "id": "51258d76-be42-4ac5-8acc-63c096e99b38",
   "metadata": {},
   "source": [
    "#### **Compressed File**"
   ]
  },
  {
   "cell_type": "code",
   "execution_count": 5,
   "id": "cb8fb4bc-185d-432f-9702-a2de377f7c2b",
   "metadata": {},
   "outputs": [],
   "source": [
    "orders.write\n",
    "      .mode(\"append\")\n",
    "      .option(\"compression\", \"gzip\")\n",
    "      .csv(\"./data/write/orders\")"
   ]
  },
  {
   "cell_type": "markdown",
   "id": "2d2b9600-80f7-4f42-8764-a9c72cefc5bc",
   "metadata": {},
   "source": [
    "#### **Using Format**"
   ]
  },
  {
   "cell_type": "code",
   "execution_count": 6,
   "id": "55891024-a30c-49c9-a5a0-16cb96acd8fc",
   "metadata": {},
   "outputs": [],
   "source": [
    "orders.write\n",
    "      .mode(\"append\")\n",
    "      .option(\"compression\", \"gzip\")\n",
    "      .format(\"csv\")\n",
    "      .save(\"./data/write/orders\")"
   ]
  },
  {
   "cell_type": "markdown",
   "id": "d10268fd-7bc6-4158-9305-1787685be228",
   "metadata": {},
   "source": [
    "### Write Data in Parquet File"
   ]
  },
  {
   "cell_type": "markdown",
   "id": "039f0d62-6a82-4d46-be39-8a57d8a23d1a",
   "metadata": {},
   "source": [
    "#### **Uncompressed File**"
   ]
  },
  {
   "cell_type": "code",
   "execution_count": 7,
   "id": "a5b204a3-e405-4fa8-b1f5-d632675a6d67",
   "metadata": {},
   "outputs": [],
   "source": [
    "orders.write\n",
    "      .mode(\"append\")\n",
    "      .option(\"compression\", \"none\")\n",
    "      .parquet(\"./data/write/orders\")"
   ]
  },
  {
   "cell_type": "markdown",
   "id": "3eaa0d26-025a-496d-ad3f-2e3fde64ec9e",
   "metadata": {},
   "source": [
    "#### **Compressed File**"
   ]
  },
  {
   "cell_type": "code",
   "execution_count": 8,
   "id": "d9d3c8b1-89a3-4540-82e1-deb31cb00602",
   "metadata": {},
   "outputs": [],
   "source": [
    "orders.write\n",
    "      .mode(\"append\")\n",
    "      .option(\"compression\", \"gzip\")\n",
    "      .parquet(\"./data/write/orders\")"
   ]
  },
  {
   "cell_type": "markdown",
   "id": "a6dd2e48-811c-4ff2-87da-72455e44e5fc",
   "metadata": {},
   "source": [
    "#### **Using Format**"
   ]
  },
  {
   "cell_type": "code",
   "execution_count": 9,
   "id": "e025a711-1eed-41f2-800b-3ed55c741487",
   "metadata": {},
   "outputs": [],
   "source": [
    "orders.write\n",
    "      .mode(\"append\")\n",
    "      .option(\"compression\", \"gzip\")\n",
    "      .format(\"parquet\")\n",
    "      .save(\"./data/write/orders\")"
   ]
  },
  {
   "cell_type": "markdown",
   "id": "88df6828-c7b7-42cf-b186-510e9c133dcf",
   "metadata": {},
   "source": [
    "#### **Limit Number of Files using `coalesce`**"
   ]
  },
  {
   "cell_type": "code",
   "execution_count": 10,
   "id": "f18d7441-eb5e-48bd-828d-fa0261f7cd09",
   "metadata": {},
   "outputs": [],
   "source": [
    "orders.coalesce(1)\n",
    "      .write\n",
    "      .mode(\"append\")\n",
    "      .option(\"compression\", \"gzip\")\n",
    "      .format(\"parquet\")\n",
    "      .save(\"./data/write/orders\")"
   ]
  }
 ],
 "metadata": {
  "kernelspec": {
   "display_name": "spylon-kernel",
   "language": "scala",
   "name": "spylon-kernel"
  },
  "language_info": {
   "codemirror_mode": "text/x-scala",
   "file_extension": ".scala",
   "help_links": [
    {
     "text": "MetaKernel Magics",
     "url": "https://metakernel.readthedocs.io/en/latest/source/README.html"
    }
   ],
   "mimetype": "text/x-scala",
   "name": "scala",
   "pygments_lexer": "scala",
   "version": "0.4.1"
  }
 },
 "nbformat": 4,
 "nbformat_minor": 5
}
