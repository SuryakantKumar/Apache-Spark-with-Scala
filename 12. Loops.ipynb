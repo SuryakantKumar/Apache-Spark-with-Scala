{
 "cells": [
  {
   "cell_type": "markdown",
   "id": "43ae9290-762b-4e59-8c90-d395dcfdc588",
   "metadata": {},
   "source": [
    "## Loops in Scala\n",
    "\n",
    "Looping in programming languages is a feature which facilitates the execution of a set of instructions/functions repeatedly while some condition evaluates to true. \n",
    "\n",
    "Scala provides the different types of loop to handle the condition based situation in the program. The loops in Scala are :\n",
    "\n",
    "* `while` Loop\n",
    "* `do..while` Loop\n",
    "* `for` Loop\n",
    "* Nested Loops"
   ]
  },
  {
   "cell_type": "markdown",
   "id": "db1bef76-a2d2-4330-b8fb-68faad10afea",
   "metadata": {},
   "source": [
    "### while Loop\n",
    "\n",
    "A `while` loop generally takes a condition in parenthesis. If the condition is True then, the code within the body of the while loop is executed. \n",
    "\n",
    "A `while` loop is used when we don’t know the number of times we want the loop to be executed, however we know the termination condition of the loop. \n",
    "\n",
    "It is also known as an `entry controlled` loop as the condition is checked before executing the loop. \n",
    "\n",
    "The `while` loop can be thought of as a `repeating if` statement.\n",
    "\n",
    "Syntax: \n",
    "```scala\n",
    "while (condition)\n",
    "{\n",
    "    // Code to be executed\n",
    "}\n",
    "```"
   ]
  },
  {
   "cell_type": "code",
   "execution_count": 1,
   "id": "3f2dab30-e52c-4a09-b1da-25859f51b4e1",
   "metadata": {},
   "outputs": [
    {
     "data": {
      "text/plain": [
       "Intitializing Scala interpreter ..."
      ]
     },
     "metadata": {},
     "output_type": "display_data"
    },
    {
     "data": {
      "text/plain": [
       "Spark Web UI available at http://192.168.29.42:4042\n",
       "SparkContext available as 'sc' (version = 3.3.0, master = local[*], app id = local-1669987532067)\n",
       "SparkSession available as 'spark'\n"
      ]
     },
     "metadata": {},
     "output_type": "display_data"
    },
    {
     "name": "stdout",
     "output_type": "stream",
     "text": [
      "Value of x: 1\n",
      "Value of x: 2\n",
      "Value of x: 3\n",
      "Value of x: 4\n"
     ]
    },
    {
     "data": {
      "text/plain": [
       "x: Int = 5\n"
      ]
     },
     "execution_count": 1,
     "metadata": {},
     "output_type": "execute_result"
    }
   ],
   "source": [
    "var x = 1;\n",
    "\n",
    "while (x <= 4)\n",
    "{\n",
    "    println(\"Value of x: \" + x);\n",
    "\n",
    "    x = x + 1;\n",
    "}"
   ]
  },
  {
   "cell_type": "markdown",
   "id": "80381b4a-39ad-4c74-b1cd-a0447dfbee2b",
   "metadata": {},
   "source": [
    "### Infinite While Loop\n",
    "\n",
    "While loop can execute infinite times which means there is no terminating condition for this loop. \n",
    "\n",
    "In other words, we can say there are some conditions which always remain `true`, which causes while loop to execute infinite times or we can say it never terminates.\n",
    "\n",
    "Program :\n",
    "```scala\n",
    "var x = 1;\n",
    "\n",
    "// this loop will never terminate\n",
    "while (x < 5)\n",
    "{\n",
    "    println(\"Suryakant\")\n",
    "}\n",
    "```"
   ]
  },
  {
   "cell_type": "markdown",
   "id": "18b8a06d-b0e4-4bf4-a021-40ebf4701479",
   "metadata": {},
   "source": [
    "### do..while Loop\n",
    "\n",
    "A `do..while` loop is almost same as a while loop. The only difference is that do..while loop runs at least one time. \n",
    "\n",
    "The condition is checked after the first execution. A `do..while loop` is used when we want the loop to run at least one time. \n",
    "\n",
    "It is also known as the `exit controlled` loop as the condition is checked after executing the loop.\n",
    "\n",
    "Syntax :\n",
    "```scala\n",
    "do \n",
    "{\n",
    "    // statements to be Executed\n",
    "} while(condition);\n",
    "```"
   ]
  },
  {
   "cell_type": "code",
   "execution_count": 2,
   "id": "cb9bc7bf-e0f4-4d03-9be0-9f689ec700ec",
   "metadata": {},
   "outputs": [
    {
     "name": "stdout",
     "output_type": "stream",
     "text": [
      "10 9 8 7 6 5 4 3 2 1 "
     ]
    },
    {
     "data": {
      "text/plain": [
       "a: Int = 0\n"
      ]
     },
     "execution_count": 2,
     "metadata": {},
     "output_type": "execute_result"
    }
   ],
   "source": [
    "var a = 10;\n",
    "\n",
    "do\n",
    "{\n",
    "    print(a + \" \");\n",
    "    a = a - 1;\n",
    "} while(a > 0);"
   ]
  },
  {
   "cell_type": "markdown",
   "id": "cec2e861-0da5-4d98-97b4-85ca9869471a",
   "metadata": {},
   "source": [
    "### for Loop\n",
    "\n",
    "`for` loops are preferred when the number of times loop statements are to be executed is known beforehand.\n",
    "\n",
    "Basically, it is a repetition control structure which allows the programmer to write a loop that needs to execute a particular number of times.\n",
    "\n",
    "Syntax :\n",
    "```scala\n",
    "// for loop execution with range\n",
    "for(range_index <- a to b)\n",
    "{\n",
    "     // statements to be Executed\n",
    "}\n",
    "```"
   ]
  },
  {
   "cell_type": "code",
   "execution_count": 3,
   "id": "d87599ab-e1bc-416a-b03e-5579d8f2aae3",
   "metadata": {},
   "outputs": [
    {
     "name": "stdout",
     "output_type": "stream",
     "text": [
      "Value of y is: 1\n",
      "Value of y is: 2\n",
      "Value of y is: 3\n",
      "Value of y is: 4\n",
      "Value of y is: 5\n",
      "Value of y is: 6\n",
      "Value of y is: 7\n"
     ]
    }
   ],
   "source": [
    "for(y <- 1 to 7)\n",
    "{\n",
    "     println(\"Value of y is: \" + y);\n",
    "}"
   ]
  },
  {
   "cell_type": "code",
   "execution_count": 4,
   "id": "fb612a62-ef4e-4551-a7dd-c2e18834b066",
   "metadata": {},
   "outputs": [
    {
     "name": "stdout",
     "output_type": "stream",
     "text": [
      "Value of y is: 0\n",
      "Value of y is: 1\n",
      "Value of y is: 2\n",
      "Value of y is: 3\n",
      "Value of y is: 4\n"
     ]
    }
   ],
   "source": [
    "for (x <- 0 until 5)\n",
    "{\n",
    "    println(\"Value of y is: \" + x);\n",
    "}"
   ]
  },
  {
   "cell_type": "markdown",
   "id": "f4e1d705-6474-49ec-bb00-6a59fbe65582",
   "metadata": {},
   "source": [
    "### Nested Loops\n",
    "\n",
    "The loop which contains a loop inside a loop is known as the nested loop. \n",
    "\n",
    "It can contain the for loop inside a for loop or, a while loop inside a while loop. \n",
    "\n",
    "It is also possible that a while loop can contain the for loop and vice-versa."
   ]
  },
  {
   "cell_type": "code",
   "execution_count": 5,
   "id": "908d50c1-1995-4437-8f27-fc751a51226e",
   "metadata": {},
   "outputs": [
    {
     "name": "stdout",
     "output_type": "stream",
     "text": [
      "(Value of a = 5, b = 0)\n",
      "(Value of a = 5, b = 1)\n",
      "(Value of a = 5, b = 2)\n",
      "(Value of a = 5, b = 3)\n",
      "(Value of a = 5, b = 4)\n",
      "(Value of a = 5, b = 5)\n",
      "(Value of a = 5, b = 6)\n",
      "\n",
      "Value of a Become: 6\n",
      "\n",
      "(Value of a = 6, b = 0)\n",
      "(Value of a = 6, b = 1)\n",
      "(Value of a = 6, b = 2)\n",
      "(Value of a = 6, b = 3)\n",
      "(Value of a = 6, b = 4)\n",
      "(Value of a = 6, b = 5)\n",
      "(Value of a = 6, b = 6)\n",
      "\n",
      "Value of a Become: 7\n",
      "\n"
     ]
    },
    {
     "data": {
      "text/plain": [
       "a: Int = 7\n",
       "b: Int = 7\n"
      ]
     },
     "execution_count": 5,
     "metadata": {},
     "output_type": "execute_result"
    }
   ],
   "source": [
    "var a = 5;\n",
    "var b = 0;\n",
    "\n",
    "while (a < 7)\n",
    "{\n",
    "    b = 0;\n",
    "    while (b < 7)\n",
    "    {\n",
    "        println(\"Value of a = \" + a, \" b = \" + b);\n",
    "        b = b + 1;\n",
    "    }\n",
    "    println()\n",
    "    a = a + 1;\n",
    "    println(\"Value of a Become: \" + a);\n",
    "    println()\n",
    "}"
   ]
  },
  {
   "cell_type": "code",
   "execution_count": 6,
   "id": "8496e98b-0c7a-4090-bd57-7b55d00d8913",
   "metadata": {},
   "outputs": [
    {
     "name": "stdout",
     "output_type": "stream",
     "text": [
      "(0,0)\n",
      "(0,1)\n",
      "(1,0)\n",
      "(1,1)\n",
      "(2,0)\n",
      "(2,1)\n",
      "(3,0)\n",
      "(3,1)\n",
      "(4,0)\n",
      "(4,1)\n"
     ]
    }
   ],
   "source": [
    "for (i <- 0 until 5)\n",
    "{\n",
    "    for (j <- 0 until 2)\n",
    "    {\n",
    "        println(i, j)\n",
    "    }\n",
    "}"
   ]
  },
  {
   "cell_type": "code",
   "execution_count": 7,
   "id": "db4d2630-8e9e-46aa-9efa-1b41bbbd2488",
   "metadata": {},
   "outputs": [
    {
     "name": "stdout",
     "output_type": "stream",
     "text": [
      "(0,0)\n",
      "(0,1)\n",
      "(1,0)\n",
      "(1,1)\n",
      "(2,0)\n",
      "(2,1)\n",
      "(3,0)\n",
      "(3,1)\n",
      "(4,0)\n",
      "(4,1)\n"
     ]
    }
   ],
   "source": [
    "for (i <- 0 until 5; j <- 0 until 2)\n",
    "{\n",
    "    println(i, j)\n",
    "}"
   ]
  }
 ],
 "metadata": {
  "kernelspec": {
   "display_name": "spylon-kernel",
   "language": "scala",
   "name": "spylon-kernel"
  },
  "language_info": {
   "codemirror_mode": "text/x-scala",
   "file_extension": ".scala",
   "help_links": [
    {
     "text": "MetaKernel Magics",
     "url": "https://metakernel.readthedocs.io/en/latest/source/README.html"
    }
   ],
   "mimetype": "text/x-scala",
   "name": "scala",
   "pygments_lexer": "scala",
   "version": "0.4.1"
  }
 },
 "nbformat": 4,
 "nbformat_minor": 5
}
